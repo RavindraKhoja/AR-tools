{
 "cells": [
  {
   "cell_type": "markdown",
   "metadata": {},
   "source": [
    "### Find the vertices of the `stoich_subspace()` "
   ]
  },
  {
   "cell_type": "markdown",
   "metadata": {},
   "source": [
    "The stoichiometric subspace is a region in concentration space wherein all feasible concentrations must lie.  It forms the upper bounds in concentration space in which the true attainable region must lie. This region originates from the feed point and it must obey reaction stoichiometry. Thus, it is typically much larger than the set of 'attainable' points. For n components participating in d reactions, the true AR must reside in a d-dimensional subspace in $R^n$. And, it follows that the dimension d, is the number of linearly independent reactions (rank(A)) present in a system. \n",
    "\n",
    "For any specified feed vector $(C_f)$ and extent of reaction $(\\varepsilon)$, the set of stoichiometrically compatible concentrations must lie within a region spanned by the feed vector and stoichiometric coefficient $(A)$ vector in concentration space. As a consequence of the physical meaning of achievable concentrations, mass balance and non-negativity constraints are imposed, further restricting the set of physically attainable concentrations. This implies that every point $c_i$ within the stoichiometric subspace must reside in the positive orthant of the 'real' concentration space. Furthermore, it must be stoichiometrically compatible with the given reaction stoichiometry. \n",
    "\n",
    "The stoichiometric subspace is denoted by the letter S and it obeys the following vector equation parameterized by the extent of reaction;\n",
    "\n",
    "$C = C_f + A\\varepsilon$\n",
    "\n",
    "Where;\n",
    "\n",
    "$C_f$ : feed vector\n",
    "    \n",
    "$A$ : stoichiometric coefficient A, with the size ${n x d}$\n",
    "    \n",
    "$\\varepsilon$ : extent vector corresponding to each reaction taking part in the system\n",
    "\n",
    "Computing a stoichiometric subspace for a single feed is done by identifying the bounding constraints in extent space that form the stoichiometric subspace. Vertex enumeration is employed to find the extreme vertices in extent space that constitute the feasible region. Consequently, finding the vertices of the convex polytope, S, in $R^n$ i.e. computing the convex hull of the stoichiometric subspace polytope described by the inequality constraints;\n",
    "\n",
    "$C_f + A\\varepsilon \\geq 0 $\n",
    "\n",
    "The ` con2vert()` function in the `artools package` is deployed in solving the vertex enumeration problem. Since the stoichiometric subspace is a function of both the reaction stoichiometry and the feed point, thus, the shape of the stoichiometric subspace will change if the feed point is changed. This implies that each feed point has an associated stoichiometrci subspace, S. Hence, it can be deduced that; the set of concentrations belonging to the overall stoichiometric subspace, $S_{tot}$, may be found by computing convex hull of the individual stoichiometric subspaces;\n",
    "\n",
    "$S_{tot} = conv ({S_1, S_2, S_3, ..., S_N})$\n",
    "\n",
    "Since the overall stoichiometric subspace is found by mixing between individual stoichiometric subspaces, the dimension of the subspace is increased. Thus, the dimension of the AR exceeds the no. of independent reactions. "
   ]
  },
  {
   "cell_type": "markdown",
   "metadata": {},
   "source": [
    "### Imports"
   ]
  },
  {
   "cell_type": "code",
   "execution_count": 1,
   "metadata": {
    "collapsed": false
   },
   "outputs": [],
   "source": [
    "import scipy as sp\n",
    "import scipy.integrate\n",
    "import artools\n",
    "import matplotlib.pyplot as plt\n",
    "from scipy import linalg\n",
    "from mpl_toolkits.mplot3d import Axes3D\n",
    "from scipy.spatial import ConvexHull\n",
    "from __future__ import division\n",
    "\n",
    "%matplotlib inline"
   ]
  },
  {
   "cell_type": "code",
   "execution_count": 3,
   "metadata": {
    "collapsed": false
   },
   "outputs": [],
   "source": [
    "def stoich_subspace(Cf0s, stoich_mat):\n",
    "    \"\"\"Compute the stoichiometric subspace from a stoichometric coefficient\n",
    "    matrix and multiple feed points.\n",
    "\n",
    "    Parameters:\n",
    "        stoich_mat  (n x d) array. Each row in stoich_mat corresponds\n",
    "                    to a component and each column corresponds to a\n",
    "                    reaction.\n",
    "        Cf0s        (M x n) matrix of M feeds. Each row in Cf0s is a feed\n",
    "                    corresponding to a component row in stoich_mat.\n",
    "\n",
    "    Returns:\n",
    "        Cs     (L x n) array. The vertices of the stoichiometric subspace in\n",
    "               concentration space.\n",
    "        Es     (L x d) array. The vertices of the stoichiometric subspace in\n",
    "               extent space.\n",
    "    \"\"\"\n",
    "    \n",
    "    \n",
    "    '''if Cf0s is not a list:\n",
    "        Cf0s = [Cf0s]\n",
    "\n",
    "        if CF0s.ndim == 2 and Cf0.shape[0]>1 and CF0s.shape[1]>1:\n",
    "                unpack matrix out of list\n",
    "    '''\n",
    "    \n",
    "    # create empty lists\n",
    "    all_Es = []\n",
    "    all_Cs = []\n",
    "    \n",
    "    # if user input is not a list, then convert into a list \n",
    "    if not isinstance(Cf0s, list) and not Cf0s.shape[0] > 1 and not Cf0s.shape[1] > 1:\n",
    "        # put it in a list \n",
    "        Cf0s = [Cf0s]\n",
    "        \n",
    "    for Cf0 in Cf0s:\n",
    "        # check if Cf0 is a column vector with ndim=2, or a (L,) array with\n",
    "        # ndim=1 only\n",
    "        if Cf0.ndim == 2:\n",
    "            Cf0 = Cf0.flatten() # converts into (L,)\n",
    "            \n",
    "            # raise an error if the no. of components is inconsistent\n",
    "            if len(Cf0) != stoich_mat.shape[0]:\n",
    "                raise Exception(\"No. of components is not consistent with the no. of rows in stoichiometric matrix\")\n",
    "            \n",
    "        # always treat stoich_mat as a matrix for consistency, convert if not\n",
    "        if stoich_mat.ndim == 1: \n",
    "            # converts a 'single rxn' row into column vector  \n",
    "            stoich_mat = stoich_mat.reshape((len(stoich_mat), 1)) \n",
    "\n",
    "        # check if it's a single rxn \n",
    "        if stoich_mat.shape[1] == 1:\n",
    "\n",
    "            stoich_mat = stoich_mat.flatten()\n",
    "\n",
    "            # calculate the limiting requirements\n",
    "            limiting = Cf0/ stoich_mat\n",
    "\n",
    "            # only choose negative coefficients as these indicate reactants\n",
    "            k = limiting < 0.0\n",
    "\n",
    "            # calc maximum extent based on limiting reactant and calc C\n",
    "            e_max = sp.fabs(max(limiting[k])) # shouldn't we take the min?? we take max because of the negative\n",
    "\n",
    "            C = Cf0 + stoich_mat*e_max\n",
    "\n",
    "            # form Cs and Es and return\n",
    "            Cs = sp.vstack([Cf0, C])\n",
    "            Es = sp.array([[0., e_max]]).T\n",
    "\n",
    "            return Cs, Es\n",
    "\n",
    "        # extent associated with each feed vector\n",
    "        Es = artools.con2vert(- stoich_mat, Cf0) \n",
    "\n",
    "        Cs = (Cf0[:, None] + sp.dot(stoich_mat, Es.T)).T # what does this slice, 'Cf0[:, None]' do?\n",
    "\n",
    "        # vertices for each feed and stoich_mat in extent and concentration space\n",
    "        all_Es.append(Es) \n",
    "        all_Cs.append(Cs)\n",
    "\n",
    "        # store all vertices in one array\n",
    "        all_Es_mat = sp.vstack(all_Es)\n",
    "        all_Cs_mat = sp.vstack(all_Cs)\n",
    "\n",
    "    return all_Es_mat, all_Cs_mat "
   ]
  }
 ],
 "metadata": {
  "kernelspec": {
   "display_name": "Python 2",
   "language": "python",
   "name": "python2"
  },
  "language_info": {
   "codemirror_mode": {
    "name": "ipython",
    "version": 2
   },
   "file_extension": ".py",
   "mimetype": "text/x-python",
   "name": "python",
   "nbconvert_exporter": "python",
   "pygments_lexer": "ipython2",
   "version": "2.7.10"
  }
 },
 "nbformat": 4,
 "nbformat_minor": 0
}
