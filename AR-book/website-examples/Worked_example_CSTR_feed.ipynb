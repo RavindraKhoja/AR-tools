{
 "cells": [
  {
   "cell_type": "markdown",
   "metadata": {},
   "source": [
    "## Python imports"
   ]
  },
  {
   "cell_type": "code",
   "execution_count": 1,
   "metadata": {
    "collapsed": false
   },
   "outputs": [],
   "source": [
    "import scipy as sp\n",
    "# from scipy.integrate import odeint\n",
    "import scipy.optimize\n",
    "\n",
    "import matplotlib.pyplot as plt\n",
    "%matplotlib inline\n",
    "plt.style.use(\"ggplot\")"
   ]
  },
  {
   "cell_type": "markdown",
   "metadata": {},
   "source": [
    "## Define rate vector\n",
    "\n",
    "$$\n",
    "\\mathbf{r}\\left(\\mathbf{C}\\right)=\\begin{bmatrix}r_{\\mathrm{A}}\\\\\n",
    "r_{\\mathrm{B}}\n",
    "\\end{bmatrix}\n",
    "$$\n",
    "\n",
    "where\n",
    "\n",
    "$$ \\begin{align}\n",
    "r_{\\mathrm{A}}\t&=-k_{1}c_{\\mathrm{A}}-2k_{3}c_{\\mathrm{A}}^{2} \\\\\n",
    "r_{\\mathrm{B}}\t&=k_{1}c_{\\mathrm{A}}-k_{2}c_{\\mathrm{B}}\n",
    "\\end{align}\n",
    "$$"
   ]
  },
  {
   "cell_type": "code",
   "execution_count": 2,
   "metadata": {
    "collapsed": false
   },
   "outputs": [],
   "source": [
    "def rate_fn(c, t):\n",
    "    # Functions that are to be integrated with SciPy's odeint() function\n",
    "    # require both the state vector C and integration parameter t to be\n",
    "    # specified as parameters, even though we do not use t in rate expressions.\n",
    "    \n",
    "    cA = c[0]\n",
    "    cB = c[1]\n",
    "    \n",
    "    # rate constants\n",
    "    k1 = 1.0\n",
    "    k2 = 1.0\n",
    "    k3 = 10.0\n",
    "    \n",
    "    # component rate expressions\n",
    "    rA = -k1*cA - 2*k3*(cA**2)\n",
    "    rB = k1*cA - k2*cB\n",
    "    \n",
    "    return sp.array([rA, rB])"
   ]
  },
  {
   "cell_type": "markdown",
   "metadata": {},
   "source": [
    "## Specify feed point\n",
    "\n",
    "$$\n",
    "\\mathbf{C_{f}}=\\begin{bmatrix}c_{\\mathrm{A}}\\\\\n",
    "c_{\\mathrm{B}}\n",
    "\\end{bmatrix}=\\begin{bmatrix}1.0\\\\\n",
    "0.0\n",
    "\\end{bmatrix}\\ \\textrm{mol/L}\n",
    "$$"
   ]
  },
  {
   "cell_type": "code",
   "execution_count": 3,
   "metadata": {
    "collapsed": true
   },
   "outputs": [],
   "source": [
    "Cf = sp.array([1.0, 0.0])"
   ]
  },
  {
   "cell_type": "markdown",
   "metadata": {},
   "source": [
    "## Solve CSTR\n",
    "\n",
    "To generate a CSTR locus, we solve the system of nonlinear equations representing the CSTR for different values of residence time and a fixed feed."
   ]
  },
  {
   "cell_type": "code",
   "execution_count": 4,
   "metadata": {
    "collapsed": false
   },
   "outputs": [],
   "source": [
    "# CSTR residence times to solve for\n",
    "t_end = 500.0\n",
    "npts = 50\n",
    "cstr_ts = sp.logspace(-4, sp.log10(t_end), npts)\n",
    "cstr_cs = []\n",
    "\n",
    "# needed for nonlinear solver\n",
    "C_guess = Cf\n",
    "\n",
    "for ti in cstr_ts:\n",
    "    \n",
    "    # define the function F = Cf + ti*r(C) - C\n",
    "    def cstr_fn(C):\n",
    "        r = rate_fn(C, 0)\n",
    "        F = Cf + ti*r - C\n",
    "\n",
    "        return F\n",
    "    \n",
    "    # solve for F = 0\n",
    "    ci = scipy.optimize.newton_krylov(cstr_fn, C_guess)\n",
    "    \n",
    "    # update initial guess based on previous solution\n",
    "    C_guess = ci\n",
    "    \n",
    "    cstr_cs.append(ci)\n",
    "    \n",
    "# convert cstr_cs list into a numpy array for convenience\n",
    "cstr_cs = sp.array(cstr_cs)"
   ]
  },
  {
   "cell_type": "markdown",
   "metadata": {},
   "source": [
    "## Plot CSTR locus in $c_{A}$-$c_{B}$ space"
   ]
  },
  {
   "cell_type": "code",
   "execution_count": 5,
   "metadata": {
    "collapsed": false
   },
   "outputs": [
    {
     "data": {
      "image/png": "[encoded data removed]",
      "text/plain": [
       "<matplotlib.figure.Figure at 0x8885780>"
      ]
     },
     "metadata": {},
     "output_type": "display_data"
    }
   ],
   "source": [
    "fig = plt.figure()\n",
    "ax = fig.gca()\n",
    "\n",
    "ax.plot(cstr_cs[:, 0], cstr_cs[:, 1], \"bx\")\n",
    "\n",
    "ax.set_xlabel(\"$c_A$ (mol/L)\")\n",
    "ax.set_ylabel(\"$c_B$ (mol/L)\")\n",
    "\n",
    "plt.show(fig)"
   ]
  },
  {
   "cell_type": "code",
   "execution_count": null,
   "metadata": {
    "collapsed": true
   },
   "outputs": [],
   "source": []
  }
 ],
 "metadata": {
  "anaconda-cloud": {},
  "kernelspec": {
   "display_name": "Python [default]",
   "language": "python",
   "name": "python2"
  },
  "language_info": {
   "codemirror_mode": {
    "name": "ipython",
    "version": 2
   },
   "file_extension": ".py",
   "mimetype": "text/x-python",
   "name": "python",
   "nbconvert_exporter": "python",
   "pygments_lexer": "ipython2",
   "version": "2.7.12"
  }
 },
 "nbformat": 4,
 "nbformat_minor": 1
}
