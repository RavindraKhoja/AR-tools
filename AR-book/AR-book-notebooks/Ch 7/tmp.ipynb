{
 "cells": [
  {
   "cell_type": "markdown",
   "metadata": {},
   "source": [
    "# Plotting 3D regions in Python using mplot3d\n",
    "\n",
    "## Python imports"
   ]
  },
  {
   "cell_type": "code",
   "execution_count": 1,
   "metadata": {
    "collapsed": false
   },
   "outputs": [],
   "source": [
    "import scipy as sp\n",
    "import scipy.integrate\n",
    "from scipy.spatial import ConvexHull\n",
    "import scipy.optimize\n",
    "import scipy.linalg\n",
    "\n",
    "import matplotlib.pyplot as plt\n",
    "import matplotlib\n",
    "\n",
    "#%matplotlib inline\n",
    "plt.style.use('ggplot')\n",
    "\n",
    "from mpl_toolkits.mplot3d import Axes3D"
   ]
  },
  {
   "cell_type": "markdown",
   "metadata": {},
   "source": [
    "## Define kinetics and feed point"
   ]
  },
  {
   "cell_type": "code",
   "execution_count": 2,
   "metadata": {
    "collapsed": false
   },
   "outputs": [],
   "source": [
    "def rate_fn(C,t):\n",
    "    \n",
    "    #3D VDV kinetics\n",
    "    k1 = 1.0;\n",
    "    k2 = 1.0;\n",
    "    k3 = 10.0;\n",
    "    \n",
    "    cA,cB,cD = C\n",
    "\n",
    "    rA = -k1*cA - 2.0*k3*cA**2\n",
    "    rB = k1*cA - k2*cB\n",
    "    rD = k3*cA**2\n",
    "\n",
    "    r = sp.array([rA, rB, rD])\n",
    "    return r\n",
    "\n",
    "#Feed point\n",
    "Cf = sp.array([1, 0, 0.])\n",
    "\n",
    "#Integrate PFR from feed point\n",
    "pfr_ts = sp.logspace(-3,sp.log10(10),100);\n",
    "pfr_cs = scipy.integrate.odeint(rate_fn,Cf,pfr_ts)\n",
    "\n",
    "C0 = Cf\n",
    "# C0 = pfr_cs[10,:]"
   ]
  },
  {
   "cell_type": "code",
   "execution_count": 3,
   "metadata": {
    "collapsed": false
   },
   "outputs": [],
   "source": [
    "def alpha_fn(C):\n",
    "    '''Critical DSR alpha policy from chapter 6. Solved using Sympy'''\n",
    "#     c_A = C[0]\n",
    "#     c_B = C[1]\n",
    "    \n",
    "#     e = c_A*(20*c_A**3*c_B - 80*c_A**2*c_B - c_A**2 + 37*c_A*c_B + c_A + 2*c_B)/(2*c_B*(c_A**2 - 2*c_A + 1))\n",
    "\n",
    "    c_A = C[0]\n",
    "    c_B = C[1]\n",
    "    c_A0 = C0[0]\n",
    "    c_B0 = C0[1]\n",
    "    \n",
    "    e = -c_A*(20*c_A**3*c_B + 20*c_A**3*c_B0 - 80*c_A**2*c_A0*c_B - c_A**2*c_A0 + 3*c_A**2*c_B0 + 40*c_A*c_A0**2*c_B + c_A*c_A0**2 - 3*c_A*c_A0*c_B - 2*c_A*c_A0*c_B0 + 2*c_A0**2*c_B)/(2*c_A**3*c_B0 - 2*c_A**2*c_A0*c_B - 4*c_A**2*c_A0*c_B0 + 4*c_A*c_A0**2*c_B + 2*c_A*c_A0**2*c_B0 - 2*c_A0**3*c_B)\n",
    "    \n",
    "    return e\n",
    "    \n",
    "def dsr_fn(C,t):\n",
    "    dC = rate_fn(C,t) + alpha_fn(C)*(C0-C)\n",
    "    return dC\n",
    "\n",
    "def cstr_fn(C, t):\n",
    "    f = Cf + t*rate_fn(C,1.0) - C\n",
    "    return f\n",
    "\n",
    "cstr_eqm = scipy.optimize.fsolve(cstr_fn,[0.,0.,0.0001], args=(1e5,))\n",
    "\n",
    "dsr1_ts = sp.logspace(-3,sp.log10(10),25)\n",
    "dsr1_cs = scipy.integrate.odeint(dsr_fn,pfr_cs[1,:],dsr1_ts)\n",
    "# dsr1_cs = scipy.integrate.odeint(dsr_fn,Cf,dsr1_ts)\n",
    "\n",
    "dsr2_ts = sp.logspace(-3,sp.log10(20),400)\n",
    "dsr2_cs = scipy.integrate.odeint(dsr_fn,cstr_eqm,dsr2_ts)\n",
    "\n",
    "dsr_cs = sp.vstack([dsr1_cs, dsr2_cs])\n",
    "\n",
    "all_cs = pfr_cs\n",
    "for ci in dsr_cs:\n",
    "    tmp_pfr_cs = scipy.integrate.odeint(rate_fn,ci,pfr_ts)\n",
    "    all_cs = sp.vstack([all_cs, tmp_pfr_cs])"
   ]
  },
  {
   "cell_type": "code",
   "execution_count": 4,
   "metadata": {
    "collapsed": false
   },
   "outputs": [
    {
     "ename": "NameError",
     "evalue": "name 'cstr_cs' is not defined",
     "output_type": "error",
     "traceback": [
      "\u001b[1;31m---------------------------------------------------------------------------\u001b[0m",
      "\u001b[1;31mNameError\u001b[0m                                 Traceback (most recent call last)",
      "\u001b[1;32m<ipython-input-4-f093f8790b0c>\u001b[0m in \u001b[0;36m<module>\u001b[1;34m()\u001b[0m\n\u001b[0;32m      4\u001b[0m \u001b[1;33m\u001b[0m\u001b[0m\n\u001b[0;32m      5\u001b[0m \u001b[0max\u001b[0m\u001b[1;33m.\u001b[0m\u001b[0mplot\u001b[0m\u001b[1;33m(\u001b[0m\u001b[0mpfr_cs\u001b[0m\u001b[1;33m[\u001b[0m\u001b[1;33m:\u001b[0m\u001b[1;33m,\u001b[0m\u001b[1;36m0\u001b[0m\u001b[1;33m]\u001b[0m\u001b[1;33m,\u001b[0m\u001b[0mpfr_cs\u001b[0m\u001b[1;33m[\u001b[0m\u001b[1;33m:\u001b[0m\u001b[1;33m,\u001b[0m\u001b[1;36m1\u001b[0m\u001b[1;33m]\u001b[0m\u001b[1;33m,\u001b[0m\u001b[0mpfr_cs\u001b[0m\u001b[1;33m[\u001b[0m\u001b[1;33m:\u001b[0m\u001b[1;33m,\u001b[0m\u001b[1;36m2\u001b[0m\u001b[1;33m]\u001b[0m\u001b[1;33m,\u001b[0m\u001b[1;34m'r-'\u001b[0m\u001b[1;33m)\u001b[0m\u001b[1;33m\u001b[0m\u001b[0m\n\u001b[1;32m----> 6\u001b[1;33m \u001b[0max\u001b[0m\u001b[1;33m.\u001b[0m\u001b[0mplot\u001b[0m\u001b[1;33m(\u001b[0m\u001b[0mcstr_cs\u001b[0m\u001b[1;33m[\u001b[0m\u001b[1;33m:\u001b[0m\u001b[1;33m,\u001b[0m\u001b[1;36m0\u001b[0m\u001b[1;33m]\u001b[0m\u001b[1;33m,\u001b[0m\u001b[0mcstr_cs\u001b[0m\u001b[1;33m[\u001b[0m\u001b[1;33m:\u001b[0m\u001b[1;33m,\u001b[0m\u001b[1;36m1\u001b[0m\u001b[1;33m]\u001b[0m\u001b[1;33m,\u001b[0m\u001b[0mcstr_cs\u001b[0m\u001b[1;33m[\u001b[0m\u001b[1;33m:\u001b[0m\u001b[1;33m,\u001b[0m\u001b[1;36m2\u001b[0m\u001b[1;33m]\u001b[0m\u001b[1;33m,\u001b[0m\u001b[1;34m'bx'\u001b[0m\u001b[1;33m)\u001b[0m\u001b[1;33m\u001b[0m\u001b[0m\n\u001b[0m\u001b[0;32m      7\u001b[0m \u001b[0max\u001b[0m\u001b[1;33m.\u001b[0m\u001b[0mplot\u001b[0m\u001b[1;33m(\u001b[0m\u001b[0mdsr1_cs\u001b[0m\u001b[1;33m[\u001b[0m\u001b[1;33m:\u001b[0m\u001b[1;33m,\u001b[0m\u001b[1;36m0\u001b[0m\u001b[1;33m]\u001b[0m\u001b[1;33m,\u001b[0m\u001b[0mdsr1_cs\u001b[0m\u001b[1;33m[\u001b[0m\u001b[1;33m:\u001b[0m\u001b[1;33m,\u001b[0m\u001b[1;36m1\u001b[0m\u001b[1;33m]\u001b[0m\u001b[1;33m,\u001b[0m\u001b[0mdsr1_cs\u001b[0m\u001b[1;33m[\u001b[0m\u001b[1;33m:\u001b[0m\u001b[1;33m,\u001b[0m\u001b[1;36m2\u001b[0m\u001b[1;33m]\u001b[0m\u001b[1;33m)\u001b[0m\u001b[1;33m\u001b[0m\u001b[0m\n\u001b[0;32m      8\u001b[0m \u001b[0max\u001b[0m\u001b[1;33m.\u001b[0m\u001b[0mplot\u001b[0m\u001b[1;33m(\u001b[0m\u001b[0mdsr2_cs\u001b[0m\u001b[1;33m[\u001b[0m\u001b[1;33m:\u001b[0m\u001b[1;33m,\u001b[0m\u001b[1;36m0\u001b[0m\u001b[1;33m]\u001b[0m\u001b[1;33m,\u001b[0m\u001b[0mdsr2_cs\u001b[0m\u001b[1;33m[\u001b[0m\u001b[1;33m:\u001b[0m\u001b[1;33m,\u001b[0m\u001b[1;36m1\u001b[0m\u001b[1;33m]\u001b[0m\u001b[1;33m,\u001b[0m\u001b[0mdsr2_cs\u001b[0m\u001b[1;33m[\u001b[0m\u001b[1;33m:\u001b[0m\u001b[1;33m,\u001b[0m\u001b[1;36m2\u001b[0m\u001b[1;33m]\u001b[0m\u001b[1;33m)\u001b[0m\u001b[1;33m\u001b[0m\u001b[0m\n",
      "\u001b[1;31mNameError\u001b[0m: name 'cstr_cs' is not defined"
     ]
    }
   ],
   "source": [
    "fig = plt.figure()\n",
    "ax = fig.gca(projection=\"3d\")\n",
    "plt.hold(True)\n",
    "\n",
    "ax.plot(pfr_cs[:,0],pfr_cs[:,1],pfr_cs[:,2],'r-')\n",
    "ax.plot(cstr_cs[:,0],cstr_cs[:,1],cstr_cs[:,2],'bx')\n",
    "ax.plot(dsr1_cs[:,0],dsr1_cs[:,1],dsr1_cs[:,2])\n",
    "ax.plot(dsr2_cs[:,0],dsr2_cs[:,1],dsr2_cs[:,2])\n",
    "ax.scatter(C0[0],C0[1],C0[2],'ys')\n",
    "\n",
    "plt.show()"
   ]
  },
  {
   "cell_type": "markdown",
   "metadata": {},
   "source": [
    "## CSTR solver using continuation\n",
    "\n",
    "Since Van de Vusse kinetics is known not to contain multiple CSTR solutions, we can solve for the CSTR locus by iteratively looping over each CSTR residence time and using a conventional non-linear solver.\n"
   ]
  },
  {
   "cell_type": "code",
   "execution_count": 5,
   "metadata": {
    "collapsed": true
   },
   "outputs": [],
   "source": [
    "cstr_ts = sp.logspace(-3,sp.log10(1e3),100)\n",
    "cstr_cs = sp.empty((len(cstr_ts),3))\n",
    "\n",
    "c_guess = Cf\n",
    "for i,ti in enumerate(cstr_ts):\n",
    "\n",
    "    ci = scipy.optimize.fsolve(cstr_fn, c_guess, args=(ti,))\n",
    "    cstr_cs[i,:] = ci\n",
    "    \n",
    "# plt.figure()\n",
    "# plt.plot(cstr_ts,cstr_cs)\n",
    "# plt.show()"
   ]
  },
  {
   "cell_type": "code",
   "execution_count": 6,
   "metadata": {
    "collapsed": false
   },
   "outputs": [],
   "source": [
    "#Cs = sp.vstack([pfr_cs,[0,0,0.]])\n",
    "Cs = all_cs\n",
    "\n",
    "K = ConvexHull(Cs).vertices\n",
    "Cs = Cs[K,:]\n",
    "simplices = ConvexHull(Cs).simplices\n",
    "\n",
    "fig = plt.figure()\n",
    "ax = fig.gca(projection=\"3d\")\n",
    "\n",
    "#tri = matplotlib.tri.Triangulation(Cs[:,0],Cs[:,1], simplices)\n",
    "#ax.plot_trisurf(tri,Cs[:,2], alpha=0.75, color=[0, 1, 0])\n",
    "\n",
    "ax.plot(pfr_cs[:,0],pfr_cs[:,1],pfr_cs[:,2],'r-')\n",
    "ax.plot(cstr_cs[:,0],cstr_cs[:,1],cstr_cs[:,2],'bx')\n",
    "ax.plot(dsr1_cs[:,0],dsr1_cs[:,1],dsr1_cs[:,2], 'g-')\n",
    "ax.plot(dsr2_cs[:,0],dsr2_cs[:,1],dsr2_cs[:,2], 'g-')\n",
    "ax.plot(all_cs[:,0],all_cs[:,1],all_cs[:,2], 'k:')\n",
    "\n",
    "ax.scatter(C0[0],C0[1],C0[2],'ys')\n",
    "\n",
    "ax.set_xlabel('cA (mol/L)')\n",
    "ax.set_ylabel('cB (mol/L)')\n",
    "ax.set_zlabel('cD (mol/L)')\n",
    "\n",
    "plt.show()"
   ]
  },
  {
   "cell_type": "markdown",
   "metadata": {},
   "source": [
    "## CSTR determinant function"
   ]
  },
  {
   "cell_type": "code",
   "execution_count": 7,
   "metadata": {
    "collapsed": false
   },
   "outputs": [],
   "source": [
    "def cstr_det_fn(C):\n",
    "    c_A = C[0]\n",
    "    k1 = 1.0;\n",
    "    k2 = 1.0;\n",
    "    k3 = 10.0;\n",
    "    c_B = C[1]\n",
    "    e = 7.0*c_A**3*k1*k2*k3*(1.0*c_A*k3 + 0.5*k1)*(-1.0*c_A**2*k1*k3 + 2.0*c_A*c_B*k2*k3 + 0.5*c_A*k1*k2 + 0.5*c_B*k1*k2 - 0.5*c_B*k2**2)\n",
    "    \n",
    "    return e\n",
    "\n",
    "det_cs = sp.empty((len(cstr_ts),1))\n",
    "\n",
    "for i,ci in enumerate(cstr_cs):\n",
    "    det_cs[i] = cstr_det_fn(ci)\n",
    "    \n",
    "    \n",
    "fig = plt.figure()\n",
    "ax = fig.gca()\n",
    "\n",
    "ax.plot(cstr_ts,det_cs, \"b-\")\n",
    "ax.set_xlim([-100, 200])\n",
    "ax.set_ylim([-0.01, 0.01])\n",
    "\n",
    "plt.show()"
   ]
  },
  {
   "cell_type": "code",
   "execution_count": null,
   "metadata": {
    "collapsed": true
   },
   "outputs": [],
   "source": []
  }
 ],
 "metadata": {
  "anaconda-cloud": {},
  "kernelspec": {
   "display_name": "Python 3",
   "language": "python",
   "name": "python3"
  },
  "language_info": {
   "codemirror_mode": {
    "name": "ipython",
    "version": 3
   },
   "file_extension": ".py",
   "mimetype": "text/x-python",
   "name": "python",
   "nbconvert_exporter": "python",
   "pygments_lexer": "ipython3"
  }
 },
 "nbformat": 4,
 "nbformat_minor": 0
}
