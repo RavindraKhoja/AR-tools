{
 "cells": [
  {
   "cell_type": "markdown",
   "metadata": {},
   "source": [
    "# Example 12\n",
    "\n",
    "In chapter 2, we discuss the role of mixing -- and by extension, the convex hull -- play in AR theory. Example 12 asks to generate a random set of 20 points and then compute the convex hull of the set of points. This notebook demonstrates how this can be achieved in Python. \n",
    "\n",
    "## Import necessary python packages"
   ]
  },
  {
   "cell_type": "code",
   "execution_count": 1,
   "metadata": {
    "collapsed": true
   },
   "outputs": [],
   "source": [
    "# from ipywidgets import interact\n",
    "\n",
    "import scipy as sp\n",
    "from scipy.spatial import ConvexHull\n",
    "\n",
    "import matplotlib.pyplot as plt\n",
    "from matplotlib.tri import Triangulation\n",
    "%matplotlib inline\n",
    "\n",
    "plt.style.use(\"ggplot\")\n",
    "from mpl_toolkits.mplot3d import Axes3D"
   ]
  },
  {
   "cell_type": "markdown",
   "metadata": {},
   "source": [
    "## Interact:\n",
    "We can use SciPy's `rand()` function to generate a matrix of random numbers, which can then be passed to `ConvexHull()` to compute the convex hull. Let X be a $ 20\\times2 $ matrix representing 20 random points in $ \\mathbb{R}^{2} $. "
   ]
  },
  {
   "cell_type": "code",
   "execution_count": 2,
   "metadata": {},
   "outputs": [
    {
     "data": {
      "text/plain": [
       "array([[ 0.14307693,  0.60212113],\n",
       "       [ 0.09883869,  0.19919307],\n",
       "       [ 0.52115736,  0.62884606],\n",
       "       [ 0.33595389,  0.67963451],\n",
       "       [ 0.2044173 ,  0.3671235 ],\n",
       "       [ 0.89338062,  0.04506027],\n",
       "       [ 0.04075681,  0.83593462],\n",
       "       [ 0.12371317,  0.93173244],\n",
       "       [ 0.21423527,  0.10933252],\n",
       "       [ 0.03292601,  0.52177118],\n",
       "       [ 0.02704623,  0.66391675],\n",
       "       [ 0.56577306,  0.76812654],\n",
       "       [ 0.25204315,  0.89292802],\n",
       "       [ 0.63069231,  0.4986619 ],\n",
       "       [ 0.62564472,  0.79367062],\n",
       "       [ 0.31189342,  0.5559499 ],\n",
       "       [ 0.0157749 ,  0.97293083],\n",
       "       [ 0.66742588,  0.60298987],\n",
       "       [ 0.99840279,  0.91145235],\n",
       "       [ 0.88351195,  0.57207612]])"
      ]
     },
     "execution_count": 2,
     "metadata": {},
     "output_type": "execute_result"
    }
   ],
   "source": [
    "X = sp.rand(20,2)\n",
    "X"
   ]
  },
  {
   "cell_type": "markdown",
   "metadata": {},
   "source": [
    "The SciPy function `ConvexHull()` is a general function used to compute the convex hull of a set of points. The results are stored in a convex hull object, which we will denote by the variable `K`:"
   ]
  },
  {
   "cell_type": "code",
   "execution_count": 3,
   "metadata": {
    "collapsed": true
   },
   "outputs": [],
   "source": [
    "K = ConvexHull(X)"
   ]
  },
  {
   "cell_type": "markdown",
   "metadata": {},
   "source": [
    "We can now access the extreme points of the convex hull by collecting the indices of the points in X that correspond to the convex hull."
   ]
  },
  {
   "cell_type": "code",
   "execution_count": 4,
   "metadata": {},
   "outputs": [
    {
     "data": {
      "text/plain": [
       "array([18, 16, 10,  9,  1,  8,  5], dtype=int32)"
      ]
     },
     "execution_count": 4,
     "metadata": {},
     "output_type": "execute_result"
    }
   ],
   "source": [
    "idx = K.vertices\n",
    "idx"
   ]
  },
  {
   "cell_type": "code",
   "execution_count": 5,
   "metadata": {},
   "outputs": [
    {
     "data": {
      "text/plain": [
       "array([[ 0.99840279,  0.91145235],\n",
       "       [ 0.0157749 ,  0.97293083],\n",
       "       [ 0.02704623,  0.66391675],\n",
       "       [ 0.03292601,  0.52177118],\n",
       "       [ 0.09883869,  0.19919307],\n",
       "       [ 0.21423527,  0.10933252],\n",
       "       [ 0.89338062,  0.04506027]])"
      ]
     },
     "execution_count": 5,
     "metadata": {},
     "output_type": "execute_result"
    }
   ],
   "source": [
    "extreme_pts = X[idx,:]\n",
    "extreme_pts"
   ]
  },
  {
   "cell_type": "markdown",
   "metadata": {},
   "source": [
    "We can also plot the result for visual confirmation"
   ]
  },
  {
   "cell_type": "code",
   "execution_count": 6,
   "metadata": {},
   "outputs": [
    {
     "name": "stderr",
     "output_type": "stream",
     "text": [
      "C:\\Users\\Dave\\Miniconda3\\lib\\site-packages\\matplotlib\\figure.py:403: UserWarning: matplotlib is currently using a non-GUI backend, so cannot show the figure\n",
      "  \"matplotlib is currently using a non-GUI backend, \"\n"
     ]
    },
    {
     "data": {
      "image/png": "[encoded data removed]",
      "text/plain": [
       "<matplotlib.figure.Figure at 0x1f25eaba860>"
      ]
     },
     "metadata": {},
     "output_type": "display_data"
    }
   ],
   "source": [
    "fig = plt.figure(figsize = (8, 8))\n",
    "ax = fig.gca()\n",
    "\n",
    "# plot points in X as black crosses, and points belonging to the convex hull as red circles\n",
    "ax.plot(X[:, 0], X[:, 1], \"kx\")\n",
    "ax.plot(extreme_pts[:, 0], extreme_pts[:, 1], \"ro\")\n",
    "\n",
    "ax.set_xlim([-0.5, 1.5])\n",
    "ax.set_ylim([-0.5, 1.5])\n",
    "\n",
    "ax.set_xlabel(\"x\")\n",
    "ax.set_ylabel(\"y\")\n",
    "\n",
    "fig.show()"
   ]
  }
 ],
 "metadata": {
  "anaconda-cloud": {},
  "kernelspec": {
   "display_name": "Python 3",
   "language": "python",
   "name": "python3"
  },
  "language_info": {
   "codemirror_mode": {
    "name": "ipython",
    "version": 3
   },
   "file_extension": ".py",
   "mimetype": "text/x-python",
   "name": "python",
   "nbconvert_exporter": "python",
   "pygments_lexer": "ipython3",
   "version": "3.6.2"
  }
 },
 "nbformat": 4,
 "nbformat_minor": 1
}
