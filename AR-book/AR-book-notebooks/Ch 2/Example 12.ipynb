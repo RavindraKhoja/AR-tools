{
 "cells": [
  {
   "cell_type": "markdown",
   "metadata": {},
   "source": [
    "# Example 12\n",
    "\n",
    "In chapter 2, we discuss the role of mixing -- and by extension, the convex hull -- play in AR theory. Example 12 asks to generate a random set of 20 points and then compute the convex hull of the set of points. This notebook demonstrates how this can be achieved in Python. \n",
    "\n",
    "## Import necessary python packages"
   ]
  },
  {
   "cell_type": "code",
   "execution_count": 1,
   "metadata": {
    "collapsed": false
   },
   "outputs": [],
   "source": [
    "# from ipywidgets import interact\n",
    "\n",
    "import scipy as sp\n",
    "from scipy.spatial import ConvexHull\n",
    "\n",
    "import matplotlib.pyplot as plt\n",
    "from matplotlib.tri import Triangulation\n",
    "%matplotlib inline\n",
    "\n",
    "plt.style.use(\"ggplot\")\n",
    "from mpl_toolkits.mplot3d import Axes3D"
   ]
  },
  {
   "cell_type": "markdown",
   "metadata": {},
   "source": [
    "## Interact:\n",
    "We can use SciPy's `rand()` function to generate a matrix of random numbers, which can then be passed to `ConvexHull()` to compute the convex hull. Let X be a $ 20\\times2 $ matrix representing 20 random points in $ \\mathbb{R}^{2} $. "
   ]
  },
  {
   "cell_type": "code",
   "execution_count": 2,
   "metadata": {
    "collapsed": false
   },
   "outputs": [
    {
     "data": {
      "text/plain": [
       "array([[ 0.33306144,  0.35239653],\n",
       "       [ 0.92794474,  0.62388771],\n",
       "       [ 0.05838566,  0.26751793],\n",
       "       [ 0.26918536,  0.12328221],\n",
       "       [ 0.49912251,  0.42258748],\n",
       "       [ 0.1217118 ,  0.68542499],\n",
       "       [ 0.78714976,  0.10047034],\n",
       "       [ 0.45028352,  0.70085656],\n",
       "       [ 0.24309568,  0.50707437],\n",
       "       [ 0.93612221,  0.02594156],\n",
       "       [ 0.37804282,  0.22942452],\n",
       "       [ 0.5179324 ,  0.07750018],\n",
       "       [ 0.23957647,  0.9432773 ],\n",
       "       [ 0.55775917,  0.06706986],\n",
       "       [ 0.08562119,  0.10457385],\n",
       "       [ 0.3527011 ,  0.31699093],\n",
       "       [ 0.9461682 ,  0.72545419],\n",
       "       [ 0.37725443,  0.62681151],\n",
       "       [ 0.11426537,  0.2193734 ],\n",
       "       [ 0.93100201,  0.26767285]])"
      ]
     },
     "execution_count": 2,
     "metadata": {},
     "output_type": "execute_result"
    }
   ],
   "source": [
    "X = sp.rand(20,2)\n",
    "X"
   ]
  },
  {
   "cell_type": "markdown",
   "metadata": {},
   "source": [
    "The SciPy function `ConvexHull()` is a general function used to compute the convex hull of a set of points. The results are stored in a convex hull object, which we will denote by the variable `K`:"
   ]
  },
  {
   "cell_type": "code",
   "execution_count": 3,
   "metadata": {
    "collapsed": false
   },
   "outputs": [],
   "source": [
    "K = ConvexHull(X)"
   ]
  },
  {
   "cell_type": "markdown",
   "metadata": {},
   "source": [
    "We can now access the extreme points of the convex hull by collecting the indices of the points in X that correspond to the convex hull."
   ]
  },
  {
   "cell_type": "code",
   "execution_count": 4,
   "metadata": {
    "collapsed": false
   },
   "outputs": [
    {
     "data": {
      "text/plain": [
       "array([ 9, 16, 12,  5,  2, 14])"
      ]
     },
     "execution_count": 4,
     "metadata": {},
     "output_type": "execute_result"
    }
   ],
   "source": [
    "idx = K.vertices\n",
    "idx"
   ]
  },
  {
   "cell_type": "code",
   "execution_count": 5,
   "metadata": {
    "collapsed": false
   },
   "outputs": [
    {
     "data": {
      "text/plain": [
       "array([[ 0.93612221,  0.02594156],\n",
       "       [ 0.9461682 ,  0.72545419],\n",
       "       [ 0.23957647,  0.9432773 ],\n",
       "       [ 0.1217118 ,  0.68542499],\n",
       "       [ 0.05838566,  0.26751793],\n",
       "       [ 0.08562119,  0.10457385]])"
      ]
     },
     "execution_count": 5,
     "metadata": {},
     "output_type": "execute_result"
    }
   ],
   "source": [
    "extreme_pts = X[idx,:]\n",
    "extreme_pts"
   ]
  },
  {
   "cell_type": "markdown",
   "metadata": {},
   "source": [
    "We can also plot the result for visual confirmation"
   ]
  },
  {
   "cell_type": "code",
   "execution_count": 6,
   "metadata": {
    "collapsed": false
   },
   "outputs": [
    {
     "name": "stderr",
     "output_type": "stream",
     "text": [
      "C:\\Users\\A0017697\\Anaconda2\\lib\\site-packages\\matplotlib\\figure.py:397: UserWarning: matplotlib is currently using a non-GUI backend, so cannot show the figure\n",
      "  \"matplotlib is currently using a non-GUI backend, \"\n"
     ]
    },
    {
     "data": {
      "image/png": "[encoded data removed]",
      "text/plain": [
       "<matplotlib.figure.Figure at 0x8266208>"
      ]
     },
     "metadata": {},
     "output_type": "display_data"
    }
   ],
   "source": [
    "fig = plt.figure(figsize = (8, 8))\n",
    "ax = fig.gca()\n",
    "ax.hold(True)\n",
    "\n",
    "# plot points in X as black crosses, and points belonging to the convex hull as red circles\n",
    "ax.plot(X[:, 0], X[:, 1], \"kx\")\n",
    "ax.plot(extreme_pts[:, 0], extreme_pts[:, 1], \"ro\")\n",
    "\n",
    "ax.set_xlim([-0.5, 1.5])\n",
    "ax.set_ylim([-0.5, 1.5])\n",
    "\n",
    "ax.set_xlabel(\"x\")\n",
    "ax.set_ylabel(\"y\")\n",
    "\n",
    "fig.show()"
   ]
  }
 ],
 "metadata": {
  "anaconda-cloud": {},
  "kernelspec": {
   "display_name": "Python [Root]",
   "language": "python",
   "name": "Python [Root]"
  },
  "language_info": {
   "codemirror_mode": {
    "name": "ipython",
    "version": 2
   },
   "file_extension": ".py",
   "mimetype": "text/x-python",
   "name": "python",
   "nbconvert_exporter": "python",
   "pygments_lexer": "ipython2",
   "version": "2.7.11"
  }
 },
 "nbformat": 4,
 "nbformat_minor": 0
}
