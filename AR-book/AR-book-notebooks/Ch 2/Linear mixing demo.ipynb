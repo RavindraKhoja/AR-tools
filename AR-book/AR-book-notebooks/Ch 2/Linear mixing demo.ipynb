{
 "cells": [
  {
   "cell_type": "markdown",
   "metadata": {},
   "source": [
    "# Simple linear mixing demonstration\n",
    "## Import python packages"
   ]
  },
  {
   "cell_type": "code",
   "execution_count": null,
   "metadata": {},
   "outputs": [],
   "source": [
    "from ipywidgets import interact\n",
    "\n",
    "import scipy as sp\n",
    "\n",
    "import matplotlib.pyplot as plt\n",
    "\n",
    "%matplotlib inline\n",
    "plt.style.use(\"ggplot\")"
   ]
  },
  {
   "cell_type": "markdown",
   "metadata": {},
   "source": [
    "## Define concentrations and plotting function"
   ]
  },
  {
   "cell_type": "code",
   "execution_count": null,
   "metadata": {},
   "outputs": [],
   "source": [
    "C1 = sp.array([1,1])\n",
    "C2 = sp.array([9,18])\n",
    "\n",
    "def plot_concs(mixing_fraction=0.5):\n",
    "    #calc mixture concentration\n",
    "    c_mix = C1 + mixing_fraction*(C2 - C1)\n",
    "    \n",
    "    #color\n",
    "    c1_color = sp.array([1., 0., 0.])\n",
    "    c2_color = sp.array([0., 0., 1.])\n",
    "    cm_color = c1_color + mixing_fraction*(c2_color - c1_color)\n",
    "    \n",
    "    #plot\n",
    "    fig = plt.figure()\n",
    "    ax = fig.gca()\n",
    "    \n",
    "    ax.plot(C1[0], C1[1], 's', color = c1_color, markersize=10)\n",
    "    ax.plot(C2[0], C2[1], 's', color = c2_color, markersize=10)\n",
    "    ax.plot(c_mix[0], c_mix[1], 'o', color = cm_color, markersize=10)\n",
    "    \n",
    "    ax.axis([0, 10, 0, 20])\n",
    "    ax.set_xlabel('Component 1 (mol/L)')\n",
    "    ax.set_ylabel('Component 2 (mol/L)')\n",
    "    \n",
    "    plt.show(fig)"
   ]
  },
  {
   "cell_type": "markdown",
   "metadata": {},
   "source": [
    "## Now plot concentrations and resulting mixture"
   ]
  },
  {
   "cell_type": "markdown",
   "metadata": {},
   "source": [
    "Use the slider to adjust the value of the mixing fraction $\\lambda$"
   ]
  },
  {
   "cell_type": "code",
   "execution_count": null,
   "metadata": {},
   "outputs": [],
   "source": [
    "interact(plot_concs, mixing_fraction=(0,1,0.01))"
   ]
  },
  {
   "cell_type": "markdown",
   "metadata": {},
   "source": [
    "Notice that the mixture concentration is bounded by **$C_1$** and **$C_2$** and that it lies on a *straight* line between the two concentrations."
   ]
  }
 ],
 "metadata": {
  "kernelspec": {
   "display_name": "Python 3",
   "language": "python",
   "name": "python3"
  },
  "language_info": {
   "codemirror_mode": {
    "name": "ipython",
    "version": 3
   },
   "file_extension": ".py",
   "mimetype": "text/x-python",
   "name": "python",
   "nbconvert_exporter": "python",
   "pygments_lexer": "ipython3"
  }
 },
 "nbformat": 4,
 "nbformat_minor": 1
}
