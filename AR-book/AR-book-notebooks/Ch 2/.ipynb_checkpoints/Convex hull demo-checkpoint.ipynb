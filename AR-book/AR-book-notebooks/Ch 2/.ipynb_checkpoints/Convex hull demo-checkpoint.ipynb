{
 "cells": [
  {
   "cell_type": "markdown",
   "metadata": {},
   "source": [
    "# Convex hull demonstration\n",
    "## Import necessary python packages"
   ]
  },
  {
   "cell_type": "code",
   "execution_count": 1,
   "metadata": {},
   "outputs": [],
   "source": [
    "from ipywidgets import interact\n",
    "\n",
    "import scipy as sp\n",
    "from scipy.spatial import ConvexHull\n",
    "\n",
    "import matplotlib.pyplot as plt\n",
    "from matplotlib.tri import Triangulation\n",
    "%matplotlib inline\n",
    "\n",
    "plt.style.use(\"ggplot\")\n",
    "from mpl_toolkits.mplot3d import Axes3D"
   ]
  },
  {
   "cell_type": "markdown",
   "metadata": {},
   "source": [
    "## Define plotting function"
   ]
  },
  {
   "cell_type": "code",
   "execution_count": 2,
   "metadata": {},
   "outputs": [],
   "source": [
    "#generate a fixed number of random points\n",
    "all_Cs = sp.rand(150,3)\n",
    "X = sp.rand(150,3)\n",
    "\n",
    "def plot_convhull(npts = 3):\n",
    "    #select first N pts\n",
    "    Cs = all_Cs[0:npts,[0,1]]\n",
    "\n",
    "    xs,ys = Cs[:,0], Cs[:,1]\n",
    "\n",
    "    #compute convex hull from scipy.spatial\n",
    "    hull = ConvexHull(Cs)\n",
    "    xs, ys = Cs[hull.vertices,0], Cs[hull.vertices,1]\n",
    "\n",
    "    #plot\n",
    "    fig = plt.figure(figsize=(12,6))\n",
    "    \n",
    "    #plot without convex hull\n",
    "    plt.subplot(1,2,1)\n",
    "    plt.plot(Cs[:,0],Cs[:,1], 'ko')\n",
    "    \n",
    "    plt.axis([-0.1, 1.1, -0.1, 1.1])\n",
    "    plt.xlabel('Component 1 (mol/L)')\n",
    "    plt.ylabel('Component 2 (mol/L)')\n",
    "    plt.title('All %i points'%npts)\n",
    "    \n",
    "    #plot with convex hull\n",
    "    plt.subplot(1,2,2)\n",
    "    \n",
    "    plt.fill(xs,ys, 'g', alpha=0.5)\n",
    "    plt.plot(Cs[:,0],Cs[:,1], 'ko')\n",
    "    plt.plot(xs,ys, 'wo')\n",
    "\n",
    "    plt.axis([-0.1, 1.1, -0.1, 1.1])\n",
    "    plt.xlabel('Component 1 (mol/L)')\n",
    "    plt.ylabel('Component 2 (mol/L)')\n",
    "    plt.title('Convex hull (%i unique)'%len(xs))\n",
    "\n",
    "    plt.show()\n",
    "    \n",
    "def plot_3d_convhull(num_pts = 3, elevation=15, rotation=30):\n",
    "    Cs = all_Cs[0:num_pts, :]\n",
    "    \n",
    "    hull = ConvexHull(Cs)\n",
    "    K = hull.vertices\n",
    "    simplices = hull.simplices\n",
    "    xs,ys,zs = Cs[K,0], Cs[K,1], Cs[K,2]\n",
    "    \n",
    "    fig = plt.figure(figsize=(10,10))\n",
    "    ax = fig.gca(projection=\"3d\")\n",
    "    \n",
    "    ax.plot(Cs[:,0],Cs[:,1],Cs[:,2], \"ko\")\n",
    "    ax.plot(xs,ys,zs, \"wo\")\n",
    "    ax.plot_trisurf(Triangulation(Cs[:,0],Cs[:,1],simplices), Cs[:,2], color=\"g\", alpha=0.25)\n",
    "    \n",
    "    ax.set_title(\"%i total points (%i unique)\"%(num_pts, len(K)))\n",
    "    \n",
    "    ax.set_xlim3d(-0.1,1.1)\n",
    "    ax.set_ylim3d(-0.1,1.1)\n",
    "    ax.set_zlim3d(-0.1,1.1)\n",
    "    \n",
    "    ax.view_init(elevation,rotation)\n",
    "    \n",
    "    ax.set_xlabel(\"X\")\n",
    "    ax.set_ylabel(\"Y\")\n",
    "    ax.set_zlabel(\"Z\")\n",
    "\n",
    "    plt.show()"
   ]
  },
  {
   "cell_type": "markdown",
   "metadata": {},
   "source": [
    "## Interact:\n",
    "Plot N random points and and compare with its convex hull.\n",
    "Use the slider to change the number of points."
   ]
  },
  {
   "cell_type": "code",
   "execution_count": 3,
   "metadata": {},
   "outputs": [
    {
     "data": {
      "application/vnd.jupyter.widget-view+json": {
       "model_id": "9e2e7a6c67a2494c94e5913698e9b06c"
      }
     },
     "metadata": {},
     "output_type": "display_data"
    },
    {
     "data": {
      "text/plain": [
       "<function __main__.plot_convhull>"
      ]
     },
     "execution_count": 3,
     "metadata": {},
     "output_type": "execute_result"
    }
   ],
   "source": [
    "interact(plot_convhull, npts=(3,150,1))"
   ]
  },
  {
   "cell_type": "code",
   "execution_count": 4,
   "metadata": {},
   "outputs": [
    {
     "data": {
      "application/vnd.jupyter.widget-view+json": {
       "model_id": "5164829c9ae9414296238c3caab5bc23"
      }
     },
     "metadata": {},
     "output_type": "display_data"
    },
    {
     "data": {
      "text/plain": [
       "<function __main__.plot_3d_convhull>"
      ]
     },
     "execution_count": 4,
     "metadata": {},
     "output_type": "execute_result"
    }
   ],
   "source": [
    "interact(plot_3d_convhull, num_pts=(4,100,1), elevation=(0,180,1), rotation=(0,360,1))"
   ]
  },
  {
   "cell_type": "code",
   "execution_count": null,
   "metadata": {
    "collapsed": true
   },
   "outputs": [],
   "source": []
  }
 ],
 "metadata": {
  "anaconda-cloud": {},
  "kernelspec": {
   "display_name": "Python 2",
   "language": "python",
   "name": "python2"
  },
  "language_info": {
   "codemirror_mode": {
    "name": "ipython",
    "version": 2
   },
   "file_extension": ".py",
   "mimetype": "text/x-python",
   "name": "python",
   "nbconvert_exporter": "python",
   "pygments_lexer": "ipython2",
   "version": "2.7.13"
  }
 },
 "nbformat": 4,
 "nbformat_minor": 1
}
