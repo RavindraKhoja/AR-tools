{
 "cells": [
  {
   "cell_type": "markdown",
   "metadata": {},
   "source": [
    "## Python imports "
   ]
  },
  {
   "cell_type": "code",
   "execution_count": 1,
   "metadata": {
    "collapsed": true
   },
   "outputs": [],
   "source": [
    "import scipy as sp\n",
    "from scipy.spatial import ConvexHull"
   ]
  },
  {
   "cell_type": "markdown",
   "metadata": {},
   "source": [
    "## Generate a set of 20 random points\n",
    "\n",
    "Let's begin by generating 20 random points, between 0 and 1, in two-dimensional space. We can then compute the convex hull of this set and determine which points are extreme points."
   ]
  },
  {
   "cell_type": "code",
   "execution_count": 2,
   "metadata": {},
   "outputs": [
    {
     "name": "stdout",
     "output_type": "stream",
     "text": [
      "[[ 0.55242997  0.92250405]\n",
      " [ 0.03653136  0.14472977]\n",
      " [ 0.04160633  0.60706729]\n",
      " [ 0.2337653   0.51801471]\n",
      " [ 0.22444945  0.23200267]\n",
      " [ 0.51139347  0.09879932]\n",
      " [ 0.51993742  0.52755678]\n",
      " [ 0.18135243  0.64243538]\n",
      " [ 0.7428989   0.68799811]\n",
      " [ 0.84277833  0.56318936]\n",
      " [ 0.94073449  0.84781783]\n",
      " [ 0.0673932   0.3607061 ]\n",
      " [ 0.19956647  0.56543838]\n",
      " [ 0.11092335  0.81890012]\n",
      " [ 0.68448253  0.14675782]\n",
      " [ 0.57717475  0.43784214]\n",
      " [ 0.95702257  0.25256267]\n",
      " [ 0.91375191  0.97651897]\n",
      " [ 0.52579315  0.41664703]\n",
      " [ 0.89129966  0.29284018]]\n"
     ]
    }
   ],
   "source": [
    "N = 20\n",
    "Xs = sp.rand(N,2)\n",
    "\n",
    "print Xs"
   ]
  },
  {
   "cell_type": "markdown",
   "metadata": {},
   "source": [
    "## Calculate the convex hull\n",
    "Now we can compute the convex hull. We use the `ConvexHull()` function from the scipy.spatial sub-package."
   ]
  },
  {
   "cell_type": "code",
   "execution_count": 3,
   "metadata": {
    "collapsed": true
   },
   "outputs": [],
   "source": [
    "hull = ConvexHull(Xs)"
   ]
  },
  {
   "cell_type": "markdown",
   "metadata": {},
   "source": [
    "The `ConvexHull()` function in SciPy returns a hull object, which stores all information related to the convex hull. We wish to find the vertices of the hull. We can do this by accessing the `.vertices` information from the object."
   ]
  },
  {
   "cell_type": "code",
   "execution_count": 4,
   "metadata": {},
   "outputs": [
    {
     "data": {
      "text/plain": [
       "array([ 1,  5, 14, 16, 10, 17,  0, 13,  2])"
      ]
     },
     "execution_count": 4,
     "metadata": {},
     "output_type": "execute_result"
    }
   ],
   "source": [
    "k = hull.vertices\n",
    "k"
   ]
  },
  {
   "cell_type": "markdown",
   "metadata": {},
   "source": [
    "Here, `k` is a Numpy array containing the indices in `Xs` corresponding to the convex hull."
   ]
  },
  {
   "cell_type": "code",
   "execution_count": 5,
   "metadata": {},
   "outputs": [
    {
     "data": {
      "text/plain": [
       "array([[ 0.03653136,  0.14472977],\n",
       "       [ 0.51139347,  0.09879932],\n",
       "       [ 0.68448253,  0.14675782],\n",
       "       [ 0.95702257,  0.25256267],\n",
       "       [ 0.94073449,  0.84781783],\n",
       "       [ 0.91375191,  0.97651897],\n",
       "       [ 0.55242997,  0.92250405],\n",
       "       [ 0.11092335,  0.81890012],\n",
       "       [ 0.04160633,  0.60706729]])"
      ]
     },
     "execution_count": 5,
     "metadata": {},
     "output_type": "execute_result"
    }
   ],
   "source": [
    "Xs[k]"
   ]
  },
  {
   "cell_type": "markdown",
   "metadata": {},
   "source": [
    "## Visualise results\n",
    "\n",
    "Let's plot the points using matplotlib."
   ]
  },
  {
   "cell_type": "code",
   "execution_count": 6,
   "metadata": {},
   "outputs": [
    {
     "data": {
      "image/png": "[encoded data removed]",
      "text/plain": [
       "<matplotlib.figure.Figure at 0x6d8cda0>"
      ]
     },
     "metadata": {},
     "output_type": "display_data"
    }
   ],
   "source": [
    "import matplotlib.pyplot as plt\n",
    "%matplotlib inline\n",
    "\n",
    "fig = plt.figure(figsize=(6,6))\n",
    "ax = fig.gca()\n",
    "\n",
    "#plot convex hull region\n",
    "ax.fill(Xs[k,0],Xs[k,1], 'g', alpha=0.5)\n",
    "ax.plot(Xs[:,0],Xs[:,1], 'ko')\n",
    "\n",
    "#plot extreme points\n",
    "ax.plot(Xs[k,0], Xs[k,1], 'wo')\n",
    "    \n",
    "ax.set_xlabel('x1')\n",
    "ax.set_ylabel('x2')\n",
    "\n",
    "plt.show(fig)"
   ]
  }
 ],
 "metadata": {
  "kernelspec": {
   "display_name": "Python 2",
   "language": "python",
   "name": "python2"
  },
  "language_info": {
   "codemirror_mode": {
    "name": "ipython",
    "version": 2
   },
   "file_extension": ".py",
   "mimetype": "text/x-python",
   "name": "python",
   "nbconvert_exporter": "python",
   "pygments_lexer": "ipython2",
   "version": "2.7.13"
  }
 },
 "nbformat": 4,
 "nbformat_minor": 1
}
