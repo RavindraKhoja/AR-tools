{
 "cells": [
  {
   "cell_type": "markdown",
   "metadata": {},
   "source": [
    "## Python imports"
   ]
  },
  {
   "cell_type": "code",
   "execution_count": null,
   "metadata": {
    "collapsed": true
   },
   "outputs": [],
   "source": [
    "import sympy as sp\n",
    "sp.init_printing(use_unicode=False, wrap_line=False)"
   ]
  },
  {
   "cell_type": "markdown",
   "metadata": {},
   "source": [
    "## Defined rate vector for 3-D van de Vusse kinetics\n",
    "\n",
    "$$\n",
    "\\begin{aligned}\n",
    "r_{\\mathrm{A}}\\left(\\mathbf{C}\\right)\t&=-k_{1}c_{\\mathrm{A}}-2k_{3}c_{\\mathrm{A}}^{2} \\\\\n",
    "r_{B}\\left(\\mathbf{C}\\right)\t&=k_{1}c_{\\mathrm{A}}-k_{2}c_{\\mathrm{B}} \\\\\n",
    "r_{\\mathrm{C}}\\left(\\mathbf{C}\\right)\t&=k_{2}c_{\\mathrm{B}} \\\\\n",
    "r_{\\mathrm{D}}\\left(\\mathbf{C}\\right)\t&=k_{3}c_{\\mathrm{A}}^{2}\n",
    "\\end{aligned}\n",
    "$$"
   ]
  },
  {
   "cell_type": "code",
   "execution_count": null,
   "metadata": {},
   "outputs": [],
   "source": [
    "cA, cB, cC, cD = sp.symbols('c_A, c_B, c_C, c_D')\n",
    "k1, k2, k3 = sp.symbols('k_1, k_2, k_3')\n",
    "\n",
    "#3-D van de Vusse\n",
    "#k1=1\n",
    "#k2=2\n",
    "#k3=10\n",
    "rA = -k1*cA - 2*k3*(cA**2)\n",
    "rB = k1*cA - k2*cB\n",
    "rC = k2*cB\n",
    "rD = k3*(cA**2)\n",
    "\n",
    "r = sp.Matrix([rA, rB, rC, rD])\n",
    "print(r)"
   ]
  },
  {
   "cell_type": "markdown",
   "metadata": {},
   "source": [
    "## Define the Jacobian\n",
    "\n",
    "$$ \\mathrm{d}\\mathbf{r}\\left(\\mathbf{C}\\right)=\\nabla\\mathbf{r}\\left(\\mathbf{C}\\right) $$"
   ]
  },
  {
   "cell_type": "code",
   "execution_count": null,
   "metadata": {},
   "outputs": [],
   "source": [
    "dr = r.jacobian(sp.Matrix([cA, cB, cC, cD]))\n",
    "dr"
   ]
  },
  {
   "cell_type": "markdown",
   "metadata": {},
   "source": [
    "## Stoichiometric coefficient matrix\n",
    "\n",
    "Since the 3-D van de Vusse system follows the following reaction scheme:\n",
    "$$\n",
    "\\begin{align}\n",
    "\\mathrm{A}\t&\\rightarrow\\mathrm{B}\\rightarrow\\mathrm{C} \\\\\n",
    "2\\mathrm{A}\t&\\rightarrow\\mathrm{D}\n",
    "\\end{align}\n",
    "$$\n",
    "\n",
    "This produces a stoichiometric coefficient matrix of the form:\n",
    "$$\n",
    "\\mathbf{A}=\\begin{bmatrix}-1 & 0 & -2\\\\\n",
    "1 & -1 & 0\\\\\n",
    "0 & 1 & 0\\\\\n",
    "0 & 0 & 1\n",
    "\\end{bmatrix}\n",
    "$$"
   ]
  },
  {
   "cell_type": "code",
   "execution_count": null,
   "metadata": {
    "collapsed": true
   },
   "outputs": [],
   "source": [
    "A = sp.Matrix([[-1, 0, -2], \n",
    "               [1, -1, 0], \n",
    "               [0, 1, 0], \n",
    "               [0, 0, 1]])"
   ]
  },
  {
   "cell_type": "markdown",
   "metadata": {},
   "source": [
    "## Define nullspace $\\mathbf{N}$\n",
    "\n",
    "$$\n",
    "\\mathbf{N}=\\mathbf{A}^{\\mathrm{T}}\n",
    "$$"
   ]
  },
  {
   "cell_type": "code",
   "execution_count": null,
   "metadata": {},
   "outputs": [],
   "source": [
    "N = sp.Matrix((A.T).nullspace())\n",
    "N"
   ]
  },
  {
   "cell_type": "markdown",
   "metadata": {},
   "source": [
    "## Compute controllability matrix $\\mathbf{E}$\n",
    "\n",
    "$$\n",
    "\\mathbf{E}=\\begin{bmatrix}\\mathbf{r}\\left(\\mathbf{C}\\right) & \\mathrm{d}\\mathbf{r}\\left(\\mathbf{C}\\right)\\mathbf{r}\\left(\\mathbf{C}\\right) & \\mathrm{d}\\mathbf{r}\\left(\\mathbf{C}\\right)^{2}\\mathbf{r}\\left(\\mathbf{C}\\right) & \\mathbf{N}\\end{bmatrix}\n",
    "$$"
   ]
  },
  {
   "cell_type": "code",
   "execution_count": null,
   "metadata": {},
   "outputs": [],
   "source": [
    "E = sp.Matrix((r, dr*r, dr*dr*r, N))\n",
    "E = sp.simplify(E)\n",
    "E = sp.Matrix(4, 4, E)\n",
    "E = E.T\n",
    "\n",
    "E"
   ]
  },
  {
   "cell_type": "markdown",
   "metadata": {},
   "source": [
    "## Finally, compute $\\mathbf{\\Lambda}\\left(\\mathbf{C}\\right)$\n",
    "\n",
    "$$\n",
    "\\mathbf{\\Lambda}\\left(\\mathbf{C}\\right)=\\mathrm{Det}\\left(\\mathbf{E}\\right)\n",
    "$$"
   ]
  },
  {
   "cell_type": "code",
   "execution_count": null,
   "metadata": {},
   "outputs": [],
   "source": [
    "det_fn = sp.simplify(E.det())\n",
    "det_fn"
   ]
  },
  {
   "cell_type": "markdown",
   "metadata": {},
   "source": [
    "Simplify the expression"
   ]
  },
  {
   "cell_type": "code",
   "execution_count": null,
   "metadata": {},
   "outputs": [],
   "source": [
    "sp.factor(det_fn)"
   ]
  },
  {
   "cell_type": "markdown",
   "metadata": {},
   "source": [
    "## Solve $\\mathbf{\\Lambda}\\left(\\mathbf{C}\\right) = 0$ for $c_\\mathrm{B}$"
   ]
  },
  {
   "cell_type": "code",
   "execution_count": null,
   "metadata": {},
   "outputs": [],
   "source": [
    "cb_fn = sp.solve(det_fn, cB)[0]\n",
    "cb_fn"
   ]
  },
  {
   "cell_type": "markdown",
   "metadata": {},
   "source": [
    "Substitutting in values for $k_1 = 1$, $k_2 = 1$ and $k_3 = 10$ into `cb_fn` gives:"
   ]
  },
  {
   "cell_type": "code",
   "execution_count": null,
   "metadata": {},
   "outputs": [],
   "source": [
    "cb_fn.subs([(k1,1), (k2,1), (k3,10)])"
   ]
  },
  {
   "cell_type": "markdown",
   "metadata": {},
   "source": [
    "Substitutting in values for $k_1 = 1$, $k_2 = 1$ and $k_3 = 10$ into $\\mathbf{\\Lambda}\\left(\\mathbf{C}\\right)$ gives:"
   ]
  },
  {
   "cell_type": "code",
   "execution_count": null,
   "metadata": {},
   "outputs": [],
   "source": [
    "det_fn.subs([(k1,1), (k2,1), (k3,10)])"
   ]
  }
 ],
 "metadata": {
  "kernelspec": {
   "display_name": "Python 3",
   "language": "python",
   "name": "python3"
  },
  "language_info": {
   "codemirror_mode": {
    "name": "ipython",
    "version": 3
   },
   "file_extension": ".py",
   "mimetype": "text/x-python",
   "name": "python",
   "nbconvert_exporter": "python",
   "pygments_lexer": "ipython3"
  }
 },
 "nbformat": 4,
 "nbformat_minor": 1
}
