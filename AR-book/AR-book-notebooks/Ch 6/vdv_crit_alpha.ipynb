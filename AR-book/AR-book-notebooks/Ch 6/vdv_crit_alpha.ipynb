{
 "cells": [
  {
   "cell_type": "markdown",
   "metadata": {},
   "source": [
    "## Python imports\n",
    "We shall use the `Sympy` package to perform the symbolic computations."
   ]
  },
  {
   "cell_type": "code",
   "execution_count": 1,
   "metadata": {
    "collapsed": false
   },
   "outputs": [],
   "source": [
    "import sympy\n",
    "sympy.init_printing(use_unicode=False, wrap_line=False)"
   ]
  },
  {
   "cell_type": "markdown",
   "metadata": {},
   "source": [
    "## Define Sympy symbols, Van de Vusse kinetics and DSR mixing point"
   ]
  },
  {
   "cell_type": "code",
   "execution_count": 2,
   "metadata": {
    "collapsed": false
   },
   "outputs": [],
   "source": [
    "cA,cB,cC,cD = sympy.symbols('c_A, c_B, c_C, c_D')\n",
    "cA0,cB0,cC0,cD0 = sympy.symbols('c_A0, c_B0, c_C0, c_D0')\n",
    "\n",
    "#3D Van de Vusse kinetics\n",
    "k1=1\n",
    "k2=1\n",
    "k3=10\n",
    "rA = -k1*cA - 2*k3*(cA**2)\n",
    "rB = k1*cA - k2*cB\n",
    "rC = k2*cB\n",
    "rD = k3*(cA**2)\n",
    "\n",
    "#rate vector and mixing vector\n",
    "r = sympy.Matrix([rA, rB, rD])\n",
    "C = sympy.Matrix([cA, cB, cD])\n",
    "# C0 = sympy.Matrix([1, 0, 0])\n",
    "C0 = sympy.Matrix([cA0, cB0, cD0])\n",
    "\n",
    "#mixing vector\n",
    "v = C - C0"
   ]
  },
  {
   "cell_type": "markdown",
   "metadata": {},
   "source": [
    "## Normal vector: n\n",
    "\n",
    "The expression for $ \\mathbf{n}\\left(\\mathbf{C}\\right) $ is given by\n",
    "$$ \\mathbf{n}\\left(\\mathbf{C}\\right) = \\mathbf{v}\\left(\\mathbf{C}\\right) \\times \\mathbf{r}\\left(\\mathbf{C}\\right) $$"
   ]
  },
  {
   "cell_type": "code",
   "execution_count": 3,
   "metadata": {
    "collapsed": false
   },
   "outputs": [
    {
     "data": {
      "image/png": "[encoded data removed]",
      "text/latex": [
       "$$\\left[\\begin{matrix}10 c_{A}^{2} \\left(c_{B} - c_{B0}\\right) - \\left(c_{A} - c_{B}\\right) \\left(c_{D} - c_{D0}\\right)\\\\c_{A} \\left(10 c_{A} \\left(- c_{A} + c_{A0}\\right) - \\left(20 c_{A} + 1\\right) \\left(c_{D} - c_{D0}\\right)\\right)\\\\c_{A} \\left(20 c_{A} + 1\\right) \\left(c_{B} - c_{B0}\\right) + \\left(c_{A} - c_{A0}\\right) \\left(c_{A} - c_{B}\\right)\\end{matrix}\\right]$$"
      ],
      "text/plain": [
       "[          2                                             ]\n",
       "[    10*c_A *(c_B - c_B0) - (c_A - c_B)*(c_D - c_D0)     ]\n",
       "[                                                        ]\n",
       "[ c_A*(10*c_A*(-c_A + c_A0) - (20*c_A + 1)*(c_D - c_D0)) ]\n",
       "[                                                        ]\n",
       "[c_A*(20*c_A + 1)*(c_B - c_B0) + (c_A - c_A0)*(c_A - c_B)]"
      ]
     },
     "execution_count": 3,
     "metadata": {},
     "output_type": "execute_result"
    }
   ],
   "source": [
    "n = sympy.simplify(v.cross(r)) #v x r (not r x v!!)\n",
    "n"
   ]
  },
  {
   "cell_type": "markdown",
   "metadata": {},
   "source": [
    "## Jacobian matrix: $\\mathrm{d}\\mathbf{r}\\left(\\mathbf{C}\\right)$\n",
    "\n",
    "Next, the Jacobian matrix of $\\mathbf{r}\\left(\\mathbf{C}\\right)$, $\\mathrm{d}\\mathbf{r}\\left(\\mathbf{C}\\right)$, is found:\n",
    "\n",
    "$$ \\mathrm{d}\\mathbf{r}\\left(\\mathbf{C}\\right)=\\begin{bmatrix}\\frac{\\partial\\mathrm{r_{A}}\\left(\\mathbf{C}\\right)}{\\partial\\mathrm{c_{A}}} & \\cdots & \\frac{\\partial\\mathrm{r_{A}}\\left(\\mathbf{C}\\right)}{\\partial\\mathrm{c}_{n}}\\\\\n",
    "\\vdots & \\ddots & \\vdots\\\\\n",
    "\\frac{\\partial\\mathrm{r}_{n}\\left(\\mathbf{C}\\right)}{\\partial\\mathrm{c_{A}}} & \\cdots & \\frac{\\partial\\mathrm{r}_{n}\\left(\\mathbf{C}\\right)}{\\partial\\mathrm{c}_{n}}\n",
    "\\end{bmatrix} $$"
   ]
  },
  {
   "cell_type": "code",
   "execution_count": 4,
   "metadata": {
    "collapsed": false
   },
   "outputs": [
    {
     "data": {
      "image/png": "[encoded data removed]",
      "text/latex": [
       "$$\\left[\\begin{matrix}- 40 c_{A} - 1 & 0 & 0\\\\1 & -1 & 0\\\\20 c_{A} & 0 & 0\\end{matrix}\\right]$$"
      ],
      "text/plain": [
       "[-40*c_A - 1  0   0]\n",
       "[                  ]\n",
       "[     1       -1  0]\n",
       "[                  ]\n",
       "[  20*c_A     0   0]"
      ]
     },
     "execution_count": 4,
     "metadata": {},
     "output_type": "execute_result"
    }
   ],
   "source": [
    "dr = r.jacobian(sympy.Matrix([cA,cB,cD]))\n",
    "dr"
   ]
  },
  {
   "cell_type": "markdown",
   "metadata": {},
   "source": [
    "## Calculating $ \\varphi\\left( \\mathbf{C} \\right) $\n",
    "\n",
    "We can calculate $\\varphi\\left(\\mathbf{C}\\right)$ from the expression:\n",
    "\n",
    "$$ \\varphi\\left(\\mathbf{C}\\right) = \\left[\\mathrm{d}\\mathbf{r}\\left(\\mathbf{C}\\right).\\mathbf{v}\\left(\\mathbf{C}\\right)\\right]^{\\mathrm{T}}\\mathbf{n}\\left(\\mathbf{C}\\right) $$"
   ]
  },
  {
   "cell_type": "code",
   "execution_count": 5,
   "metadata": {
    "collapsed": true
   },
   "outputs": [],
   "source": [
    "phi = ((dr*v).T)*n"
   ]
  },
  {
   "cell_type": "markdown",
   "metadata": {},
   "source": [
    "Sympy performs matrix algebra on `dr`, `v` and `n`, and although the result should be a scalar quantity, it outputs the result as a 1x1 matrix. We need to extract this element using `phi[0]` (which is Python notation for accessing the first element in the 1x1 matrix `phi`)."
   ]
  },
  {
   "cell_type": "code",
   "execution_count": 6,
   "metadata": {
    "collapsed": false
   },
   "outputs": [
    {
     "data": {
      "image/png": "[encoded data removed]",
      "text/latex": [
       "$$20 c_{A} \\left(c_{A} - c_{A0}\\right) \\left(c_{A} \\left(20 c_{A} + 1\\right) \\left(c_{B} - c_{B0}\\right) + \\left(c_{A} - c_{A0}\\right) \\left(c_{A} - c_{B}\\right)\\right) - c_{A} \\left(10 c_{A} \\left(c_{A} - c_{A0}\\right) + \\left(20 c_{A} + 1\\right) \\left(c_{D} - c_{D0}\\right)\\right) \\left(c_{A} - c_{A0} - c_{B} + c_{B0}\\right) - \\left(c_{A} - c_{A0}\\right) \\left(40 c_{A} + 1\\right) \\left(10 c_{A}^{2} \\left(c_{B} - c_{B0}\\right) - \\left(c_{A} - c_{B}\\right) \\left(c_{D} - c_{D0}\\right)\\right)$$"
      ],
      "text/plain": [
       "                                                                                                                                                                                             /      2                                        \\\n",
       "20*c_A*(c_A - c_A0)*(c_A*(20*c_A + 1)*(c_B - c_B0) + (c_A - c_A0)*(c_A - c_B)) - c_A*(10*c_A*(c_A - c_A0) + (20*c_A + 1)*(c_D - c_D0))*(c_A - c_A0 - c_B + c_B0) - (c_A - c_A0)*(40*c_A + 1)*\\10*c_A *(c_B - c_B0) - (c_A - c_B)*(c_D - c_D0)/"
      ]
     },
     "execution_count": 6,
     "metadata": {},
     "output_type": "execute_result"
    }
   ],
   "source": [
    "phi = sympy.simplify(phi[0])\n",
    "phi"
   ]
  },
  {
   "cell_type": "markdown",
   "metadata": {},
   "source": [
    "## Simplifications\n",
    "\n",
    "Notice that the expression for $\\varphi\\left(\\mathbf{C}\\right)$ is a function of all three components, $c_A$, $c_B$ and $c_D$, which makes the expression quite complex. We can, however, simplify the expression slightly.\n",
    "From AR theory, we know that the value of $\\varphi\\left(\\mathbf{C}\\right)$ must remain at zero on the AR boundary. Thus, we can use the condition \n",
    "\n",
    "$$ \\varphi\\left(\\mathbf{C}\\right) = 0 $$\n",
    "\n",
    "to solve for one of the components in the expression for $\\varphi\\left(\\mathbf{C}\\right)$, and then substitute the result back into the expression for $\\alpha$ to simplify the expression slightly.\n",
    "\n",
    "Hence, let us solve for $c_D$"
   ]
  },
  {
   "cell_type": "code",
   "execution_count": 7,
   "metadata": {
    "collapsed": false
   },
   "outputs": [
    {
     "data": {
      "image/png": "[encoded data removed]",
      "text/latex": [
       "$$\\frac{1}{- 20 c_{A}^{3} + 20 c_{A}^{2} c_{A0} + 20 c_{A}^{2} c_{B} + 20 c_{A}^{2} c_{B0} - 40 c_{A} c_{A0} c_{B} + c_{A} c_{B0} - c_{A0} c_{B}} \\left(10 c_{A}^{4} - 20 c_{A}^{3} c_{A0} - 20 c_{A}^{3} c_{B0} - 20 c_{A}^{3} c_{D0} + 10 c_{A}^{2} c_{A0}^{2} + 20 c_{A}^{2} c_{A0} c_{B} + 20 c_{A}^{2} c_{A0} c_{B0} + 20 c_{A}^{2} c_{A0} c_{D0} + 20 c_{A}^{2} c_{B} c_{D0} + 20 c_{A}^{2} c_{B0} c_{D0} - 20 c_{A} c_{A0}^{2} c_{B} - 40 c_{A} c_{A0} c_{B} c_{D0} + c_{A} c_{B0} c_{D0} - c_{A0} c_{B} c_{D0}\\right)$$"
      ],
      "text/plain": [
       "      4         3              3              3              2     2         2                  2                   2                   2                  2                        2                                                           \n",
       "10*c_A  - 20*c_A *c_A0 - 20*c_A *c_B0 - 20*c_A *c_D0 + 10*c_A *c_A0  + 20*c_A *c_A0*c_B + 20*c_A *c_A0*c_B0 + 20*c_A *c_A0*c_D0 + 20*c_A *c_B*c_D0 + 20*c_A *c_B0*c_D0 - 20*c_A*c_A0 *c_B - 40*c_A*c_A0*c_B*c_D0 + c_A*c_B0*c_D0 - c_A0*c_B*c_D0\n",
       "------------------------------------------------------------------------------------------------------------------------------------------------------------------------------------------------------------------------------------------------\n",
       "                                                                                 3         2              2             2                                                                                                                       \n",
       "                                                                         - 20*c_A  + 20*c_A *c_A0 + 20*c_A *c_B + 20*c_A *c_B0 - 40*c_A*c_A0*c_B + c_A*c_B0 - c_A0*c_B                                                                          "
      ]
     },
     "execution_count": 7,
     "metadata": {},
     "output_type": "execute_result"
    }
   ],
   "source": [
    "cD_fn = sympy.simplify(sympy.solve(phi,cD))[0]\n",
    "cD_fn"
   ]
  },
  {
   "cell_type": "markdown",
   "metadata": {},
   "source": [
    "## Calculating $ \\nabla\\varphi\\left(\\mathbf{C}\\right) $"
   ]
  },
  {
   "cell_type": "markdown",
   "metadata": {},
   "source": [
    "Next, we compute the vector $ \\nabla\\varphi\\left(\\mathbf{C}\\right) $ by taking partial derivatives of $\\varphi\\left(\\mathbf{C}\\right)$ with respect to all components:"
   ]
  },
  {
   "cell_type": "code",
   "execution_count": 8,
   "metadata": {
    "collapsed": false
   },
   "outputs": [
    {
     "data": {
      "image/png": "[encoded data removed]",
      "text/latex": [
       "$$\\left[\\begin{matrix}40 c_{A}^{3} - 60 c_{A}^{2} c_{A0} - 60 c_{A}^{2} c_{B0} + 60 c_{A}^{2} c_{D} - 60 c_{A}^{2} c_{D0} + 20 c_{A} c_{A0}^{2} + 40 c_{A} c_{A0} c_{B} + 40 c_{A} c_{A0} c_{B0} - 40 c_{A} c_{A0} c_{D} + 40 c_{A} c_{A0} c_{D0} - 40 c_{A} c_{B} c_{D} + 40 c_{A} c_{B} c_{D0} - 40 c_{A} c_{B0} c_{D} + 40 c_{A} c_{B0} c_{D0} - 20 c_{A0}^{2} c_{B} + 40 c_{A0} c_{B} c_{D} - 40 c_{A0} c_{B} c_{D0} - c_{B0} c_{D} + c_{B0} c_{D0}\\\\20 c_{A}^{2} c_{A0} - 20 c_{A}^{2} c_{D} + 20 c_{A}^{2} c_{D0} - 20 c_{A} c_{A0}^{2} + 40 c_{A} c_{A0} c_{D} - 40 c_{A} c_{A0} c_{D0} + c_{A0} c_{D} - c_{A0} c_{D0}\\\\20 c_{A}^{3} - 20 c_{A}^{2} c_{A0} - 20 c_{A}^{2} c_{B} - 20 c_{A}^{2} c_{B0} + 40 c_{A} c_{A0} c_{B} - c_{A} c_{B0} + c_{A0} c_{B}\\end{matrix}\\right]$$"
      ],
      "text/plain": [
       "[      3         2              2              2             2                   2                                                                                                                                                            2                                                                ]\n",
       "[40*c_A  - 60*c_A *c_A0 - 60*c_A *c_B0 + 60*c_A *c_D - 60*c_A *c_D0 + 20*c_A*c_A0  + 40*c_A*c_A0*c_B + 40*c_A*c_A0*c_B0 - 40*c_A*c_A0*c_D + 40*c_A*c_A0*c_D0 - 40*c_A*c_B*c_D + 40*c_A*c_B*c_D0 - 40*c_A*c_B0*c_D + 40*c_A*c_B0*c_D0 - 20*c_A0 *c_B + 40*c_A0*c_B*c_D - 40*c_A0*c_B*c_D0 - c_B0*c_D + c_B0*c_D0]\n",
       "[                                                                                                                                                                                                                                                                                                              ]\n",
       "[                                                                                                   2              2             2                   2                                                                                                                                                         ]\n",
       "[                                                                                             20*c_A *c_A0 - 20*c_A *c_D + 20*c_A *c_D0 - 20*c_A*c_A0  + 40*c_A*c_A0*c_D - 40*c_A*c_A0*c_D0 + c_A0*c_D - c_A0*c_D0                                                                                             ]\n",
       "[                                                                                                                                                                                                                                                                                                              ]\n",
       "[                                                                                                               3         2              2             2                                                                                                                                                       ]\n",
       "[                                                                                                         20*c_A  - 20*c_A *c_A0 - 20*c_A *c_B - 20*c_A *c_B0 + 40*c_A*c_A0*c_B - c_A*c_B0 + c_A0*c_B                                                                                                          ]"
      ]
     },
     "execution_count": 8,
     "metadata": {},
     "output_type": "execute_result"
    }
   ],
   "source": [
    "grad_phi = sympy.Matrix((sympy.diff(phi,cA), sympy.diff(phi,cB), sympy.diff(phi,cD)))\n",
    "grad_phi = sympy.simplify(sympy.Matrix(1,3,grad_phi))\n",
    "sympy.factor(grad_phi.T)"
   ]
  },
  {
   "cell_type": "markdown",
   "metadata": {},
   "source": [
    "## Calculating $\\alpha\\left(\\mathbf{C}\\right)$\n",
    "\n",
    "Next, we compute $\\alpha\\left(\\mathbf{C}\\right)$ from\n",
    "$$ \\alpha\\left(\\mathbf{C}\\right)=\\frac{\\left[\\nabla\\varphi\\left(\\mathbf{C}\\right)\\right]^{\\mathrm{T}}\\mathbf{r}\\left(\\mathbf{C}\\right)}{\\left[\\nabla\\varphi\\left(\\mathbf{C}\\right)\\right]^{\\mathrm{T}}\\mathbf{v}\\left(\\mathbf{C}\\right)} $$\n",
    "\n",
    "For clarity, we shall split the expression for $\\alpha\\left(\\mathbf{C}\\right)$ into separate numerator and denominator expressions."
   ]
  },
  {
   "cell_type": "code",
   "execution_count": 9,
   "metadata": {
    "collapsed": false
   },
   "outputs": [
    {
     "data": {
      "image/png": "[encoded data removed]",
      "text/latex": [
       "$$\\frac{10 c_{A}^{2} \\left(- c_{A} \\left(20 c_{A} + 1\\right) \\left(c_{A} - c_{A0} - c_{B} + c_{B0}\\right) + \\left(c_{A} - c_{A0}\\right) \\left(c_{A} - c_{B}\\right) \\left(40 c_{A} + 1\\right)\\right) - c_{A} \\left(20 c_{A} + 1\\right) \\left(40 c_{A}^{3} - 60 c_{A}^{2} c_{A0} - 60 c_{A}^{2} c_{B0} + 60 c_{A}^{2} c_{D} - 60 c_{A}^{2} c_{D0} + 20 c_{A} c_{A0}^{2} + 40 c_{A} c_{A0} c_{B} + 40 c_{A} c_{A0} c_{B0} - 40 c_{A} c_{A0} c_{D} + 40 c_{A} c_{A0} c_{D0} - 40 c_{A} c_{B} c_{D} + 40 c_{A} c_{B} c_{D0} - 40 c_{A} c_{B0} c_{D} + 40 c_{A} c_{B0} c_{D0} - 20 c_{A0}^{2} c_{B} + 40 c_{A0} c_{B} c_{D} - 40 c_{A0} c_{B} c_{D0} - c_{B0} c_{D} + c_{B0} c_{D0}\\right) + \\left(c_{A} - c_{B}\\right) \\left(20 c_{A}^{2} c_{A0} - 20 c_{A}^{2} c_{D} + 20 c_{A}^{2} c_{D0} - 20 c_{A} c_{A0}^{2} + 40 c_{A} c_{A0} c_{D} - 40 c_{A} c_{A0} c_{D0} + c_{A0} c_{D} - c_{A0} c_{D0}\\right)}{\\left(c_{A} - c_{A0}\\right) \\left(40 c_{A}^{3} - 60 c_{A}^{2} c_{A0} - 60 c_{A}^{2} c_{B0} + 60 c_{A}^{2} c_{D} - 60 c_{A}^{2} c_{D0} + 20 c_{A} c_{A0}^{2} + 40 c_{A} c_{A0} c_{B} + 40 c_{A} c_{A0} c_{B0} - 40 c_{A} c_{A0} c_{D} + 40 c_{A} c_{A0} c_{D0} - 40 c_{A} c_{B} c_{D} + 40 c_{A} c_{B} c_{D0} - 40 c_{A} c_{B0} c_{D} + 40 c_{A} c_{B0} c_{D0} - 20 c_{A0}^{2} c_{B} + 40 c_{A0} c_{B} c_{D} - 40 c_{A0} c_{B} c_{D0} - c_{B0} c_{D} + c_{B0} c_{D0}\\right) + \\left(c_{B} - c_{B0}\\right) \\left(20 c_{A}^{2} c_{A0} - 20 c_{A}^{2} c_{D} + 20 c_{A}^{2} c_{D0} - 20 c_{A} c_{A0}^{2} + 40 c_{A} c_{A0} c_{D} - 40 c_{A} c_{A0} c_{D0} + c_{A0} c_{D} - c_{A0} c_{D0}\\right) - \\left(c_{D} - c_{D0}\\right) \\left(c_{A} \\left(20 c_{A} + 1\\right) \\left(c_{A} - c_{A0} - c_{B} + c_{B0}\\right) - \\left(c_{A} - c_{A0}\\right) \\left(c_{A} - c_{B}\\right) \\left(40 c_{A} + 1\\right)\\right)}$$"
      ],
      "text/plain": [
       "       2                                                                                                          /      3         2              2              2             2                   2                                                                                                                                                            2                                                                \\               /      2              2             2                   2                                                            \\\n",
       " 10*c_A *(-c_A*(20*c_A + 1)*(c_A - c_A0 - c_B + c_B0) + (c_A - c_A0)*(c_A - c_B)*(40*c_A + 1)) - c_A*(20*c_A + 1)*\\40*c_A  - 60*c_A *c_A0 - 60*c_A *c_B0 + 60*c_A *c_D - 60*c_A *c_D0 + 20*c_A*c_A0  + 40*c_A*c_A0*c_B + 40*c_A*c_A0*c_B0 - 40*c_A*c_A0*c_D + 40*c_A*c_A0*c_D0 - 40*c_A*c_B*c_D + 40*c_A*c_B*c_D0 - 40*c_A*c_B0*c_D + 40*c_A*c_B0*c_D0 - 20*c_A0 *c_B + 40*c_A0*c_B*c_D - 40*c_A0*c_B*c_D0 - c_B0*c_D + c_B0*c_D0/ + (c_A - c_B)*\\20*c_A *c_A0 - 20*c_A *c_D + 20*c_A *c_D0 - 20*c_A*c_A0  + 40*c_A*c_A0*c_D - 40*c_A*c_A0*c_D0 + c_A0*c_D - c_A0*c_D0/\n",
       "-----------------------------------------------------------------------------------------------------------------------------------------------------------------------------------------------------------------------------------------------------------------------------------------------------------------------------------------------------------------------------------------------------------------------------------------------------------------------------------------------------------------------------------------------------------------------\n",
       "             /      3         2              2              2             2                   2                                                                                                                                                            2                                                                \\                /      2              2             2                   2                                                            \\                                                                                                    \n",
       "(c_A - c_A0)*\\40*c_A  - 60*c_A *c_A0 - 60*c_A *c_B0 + 60*c_A *c_D - 60*c_A *c_D0 + 20*c_A*c_A0  + 40*c_A*c_A0*c_B + 40*c_A*c_A0*c_B0 - 40*c_A*c_A0*c_D + 40*c_A*c_A0*c_D0 - 40*c_A*c_B*c_D + 40*c_A*c_B*c_D0 - 40*c_A*c_B0*c_D + 40*c_A*c_B0*c_D0 - 20*c_A0 *c_B + 40*c_A0*c_B*c_D - 40*c_A0*c_B*c_D0 - c_B0*c_D + c_B0*c_D0/ + (c_B - c_B0)*\\20*c_A *c_A0 - 20*c_A *c_D + 20*c_A *c_D0 - 20*c_A*c_A0  + 40*c_A*c_A0*c_D - 40*c_A*c_A0*c_D0 + c_A0*c_D - c_A0*c_D0/ - (c_D - c_D0)*(c_A*(20*c_A + 1)*(c_A - c_A0 - c_B + c_B0) - (c_A - c_A0)*(c_A - c_B)*(40*c_A + 1))"
      ]
     },
     "execution_count": 9,
     "metadata": {},
     "output_type": "execute_result"
    }
   ],
   "source": [
    "top_expr = (grad_phi*r)[0]\n",
    "bot_expr = (grad_phi*v)[0]\n",
    "\n",
    "alpha = sympy.simplify(top_expr/bot_expr)\n",
    "alpha"
   ]
  },
  {
   "cell_type": "markdown",
   "metadata": {
    "collapsed": false
   },
   "source": [
    "This is a rather complex function. We can simplify it slightly by substituting in the function for $c_D$, solved for eariler, and simplify, which results in an expression that is a function of $c_A$ and $c_B$ only. (This is unique for the Van de Vusse system, and this simplification will not work for all systems, but it is useful if it can be exploited.)"
   ]
  },
  {
   "cell_type": "code",
   "execution_count": 10,
   "metadata": {
    "collapsed": false
   },
   "outputs": [
    {
     "data": {
      "image/png": "[encoded data removed]",
      "text/latex": [
       "$$- \\frac{c_{A} \\left(20 c_{A}^{3} c_{B} + 20 c_{A}^{3} c_{B0} - 80 c_{A}^{2} c_{A0} c_{B} - c_{A}^{2} c_{A0} + 3 c_{A}^{2} c_{B0} + 40 c_{A} c_{A0}^{2} c_{B} + c_{A} c_{A0}^{2} - 3 c_{A} c_{A0} c_{B} - 2 c_{A} c_{A0} c_{B0} + 2 c_{A0}^{2} c_{B}\\right)}{2 c_{A}^{3} c_{B0} - 2 c_{A}^{2} c_{A0} c_{B} - 4 c_{A}^{2} c_{A0} c_{B0} + 4 c_{A} c_{A0}^{2} c_{B} + 2 c_{A} c_{A0}^{2} c_{B0} - 2 c_{A0}^{3} c_{B}}$$"
      ],
      "text/plain": [
       "     /      3             3              2               2             2                   2               2                                            2    \\ \n",
       "-c_A*\\20*c_A *c_B + 20*c_A *c_B0 - 80*c_A *c_A0*c_B - c_A *c_A0 + 3*c_A *c_B0 + 40*c_A*c_A0 *c_B + c_A*c_A0  - 3*c_A*c_A0*c_B - 2*c_A*c_A0*c_B0 + 2*c_A0 *c_B/ \n",
       "---------------------------------------------------------------------------------------------------------------------------------------------------------------\n",
       "                                   3             2                 2                       2                 2              3                                  \n",
       "                              2*c_A *c_B0 - 2*c_A *c_A0*c_B - 4*c_A *c_A0*c_B0 + 4*c_A*c_A0 *c_B + 2*c_A*c_A0 *c_B0 - 2*c_A0 *c_B                              "
      ]
     },
     "execution_count": 10,
     "metadata": {},
     "output_type": "execute_result"
    }
   ],
   "source": [
    "alpha = sympy.simplify(alpha.subs(cD, cD_fn))\n",
    "alpha"
   ]
  },
  {
   "cell_type": "markdown",
   "metadata": {
    "collapsed": false
   },
   "source": [
    "which is our final expression for $\\alpha\\left(\\mathbf{C}\\right)$ in terms of the specified mixing vector"
   ]
  },
  {
   "cell_type": "code",
   "execution_count": 11,
   "metadata": {
    "collapsed": false
   },
   "outputs": [
    {
     "name": "stdout",
     "output_type": "stream",
     "text": [
      "c_A = Symbol('c_A')\n",
      "c_B = Symbol('c_B')\n",
      "c_B0 = Symbol('c_B0')\n",
      "c_A0 = Symbol('c_A0')\n",
      "e = -c_A*(20*c_A**3*c_B + 20*c_A**3*c_B0 - 80*c_A**2*c_A0*c_B - c_A**2*c_A0 + 3*c_A**2*c_B0 + 40*c_A*c_A0**2*c_B + c_A*c_A0**2 - 3*c_A*c_A0*c_B - 2*c_A*c_A0*c_B0 + 2*c_A0**2*c_B)/(2*c_A**3*c_B0 - 2*c_A**2*c_A0*c_B - 4*c_A**2*c_A0*c_B0 + 4*c_A*c_A0**2*c_B + 2*c_A*c_A0**2*c_B0 - 2*c_A0**3*c_B)\n"
     ]
    }
   ],
   "source": [
    "print sympy.python(alpha)"
   ]
  }
 ],
 "metadata": {
  "kernelspec": {
   "display_name": "Python 2",
   "language": "python",
   "name": "python2"
  },
  "language_info": {
   "codemirror_mode": {
    "name": "ipython",
    "version": 2
   },
   "file_extension": ".py",
   "mimetype": "text/x-python",
   "name": "python",
   "nbconvert_exporter": "python",
   "pygments_lexer": "ipython2",
   "version": "2.7.10"
  }
 },
 "nbformat": 4,
 "nbformat_minor": 0
}
