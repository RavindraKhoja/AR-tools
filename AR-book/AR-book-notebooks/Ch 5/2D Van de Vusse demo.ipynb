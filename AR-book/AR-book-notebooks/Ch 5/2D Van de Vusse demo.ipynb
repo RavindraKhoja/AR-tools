{
 "cells": [
  {
   "cell_type": "markdown",
   "metadata": {},
   "source": [
    "## Python imports"
   ]
  },
  {
   "cell_type": "code",
   "execution_count": null,
   "metadata": {},
   "outputs": [],
   "source": [
    "import scipy as sp\n",
    "import matplotlib.pyplot as plt\n",
    "\n",
    "from scipy.integrate import odeint\n",
    "from scipy.spatial import ConvexHull\n",
    "import scipy.optimize\n",
    "\n",
    "from ipywidgets import interact, Checkbox\n",
    "\n",
    "%matplotlib inline\n",
    "plt.style.use(\"ggplot\")"
   ]
  },
  {
   "cell_type": "markdown",
   "metadata": {},
   "source": [
    "## Rate constants for van de Vusse kinetics"
   ]
  },
  {
   "cell_type": "code",
   "execution_count": null,
   "metadata": {
    "collapsed": true
   },
   "outputs": [],
   "source": [
    "k1 = 1.0\n",
    "k2 = 1.0\n",
    "k3 = 10.0"
   ]
  },
  {
   "cell_type": "markdown",
   "metadata": {},
   "source": [
    "## Define 2D van de Vusse rate function"
   ]
  },
  {
   "cell_type": "code",
   "execution_count": null,
   "metadata": {
    "collapsed": true
   },
   "outputs": [],
   "source": [
    "#2D van de Vusse kinetics\n",
    "#A -> B -> C\n",
    "\n",
    "def rate_fn(C,t):\n",
    "    cA = C[0]\n",
    "    cB = C[1]\n",
    "\n",
    "    #r = [rA, rB]\n",
    "    return sp.array([-k1*cA - 2*k3*cA**2,\n",
    "                    k1*cA - k2*cB])"
   ]
  },
  {
   "cell_type": "markdown",
   "metadata": {},
   "source": [
    "## Feed point"
   ]
  },
  {
   "cell_type": "code",
   "execution_count": null,
   "metadata": {},
   "outputs": [],
   "source": [
    "Cf = sp.array([1., 0.])"
   ]
  },
  {
   "cell_type": "markdown",
   "metadata": {},
   "source": [
    "## Integrate PFR"
   ]
  },
  {
   "cell_type": "code",
   "execution_count": null,
   "metadata": {},
   "outputs": [],
   "source": [
    "t_end = 10;\n",
    "N_pts = 50;\n",
    "pfr_ts = sp.logspace(-3,sp.log10(t_end),N_pts)\n",
    "\n",
    "pfr_cs = odeint(rate_fn,Cf,pfr_ts)"
   ]
  },
  {
   "cell_type": "code",
   "execution_count": null,
   "metadata": {},
   "outputs": [],
   "source": [
    "plt.figure(figsize=(15,5))\n",
    "\n",
    "plt.subplot(1,3,(1,2))\n",
    "\n",
    "plt.plot(pfr_ts,pfr_cs[:,0])\n",
    "plt.plot(pfr_ts,pfr_cs[:,1])\n",
    "\n",
    "plt.xlabel('PFR residence time (s)')\n",
    "plt.ylabel('Concentration (mol/L)')\n",
    "\n",
    "plt.subplot(1,3,3)\n",
    "plt.plot(pfr_cs[:,0],pfr_cs[:,1], 'r-')\n",
    "\n",
    "plt.xlabel('cA (mol/L)')\n",
    "plt.ylabel('cB (mol/L)')\n",
    "plt.show()\n",
    "\n",
    "plt.show()"
   ]
  },
  {
   "cell_type": "markdown",
   "metadata": {},
   "source": [
    "## Solve CSTR locus"
   ]
  },
  {
   "cell_type": "code",
   "execution_count": null,
   "metadata": {},
   "outputs": [],
   "source": [
    "cstr_ts = sp.logspace(-3,sp.log10(t_end*100),N_pts)\n",
    "\n",
    "k=0\n",
    "C_guess = Cf\n",
    "cstr_cs = Cf\n",
    "for ti in cstr_ts:\n",
    "    def cstr_fn(Ci):\n",
    "        f = Cf + ti*rate_fn(Ci,[]) - Ci\n",
    "        \n",
    "        return f\n",
    "    \n",
    "    #attempt to solve for CSTR solution\n",
    "    Ci = scipy.optimize.newton_krylov(cstr_fn, C_guess, f_tol=1e-4)\n",
    "    cstr_cs = sp.vstack([cstr_cs, Ci])\n",
    "    C_guess = Ci\n",
    "    \n",
    "    k += 1"
   ]
  },
  {
   "cell_type": "code",
   "execution_count": null,
   "metadata": {},
   "outputs": [],
   "source": [
    "plt.figure()\n",
    "\n",
    "plt.plot(pfr_cs[:,0],pfr_cs[:,1], 'r-')\n",
    "plt.plot(cstr_cs[:,0],cstr_cs[:,1], 'bx')\n",
    "\n",
    "plt.xlabel('cA (mol/L)')\n",
    "plt.ylabel('cB (mol/L)')\n",
    "\n",
    "plt.show()"
   ]
  },
  {
   "cell_type": "markdown",
   "metadata": {},
   "source": [
    "## Plot PFR trajectories from CSTR points"
   ]
  },
  {
   "cell_type": "code",
   "execution_count": null,
   "metadata": {},
   "outputs": [],
   "source": [
    "all_cs = cstr_cs\n",
    "\n",
    "plt.figure()\n",
    "\n",
    "for ci in cstr_cs:\n",
    "    pi_cs = odeint(rate_fn,ci,pfr_ts)\n",
    "    \n",
    "    plt.plot(ci[0],ci[1], 'bx')\n",
    "    plt.plot(pi_cs[:,0],pi_cs[:,1],'r-')\n",
    "    \n",
    "    all_cs = sp.vstack([all_cs, pi_cs])\n",
    "    \n",
    "plt.xlabel('cA (mol/L)')\n",
    "plt.ylabel('cB (mol/L)')\n",
    "\n",
    "plt.show()"
   ]
  },
  {
   "cell_type": "markdown",
   "metadata": {},
   "source": [
    "## Convex hull"
   ]
  },
  {
   "cell_type": "code",
   "execution_count": null,
   "metadata": {},
   "outputs": [],
   "source": [
    "K = ConvexHull(all_cs).vertices\n",
    "chull_xs, chull_ys = all_cs[K,0], all_cs[K,1]\n",
    "    \n",
    "plt.figure()\n",
    "\n",
    "plt.fill(chull_xs, chull_ys, 'g', alpha=0.3)\n",
    "plt.plot(pfr_cs[:,0],pfr_cs[:,1],'r-')\n",
    "plt.plot(cstr_cs[:,0],cstr_cs[:,1], 'bx')\n",
    "\n",
    "plt.xlabel('cA (mol/L)')\n",
    "plt.ylabel('cB (mol/L)')\n",
    "\n",
    "plt.show()"
   ]
  },
  {
   "cell_type": "markdown",
   "metadata": {},
   "source": [
    "## Objective function 1"
   ]
  },
  {
   "cell_type": "code",
   "execution_count": null,
   "metadata": {
    "collapsed": true
   },
   "outputs": [],
   "source": [
    "def plot_fn2(m=0.25, cB=0.15):\n",
    "      \n",
    "    def objective_fn(cA):\n",
    "        return cA*m + cB\n",
    "    \n",
    "    obj_cAs = sp.linspace(0,1,10)\n",
    "    obj_cBs = objective_fn(obj_cAs)\n",
    "    \n",
    "    plt.figure()\n",
    "\n",
    "    plt.fill(chull_xs, chull_ys, 'g', alpha=0.3)\n",
    "    plt.plot(pfr_cs[:,0],pfr_cs[:,1],'r-')\n",
    "    plt.plot(cstr_cs[:,0],cstr_cs[:,1], 'bx')\n",
    "    \n",
    "    plt.plot(obj_cAs,obj_cBs,'k:')\n",
    "\n",
    "    plt.title('cB = %.2fcA + %.3f mol/L'%(m,cB))\n",
    "    plt.axis([0,1, 0,0.3])\n",
    "    plt.xlabel('cA (mol/L)')\n",
    "    plt.ylabel('cB (mol/L)')\n",
    "    plt.show()"
   ]
  },
  {
   "cell_type": "code",
   "execution_count": null,
   "metadata": {},
   "outputs": [],
   "source": [
    "interact(plot_fn2, m=(0,1,0.02), cB=(0,0.3,0.005))"
   ]
  },
  {
   "cell_type": "markdown",
   "metadata": {},
   "source": [
    "## Alternate objective function\n",
    "\n",
    "In chapter 4, we use instantaneous yield of component B over component D as an objective function.\n",
    "\n",
    "$$Y_{BD} = \\frac{k_1c_A - k_2c_B}{k_3{c_A}^2}$$\n",
    "\n",
    "When plotted against the AR, this provides insight into which concentrations should be targeted to favour the production of either component B or D."
   ]
  },
  {
   "cell_type": "code",
   "execution_count": null,
   "metadata": {
    "collapsed": true
   },
   "outputs": [],
   "source": [
    "def plot_fn3(Y_BD=0.1):\n",
    "      \n",
    "    def objective_fn(cA):\n",
    "        return (k1*cA - Y_BD*k3*cA**2)/k2\n",
    "    \n",
    "    obj_cAs = sp.linspace(0,1,50)\n",
    "    obj_cBs = objective_fn(obj_cAs)\n",
    "    \n",
    "    plt.figure()\n",
    "\n",
    "    plt.fill(chull_xs, chull_ys, 'g', alpha=0.3)\n",
    "    plt.plot(pfr_cs[:,0],pfr_cs[:,1],'r-')\n",
    "    plt.plot(cstr_cs[:,0],cstr_cs[:,1], 'bx')\n",
    "    \n",
    "    plt.plot(obj_cAs,obj_cBs,'k:')\n",
    "\n",
    "    plt.title('Yield $Y_{BD}$ = %.3f'%(Y_BD))\n",
    "    plt.axis([0,1, 0,0.3])\n",
    "    plt.xlabel('cA (mol/L)')\n",
    "    plt.ylabel('cB (mol/L)')\n",
    "    plt.show()"
   ]
  },
  {
   "cell_type": "code",
   "execution_count": null,
   "metadata": {},
   "outputs": [],
   "source": [
    "interact(plot_fn3, Y_BD=(0,0.5,0.001))"
   ]
  }
 ],
 "metadata": {
  "anaconda-cloud": {},
  "kernelspec": {
   "display_name": "Python 2",
   "language": "python",
   "name": "python2"
  },
  "language_info": {
   "codemirror_mode": {
    "name": "ipython",
    "version": 2
   },
   "file_extension": ".py",
   "mimetype": "text/x-python",
   "name": "python",
   "nbconvert_exporter": "python",
   "pygments_lexer": "ipython2",
   "version": "2.7.13"
  }
 },
 "nbformat": 4,
 "nbformat_minor": 1
}
