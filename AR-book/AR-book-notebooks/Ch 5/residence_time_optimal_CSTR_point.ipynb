{
 "cells": [
  {
   "cell_type": "markdown",
   "metadata": {},
   "source": [
    "## Python imports"
   ]
  },
  {
   "cell_type": "code",
   "execution_count": null,
   "metadata": {},
   "outputs": [],
   "source": [
    "import scipy as sp\n",
    "import matplotlib.pyplot as plt\n",
    "\n",
    "from scipy.integrate import odeint\n",
    "from scipy.spatial import ConvexHull\n",
    "import scipy.optimize\n",
    "\n",
    "from ipywidgets import interact, Checkbox\n",
    "\n",
    "%matplotlib inline\n",
    "plt.style.use(\"ggplot\")"
   ]
  },
  {
   "cell_type": "code",
   "execution_count": null,
   "metadata": {},
   "outputs": [],
   "source": [
    "Cf = [20.0, 1e-6];\n",
    "k = 0.002;\n",
    "\n",
    "def cstr_fn(x):\n",
    "    ti = x/(k*(1-x)*(Cf[1] + Cf[0]*x))\n",
    "    \n",
    "    return ti\n",
    "\n",
    "def rate_fn(C,t):\n",
    "    cA = C[0]\n",
    "    cB = Cf[1] + Cf[0]*(1.0 - cA/Cf[0])\n",
    "    \n",
    "    #rA = -k*cA*cB\n",
    "    rA = -k*cA*cB\n",
    "    \n",
    "    return sp.array([rA,1.0])\n",
    "\n",
    "x_range = sp.linspace(0,1,100)\n",
    "cA_range = Cf[0]*(1.0 - x_range)\n",
    "cB_range = Cf[1] + Cf[0]*x_range\n",
    "\n",
    "cstr_ts = cstr_fn(x_range)\n",
    "\n",
    "plt.figure()\n",
    "\n",
    "plt.plot(cA_range,cstr_ts, \"bx\")\n",
    "\n",
    "plt.axis([0,Cf[0],0,1000])\n",
    "plt.show()"
   ]
  },
  {
   "cell_type": "code",
   "execution_count": null,
   "metadata": {},
   "outputs": [],
   "source": [
    "cstr_cs = sp.array([cA_range,cstr_ts]).T\n",
    "\n",
    "plt.figure()\n",
    "\n",
    "for ci in cstr_cs:\n",
    "        \n",
    "    #integrate PFR from CSTR locus and only keep concentrations lower than 1000 s residence time\n",
    "    pfr_ts = sp.logspace(-3,3,300)\n",
    "    pfr_cs = odeint(rate_fn, ci, pfr_ts)\n",
    "    \n",
    "    all_cs = sp.vstack([cstr_cs,pfr_cs, [Cf[0], 1000.0]])\n",
    "    \n",
    "    kk = sp.nonzero(all_cs[:,1]<=1000.0)[0]\n",
    "    valid_cs = all_cs[kk,:]\n",
    "\n",
    "    plt.plot(valid_cs[:,0], valid_cs[:,1], \"rx\")\n",
    "    \n",
    "plt.show()"
   ]
  },
  {
   "cell_type": "code",
   "execution_count": null,
   "metadata": {},
   "outputs": [],
   "source": [
    "K = ConvexHull(valid_cs, qhull_options=\"FA\")\n",
    "K.volume"
   ]
  }
 ],
 "metadata": {
  "kernelspec": {
   "display_name": "Python 2",
   "language": "python",
   "name": "python2"
  },
  "language_info": {
   "codemirror_mode": {
    "name": "ipython",
    "version": 2
   },
   "file_extension": ".py",
   "mimetype": "text/x-python",
   "name": "python",
   "nbconvert_exporter": "python",
   "pygments_lexer": "ipython2",
   "version": "2.7.13"
  }
 },
 "nbformat": 4,
 "nbformat_minor": 1
}
