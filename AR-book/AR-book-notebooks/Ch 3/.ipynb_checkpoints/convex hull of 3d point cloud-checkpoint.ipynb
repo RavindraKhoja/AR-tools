{
 "cells": [
  {
   "cell_type": "markdown",
   "metadata": {},
   "source": [
    "# Convex hull of random three-dimensional point cloud"
   ]
  },
  {
   "cell_type": "markdown",
   "metadata": {},
   "source": [
    "## Python imports"
   ]
  },
  {
   "cell_type": "code",
   "execution_count": 3,
   "metadata": {
    "collapsed": false
   },
   "outputs": [],
   "source": [
    "import scipy as sp\n",
    "from scipy.spatial import ConvexHull\n",
    "\n",
    "import matplotlib.pyplot as plt\n",
    "import matplotlib\n",
    "plt.style.use(\"ggplot\")\n",
    "from mpl_toolkits.mplot3d import Axes3D\n",
    "\n",
    "from IPython.html.widgets import interact, interactive, fixed, Checkbox\n",
    "from IPython.display import display\n",
    "\n",
    "#%matplotlib inline\n"
   ]
  },
  {
   "cell_type": "markdown",
   "metadata": {},
   "source": [
    "##Convex hull of random three-dimensional point cloud"
   ]
  },
  {
   "cell_type": "code",
   "execution_count": 5,
   "metadata": {
    "collapsed": false
   },
   "outputs": [],
   "source": [
    "Npts = 50\n",
    "X = sp.rand(Npts,3)\n",
    "K = ConvexHull(X).vertices\n",
    "Y = X[K,:]\n",
    "simplices = ConvexHull(Y).simplices\n",
    "\n",
    "fig = plt.figure()\n",
    "fig.hold(True)\n",
    "ax = fig.gca(projection='3d')\n",
    "\n",
    "ax.plot(X[:,0],X[:,1],X[:,2],'bo')\n",
    "ax.plot(Y[:,0],Y[:,1],Y[:,2],'y^')\n",
    "ax.plot_trisurf(matplotlib.tri.Triangulation(Y[:,0],Y[:,1],simplices), Y[:,2], alpha=0.25)\n",
    "\n",
    "ax.set_xlabel(\"X\")\n",
    "ax.set_ylabel(\"Y\")\n",
    "ax.set_zlabel(\"Z\")\n",
    "\n",
    "plt.show()"
   ]
  }
 ],
 "metadata": {
  "kernelspec": {
   "display_name": "Python 2",
   "language": "python",
   "name": "python2"
  },
  "language_info": {
   "codemirror_mode": {
    "name": "ipython",
    "version": 2
   },
   "file_extension": ".py",
   "mimetype": "text/x-python",
   "name": "python",
   "nbconvert_exporter": "python",
   "pygments_lexer": "ipython2",
   "version": "2.7.10"
  }
 },
 "nbformat": 4,
 "nbformat_minor": 0
}
