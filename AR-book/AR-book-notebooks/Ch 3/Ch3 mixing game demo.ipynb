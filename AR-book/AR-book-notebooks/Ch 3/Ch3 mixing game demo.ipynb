{
 "cells": [
  {
   "cell_type": "markdown",
   "metadata": {},
   "source": [
    "# Mixing game demonstratiom from Chapter 3"
   ]
  },
  {
   "cell_type": "markdown",
   "metadata": {},
   "source": [
    "## Python imports"
   ]
  },
  {
   "cell_type": "code",
   "execution_count": null,
   "metadata": {},
   "outputs": [],
   "source": [
    "import scipy as sp\n",
    "from scipy.integrate import odeint\n",
    "\n",
    "import matplotlib.pyplot as plt\n",
    "\n",
    "from ipywidgets import interact\n",
    "\n",
    "%matplotlib inline\n",
    "plt.style.use(\"ggplot\")"
   ]
  },
  {
   "cell_type": "markdown",
   "metadata": {},
   "source": [
    "## BTX kinetics and feed point "
   ]
  },
  {
   "cell_type": "code",
   "execution_count": null,
   "metadata": {
    "collapsed": true
   },
   "outputs": [],
   "source": [
    "#BTX kinetics\n",
    "def btx_rate(C,t):\n",
    "    \n",
    "    #Concentration vector: C = [cB, cE, cT, cX, cD, cH]\n",
    "    cB = C[0]\n",
    "    cE = C[1]\n",
    "    cT = C[2]\n",
    "    \n",
    "    #rate constants\n",
    "    k1 = 1.0\n",
    "    k2 = 1.0\n",
    "    k3 = 10.0  \n",
    "    \n",
    "    rB = -k1*cB*cE**0.5 - 2*k3*cB**2\n",
    "    rE = -0.5*k1*cB*cE**0.5 - 0.5*k2*cT*cE**0.5\n",
    "    rT = k1*cB*cE**0.5 - k2*cT*cE**0.5\n",
    "    rX = k2*cT*cE**0.5\n",
    "    rD = k3*cB**2\n",
    "    rH = rD\n",
    "    \n",
    "    dC = sp.array([rB, rE, rT, rX, rD, rH])\n",
    "    return dC\n",
    "\n",
    "#Feed point\n",
    "Cf = sp.array([1., 0.5, 0., 0., 0., 0.])"
   ]
  },
  {
   "cell_type": "markdown",
   "metadata": {},
   "source": [
    "## Integrate batch equation from feed point"
   ]
  },
  {
   "cell_type": "code",
   "execution_count": null,
   "metadata": {},
   "outputs": [],
   "source": [
    "t_end = 10\n",
    "N_pts = 100\n",
    "ts = sp.logspace(-3, sp.log10(t_end), N_pts)\n",
    "\n",
    "pfr_cs = odeint(btx_rate,Cf,ts)"
   ]
  },
  {
   "cell_type": "markdown",
   "metadata": {},
   "source": [
    "## Plotting function "
   ]
  },
  {
   "cell_type": "code",
   "execution_count": null,
   "metadata": {
    "collapsed": true
   },
   "outputs": [],
   "source": [
    "def plot_fn(idx1=N_pts-1, L1=0.5,\n",
    "            idx2=N_pts-1, L2=0.5):\n",
    "    \n",
    "    #first mixing point\n",
    "    C1 = pfr_cs[idx1,:]\n",
    "    Cm1 = Cf + L1*(C1-Cf)\n",
    "    \n",
    "    #integrate from mixing pt\n",
    "    pfr2_cs = odeint(btx_rate,Cm1,ts)\n",
    "    \n",
    "    #2nd mixing pt\n",
    "    C2 = pfr2_cs[idx2,:]\n",
    "    Cm2 = Cf + L2*(C2-Cf)\n",
    "    \n",
    "    #integrate from 2nd mixing pt\n",
    "    pfr3_cs = odeint(btx_rate,Cm2,ts)\n",
    "    \n",
    "    #plot\n",
    "    fig = plt.figure(figsize=(8,6))\n",
    "    ax = fig.gca()\n",
    "    \n",
    "    #plot PFR trajectpries\n",
    "    h1, = ax.plot(pfr_cs[:,0],pfr_cs[:,2],'r-')\n",
    "    h2, = ax.plot(pfr2_cs[:,0],pfr2_cs[:,2], 'r:')\n",
    "    h3, = ax.plot(pfr3_cs[:,0],pfr3_cs[:,2], 'r--')\n",
    "    \n",
    "    #terminating points and mixing pt 1\n",
    "    plt.plot(C1[0],C1[2], 'bo')\n",
    "    plt.plot(Cm1[0],Cm1[2], 'g^')\n",
    "    plt.plot(C2[0],C2[2], 'b*')\n",
    "    plt.plot(Cm2[0],Cm2[2], 'gs')\n",
    "    \n",
    "    #mixing lines\n",
    "    #plt.plot([Cf[0],C1[0]], [Cf[2],C1[2]], 'k--')\n",
    "    #plt.plot([Cf[0],C2[0]], [Cf[2],C2[2]], 'k--')\n",
    "    \n",
    "    #legend\n",
    "    ax.legend([h1,h2,h3], ['Original batch', '1st mix', '2nd mix'])\n",
    "    \n",
    "    plt.xlabel('Benzene (mol/L)')\n",
    "    plt.ylabel('Toluene (mol/L)')\n",
    "    plt.axis([0,1, 0,0.08])\n",
    "    \n",
    "    plt.show()\n",
    "    "
   ]
  },
  {
   "cell_type": "markdown",
   "metadata": {},
   "source": [
    "## Interactive mixing game "
   ]
  },
  {
   "cell_type": "markdown",
   "metadata": {},
   "source": [
    "Use the sliders to simulate two iterations of the mixing game. The *idx* parameters adjust the ending time of the current batch - e.g. idx1 indicates the terminating point of the original batch trajectory used to mix with the feed, that is used a starting concentration for the first mixture batch trajectory. \n",
    "\n",
    "Similarly, the *L* parameters adjust the mixing fraction between the batch and the feed point $\\mathbf{C}_f$."
   ]
  },
  {
   "cell_type": "code",
   "execution_count": null,
   "metadata": {},
   "outputs": [],
   "source": [
    "interact(plot_fn, idx1=(1,N_pts-1,1), L1=(0,1,0.02),\n",
    "                     idx2=(1,N_pts-1,1), L2=(0,1,0.02))"
   ]
  }
 ],
 "metadata": {
  "kernelspec": {
   "display_name": "Python 2",
   "language": "python",
   "name": "python2"
  },
  "language_info": {
   "codemirror_mode": {
    "name": "ipython",
    "version": 2
   },
   "file_extension": ".py",
   "mimetype": "text/x-python",
   "name": "python",
   "nbconvert_exporter": "python",
   "pygments_lexer": "ipython2",
   "version": "2.7.13"
  }
 },
 "nbformat": 4,
 "nbformat_minor": 1
}
