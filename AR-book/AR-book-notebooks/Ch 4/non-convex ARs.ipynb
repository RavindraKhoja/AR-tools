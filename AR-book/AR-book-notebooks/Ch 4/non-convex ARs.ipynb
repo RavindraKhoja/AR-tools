{
 "cells": [
  {
   "cell_type": "markdown",
   "metadata": {},
   "source": [
    "# PFR trajectory convex hull demonstration\n",
    "## Package imports"
   ]
  },
  {
   "cell_type": "code",
   "execution_count": null,
   "metadata": {
    "collapsed": true
   },
   "outputs": [],
   "source": [
    "# artools\n",
    "import sys\n",
    "sys.path.append('../../../artools')\n",
    "import artools\n",
    "artools = reload(artools)\n",
    "\n",
    "# anaconda\n",
    "from ipywidgets import interact\n",
    "\n",
    "import scipy as sp\n",
    "from scipy.spatial import ConvexHull\n",
    "\n",
    "import matplotlib.pyplot as plt\n",
    "from matplotlib.tri import Triangulation\n",
    "%matplotlib inline\n",
    "\n",
    "plt.style.use(\"ggplot\")\n",
    "from mpl_toolkits.mplot3d import Axes3D"
   ]
  },
  {
   "cell_type": "markdown",
   "metadata": {},
   "source": [
    "## Define kinetics\n",
    "\n",
    "We use the van de vusse system to demonstrate:\n",
    "$$\n",
    "\\begin{align}\n",
    "\\mathrm{A}\t&\\rightarrow\\mathrm{B}\\rightarrow\\mathrm{C} \\\\\n",
    "2\\mathrm{A}\t&\\rightarrow\\mathrm{D}\n",
    "\\end{align}\n",
    "$$"
   ]
  },
  {
   "cell_type": "code",
   "execution_count": null,
   "metadata": {
    "collapsed": true
   },
   "outputs": [],
   "source": [
    "# 2D van de Vusse kinetics\n",
    "# A -> B -> C\n",
    "# 2A -> D\n",
    "\n",
    "\n",
    "def rate_fn(C,t):\n",
    "    cA = C[0]\n",
    "    cB = C[1]\n",
    "    \n",
    "    #rate constants\n",
    "    k1 = 1.0\n",
    "    k2 = 1.0\n",
    "    k3 = 10.0\n",
    "\n",
    "    #r = [rA, rB, rD]\n",
    "    return sp.array([-k1*cA - 2*k3*cA**2,\n",
    "                    k1*cA - k2*cB])\n"
   ]
  },
  {
   "cell_type": "markdown",
   "metadata": {},
   "source": [
    "## Set of achievable concentrations for a single PFR (no mixing)"
   ]
  },
  {
   "cell_type": "code",
   "execution_count": null,
   "metadata": {},
   "outputs": [],
   "source": [
    "# define feed\n",
    "Cf = sp.array([1.0, 0.0])\n",
    "\n",
    "pfr_cs, pfr_ts = artools.pfrTrajectory(Cf, rate_fn, 100)\n",
    "\n",
    "fig = plt.figure(figsize=(6,6))\n",
    "ax = fig.gca()\n",
    "\n",
    "ax.plot(pfr_cs[:, 0], pfr_cs[:, 1], \"r-\")\n",
    "\n",
    "ax.set_xlim([0.0, 1.0])\n",
    "ax.set_ylim([0.0, 0.12])\n",
    "ax.set_xlabel(\"cA (mol/L)\")\n",
    "ax.set_ylabel(\"cB (mol/L)\")\n",
    "\n",
    "plt.show(fig)"
   ]
  },
  {
   "cell_type": "markdown",
   "metadata": {},
   "source": [
    "The set of concentrations for just a PFR from the feed point in simply a line in $c_\\mathrm{A}-c_\\mathrm{B}$ space because we have assumed that mixing is not available (the plant may already be built without a bypass)."
   ]
  },
  {
   "cell_type": "markdown",
   "metadata": {},
   "source": [
    "## Set of achievable points for a CSTR-PFR arrangement (no mixing)"
   ]
  },
  {
   "cell_type": "code",
   "execution_count": null,
   "metadata": {},
   "outputs": [],
   "source": [
    "# generate CSTR locus from the feed\n",
    "cstr_cs, cstr_ts = artools.cstrLocus_fast(Cf, rate_fn, 1000, 100)\n",
    "\n",
    "# now plot PFR trajectories from each CSTR point\n",
    "fig = plt.figure(figsize=(6,6))\n",
    "ax = fig.gca()\n",
    "\n",
    "ax.plot(cstr_cs[:, 0], cstr_cs[:, 1], \"bx\")\n",
    "\n",
    "for cstr_ci in cstr_cs:\n",
    "    # plot PFR trajectory using CSTR concentration as a feed point\n",
    "    pfr_cs, pfr_ts = artools.pfrTrajectory(cstr_ci, rate_fn, 100)\n",
    "    ax.plot(pfr_cs[:, 0], pfr_cs[:, 1], \"r:\")\n",
    "\n",
    "ax.text(0.2, 0.02, \"X achievable point?\")\n",
    "    \n",
    "ax.set_xlim([0.0, 1.0])\n",
    "ax.set_ylim([0.0, 0.12])\n",
    "ax.set_xlabel(\"cA (mol/L)\")\n",
    "ax.set_ylabel(\"cB (mol/L)\")\n",
    "\n",
    "plt.show(fig)"
   ]
  },
  {
   "cell_type": "markdown",
   "metadata": {},
   "source": [
    "Since there is no mixing between streams, we cannot plot a filled region anymore, and the set of achievable points are only those that belong to the PFR or CSTR points in the above figure.\n",
    "\n",
    "If we wanted to operate at say $c_\\mathrm{A}$ = 0.2 mol/L and $c_\\mathrm{B}$ = 0.02 mol/L, then it would NOT be feasible because it is not contained within the set of achievable concentrations."
   ]
  }
 ],
 "metadata": {
  "anaconda-cloud": {},
  "kernelspec": {
   "display_name": "Python 2",
   "language": "python",
   "name": "python2"
  },
  "language_info": {
   "codemirror_mode": {
    "name": "ipython",
    "version": 2
   },
   "file_extension": ".py",
   "mimetype": "text/x-python",
   "name": "python",
   "nbconvert_exporter": "python",
   "pygments_lexer": "ipython2",
   "version": "2.7.13"
  }
 },
 "nbformat": 4,
 "nbformat_minor": 1
}
