{
 "cells": [
  {
   "cell_type": "markdown",
   "metadata": {},
   "source": [
    "# PFR trajectory convex hull demonstration\n",
    "## Import necessary python packages"
   ]
  },
  {
   "cell_type": "code",
   "execution_count": null,
   "metadata": {
    "collapsed": true
   },
   "outputs": [],
   "source": [
    "from ipywidgets import interact, Checkbox\n",
    "\n",
    "import scipy as sp\n",
    "from scipy.spatial import ConvexHull\n",
    "from scipy.integrate import odeint\n",
    "\n",
    "import matplotlib.pyplot as plt\n",
    "%matplotlib inline\n",
    "plt.style.use(\"ggplot\")"
   ]
  },
  {
   "cell_type": "markdown",
   "metadata": {},
   "source": [
    "## Define kinetics\n",
    "\n",
    "We use the van de vusse system to demonstrate:\n",
    "$$A \\rightarrow B \\rightarrow C$$\n",
    "$$2A \\rightarrow D$$"
   ]
  },
  {
   "cell_type": "code",
   "execution_count": null,
   "metadata": {
    "collapsed": true
   },
   "outputs": [],
   "source": [
    "#3D van de Vusse kinetics\n",
    "#A -> B -> C\n",
    "#2A -> D\n",
    "\n",
    "def rate_fn(C,t):\n",
    "    cA = C[0]\n",
    "    cB = C[1]\n",
    "    \n",
    "    #rate constants\n",
    "    k1 = 1.0;\n",
    "    k2 = 1.0;\n",
    "    k3 = 10.0;\n",
    "\n",
    "    #r = [rA, rB, rD]\n",
    "    return sp.array([-k1*cA - 2*k3*cA**2,\n",
    "                    k1*cA - k2*cB,\n",
    "                    k3*cA**2])\n"
   ]
  },
  {
   "cell_type": "markdown",
   "metadata": {},
   "source": [
    "## Plotting function"
   ]
  },
  {
   "cell_type": "code",
   "execution_count": null,
   "metadata": {
    "collapsed": true
   },
   "outputs": [],
   "source": [
    "def plot_fn(t_PFR=0.001, plot_convhull=True):\n",
    "    \n",
    "    t_max = 5.0;\n",
    "    \n",
    "    #generate integration time and integrate PFR trajectory\n",
    "    ts = sp.logspace(-4, sp.log10(t_PFR), 50)\n",
    "    Cf = sp.array([1.0, 0.0, 0.0])\n",
    "    Cs = odeint(rate_fn,Cf,ts)\n",
    "\n",
    "    #plot\n",
    "    plt.figure(figsize=(10, 10))\n",
    "    \n",
    "    #plot concentration profiles over time\n",
    "    ax1 = plt.subplot(2, 2, (1, 2))\n",
    "    \n",
    "    h1, = ax1.plot(ts,Cs[:,0],'b-', label='Component A')\n",
    "    h2, = ax1.plot(ts,Cs[:,1],'r-', label='Component B')\n",
    "    h3, = ax1.plot(ts,Cs[:,2],'k-', label='Component D')\n",
    "    \n",
    "    plt.axis([0,t_max, 0,0.8])\n",
    "    ax1.legend(handles=[h1, h2, h3])\n",
    "    plt.xlabel('PFR residence time')\n",
    "    plt.ylabel('Concentration (mol/L)')\n",
    "    \n",
    "    \n",
    "    #plot in cA-cB concentration sapce \n",
    "    plt.subplot(2, 2, 3)\n",
    "\n",
    "    plt.plot(Cs[:,0], Cs[:,1], 'r-')\n",
    "    plt.plot(Cf[0], Cf[1], 'k^')\n",
    "    \n",
    "    #plot convex hull region if checkbox is True\n",
    "    if plot_convhull:\n",
    "        #calculate convex hull points\n",
    "        hull = ConvexHull(Cs[:,(0,1)])\n",
    "        chull_xs, chull_ys = Cs[hull.vertices,0], Cs[hull.vertices,1]\n",
    "    \n",
    "        plt.fill(chull_xs, chull_ys, 'g', alpha=0.3)\n",
    "        plt.plot(chull_xs, chull_ys, 'wo')\n",
    "    \n",
    "    plt.axis([0,1.01, -0.01,0.1])\n",
    "    plt.xlabel('cA (mol/L)')\n",
    "    plt.ylabel('cB (mol/L)')\n",
    "    \n",
    "    \n",
    "    #plot in cA-cD concentration sapce \n",
    "    plt.subplot(2,2,4)\n",
    "\n",
    "    plt.plot(Cs[:,0], Cs[:,2], 'r-')\n",
    "    plt.plot(Cf[0], Cf[2], 'k^')\n",
    "    \n",
    "    #plot convex hull region if checkbox is True\n",
    "    if plot_convhull:\n",
    "        #calculate convex hull points\n",
    "        hull = ConvexHull(Cs[:,(0,2)])\n",
    "        chull_xs, chull_ys = Cs[hull.vertices,0], Cs[hull.vertices,2]\n",
    "    \n",
    "        plt.fill(chull_xs, chull_ys, 'g', alpha=0.3)\n",
    "        plt.plot(chull_xs, chull_ys, 'wo')\n",
    "    \n",
    "    plt.axis([-0.010,1, -0.01,0.5])\n",
    "    plt.xlabel('cA (mol/L)')\n",
    "    plt.ylabel('cD (mol/L)')\n",
    "    \n",
    "    plt.show()"
   ]
  },
  {
   "cell_type": "markdown",
   "metadata": {},
   "source": [
    "## Interact\n",
    "Drag the slider to show how the concentrations change in a PFR"
   ]
  },
  {
   "cell_type": "code",
   "execution_count": null,
   "metadata": {},
   "outputs": [],
   "source": [
    "interact(plot_fn, t_PFR=(0.001,5,0.001),\n",
    "           plot_convhull=Checkbox(description=\"Plot convex hull\", value=True))"
   ]
  },
  {
   "cell_type": "code",
   "execution_count": null,
   "metadata": {
    "collapsed": true
   },
   "outputs": [],
   "source": []
  }
 ],
 "metadata": {
  "anaconda-cloud": {},
  "kernelspec": {
   "display_name": "Python 2",
   "language": "python",
   "name": "python2"
  },
  "language_info": {
   "codemirror_mode": {
    "name": "ipython",
    "version": 2
   },
   "file_extension": ".py",
   "mimetype": "text/x-python",
   "name": "python",
   "nbconvert_exporter": "python",
   "pygments_lexer": "ipython2",
   "version": "2.7.13"
  }
 },
 "nbformat": 4,
 "nbformat_minor": 1
}
