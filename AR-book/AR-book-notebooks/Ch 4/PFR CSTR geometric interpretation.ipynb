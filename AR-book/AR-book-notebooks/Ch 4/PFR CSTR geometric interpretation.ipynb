{
 "cells": [
  {
   "cell_type": "markdown",
   "metadata": {},
   "source": [
    "# The geometric nature of PFRs and CSTRs\n",
    "## Python imports"
   ]
  },
  {
   "cell_type": "code",
   "execution_count": null,
   "metadata": {
    "collapsed": true
   },
   "outputs": [],
   "source": [
    "import scipy as sp\n",
    "from scipy.integrate import odeint\n",
    "import scipy.linalg\n",
    "import scipy.optimize\n",
    "\n",
    "import matplotlib.pyplot as plt\n",
    "\n",
    "from ipywidgets import interact\n",
    "\n",
    "%matplotlib inline\n",
    "plt.style.use(\"ggplot\")"
   ]
  },
  {
   "cell_type": "markdown",
   "metadata": {},
   "source": [
    "## Define kinetics\n",
    "\n",
    "We use the autocatalytic reaction:\n",
    "\n",
    "$$A + B \\rightarrow 2B$$\n",
    "$$B \\rightarrow C$$\n",
    "\n",
    "to demonstrate the geometric relationship between the rate field and fundamental reactor types."
   ]
  },
  {
   "cell_type": "code",
   "execution_count": null,
   "metadata": {
    "collapsed": true
   },
   "outputs": [],
   "source": [
    "#Autocatalytic kinetics\n",
    "def rate_fn(C,t):\n",
    "    \n",
    "    #Concentration vector: C = [cA, cB]\n",
    "    cA = C[0]\n",
    "    cB = C[1]\n",
    "    \n",
    "    #rate constants\n",
    "    k1 = 1.0\n",
    "    k2 = 1.0\n",
    "    \n",
    "    rA = -k1*cA*cB\n",
    "    rB = k1*cA*cB - k2*cB**2\n",
    "    \n",
    "    dC = sp.array([rA, rB])\n",
    "    return dC"
   ]
  },
  {
   "cell_type": "markdown",
   "metadata": {},
   "source": [
    "Define an integration range for the PFR"
   ]
  },
  {
   "cell_type": "code",
   "execution_count": null,
   "metadata": {
    "collapsed": true
   },
   "outputs": [],
   "source": [
    "t_end = 50\n",
    "N_pts = 100\n",
    "\n",
    "ts = sp.logspace(-3,sp.log10(t_end),N_pts)"
   ]
  },
  {
   "cell_type": "markdown",
   "metadata": {},
   "source": [
    "## Compute rate field based on kinetics\n",
    "We calculate the rate field for demonstrating the graphical properties of reactors later on"
   ]
  },
  {
   "cell_type": "code",
   "execution_count": null,
   "metadata": {},
   "outputs": [],
   "source": [
    "#calc rate vectors\n",
    "x_range = sp.linspace(0,1,20)\n",
    "y_range = sp.linspace(0,1,20)\n",
    "\n",
    "Rs = sp.zeros((len(x_range)*len(y_range),2))\n",
    "Cs = sp.zeros((len(x_range)*len(y_range),2))\n",
    "\n",
    "k = 0\n",
    "for xi in x_range:\n",
    "    for yi in y_range:\n",
    "        Ci = sp.array([xi,yi])\n",
    "        ri = rate_fn(Ci,[])\n",
    "        \n",
    "        #normalise rate vectors\n",
    "        ri_mag = scipy.linalg.norm(ri, 2)\n",
    "        ri_n = ri/ri_mag\n",
    "\n",
    "        Rs[k,:] = ri_n\n",
    "        Cs[k,:] = Ci\n",
    "        k += 1"
   ]
  },
  {
   "cell_type": "markdown",
   "metadata": {},
   "source": [
    "## Plotting function"
   ]
  },
  {
   "cell_type": "code",
   "execution_count": null,
   "metadata": {
    "collapsed": true
   },
   "outputs": [],
   "source": [
    "def plot_fn(CfA=1.0, CfB=0.01):\n",
    "    Cf = sp.array([CfA, CfB])\n",
    "    \n",
    "    #integrate PFR\n",
    "    pfr_cs = odeint(rate_fn,Cf,ts)\n",
    "    \n",
    "    #generate figure\n",
    "    fig = plt.figure()\n",
    "    ax = fig.gca()\n",
    "    \n",
    "    #print Rs\n",
    "    plt.quiver(Cs[:,0],Cs[:,1],Rs[:,0],Rs[:,1])  \n",
    "    \n",
    "    #plot PFR\n",
    "    plt.plot(pfr_cs[:,0], pfr_cs[:,1], 'r-')\n",
    "    \n",
    "    #feed point\n",
    "    plt.plot(CfA,CfB, 'y^')\n",
    "    #ax.text(CfA*0.95, CfB, 'Cf')\n",
    "    \n",
    "    plt.title('PFR trajectory')\n",
    "    plt.xlabel('$c_A$ (mol/L)')\n",
    "    plt.ylabel('$c_B$ (mol/L)')\n",
    "    plt.axis([0,1, 0,1])\n",
    "    \n",
    "    plt.show()"
   ]
  },
  {
   "cell_type": "markdown",
   "metadata": {},
   "source": [
    "## Interactive PFR trajectory \n",
    "### (ADD A CONTROL TO ADJUST THE RATE CONSTANTS SO THAT THEY CAN BE CHANGED IN REAL-TIME AS WELL)\n",
    "\n",
    "Use the sliders to adjust the feed concentration of the PFR. Notice how rate vectors evaluated on the resulting PFR trajectory are *always* tangent to the trajectory. The shape of the curve is defined by two factors:\n",
    "- The rate field (kinetics)\n",
    "- The feed point"
   ]
  },
  {
   "cell_type": "code",
   "execution_count": null,
   "metadata": {},
   "outputs": [],
   "source": [
    "interact(plot_fn, CfA=(0,1,0.01), CfB=(0,1,0.01))"
   ]
  },
  {
   "cell_type": "markdown",
   "metadata": {},
   "source": [
    "## CSTR locus\n",
    "\n",
    "We can do the same with the CSTR locus. However, since the CSTR locus is typically difficult to solve for analytically, we must rely on numerical computation. Intead of making the CSTR locus interactive (which would be too slow to display smoothly), we rather specify a feed point and then compute the associated CSTR locus in a separate cell, which can then be statically displayed."
   ]
  },
  {
   "cell_type": "code",
   "execution_count": null,
   "metadata": {
    "collapsed": true
   },
   "outputs": [],
   "source": [
    "def cstr_plot_fn(CfA=1.0, CfB=0.0, tau=1.0):\n",
    "    Cf = sp.array([CfA, CfB])\n",
    "    \n",
    "    def cstr_fn(Ci):\n",
    "        ri = rate_fn(Ci, [])\n",
    "        f = Cf + tau*ri - Ci\n",
    "        \n",
    "        return f\n",
    "    \n",
    "    #attempt to solve for CSTR solution\n",
    "    Ci = scipy.optimize.newton_krylov(cstr_fn, [0.5, 0.5], f_tol=1e-4)\n",
    "    \n",
    "    plt.figure()\n",
    "    \n",
    "    #plot rate field\n",
    "    plt.quiver(Cs[:,0], Cs[:,1], Rs[:,0], Rs[:,1])\n",
    "    \n",
    "    #plot feed\n",
    "    plt.plot(CfA,CfB, 'g^')\n",
    "    \n",
    "    #plot solution\n",
    "    #plt.plot(Ci[0],Ci[1], 'rx')\n",
    "    ri = rate_fn(Ci,[])\n",
    "    plt.quiver(Ci[0], Ci[1], ri[0], ri[1])\n",
    "    \n",
    "    #plot str line between Cf and Ci\n",
    "    plt.plot([Ci[0], Cf[0]], [Ci[1], Cf[1]], 'b--')\n",
    "    \n",
    "    plt.title('CSTR solution = [%.2f, %.2f] mol/L'%(Ci[0], Ci[1]))\n",
    "    plt.axis([-0.1,1.1, -0.1,1.1])\n",
    "    plt.xlabel('cA (mol/L)')\n",
    "    plt.ylabel('cB (mol/L)')\n",
    "    \n",
    "    plt.show()\n",
    "    "
   ]
  },
  {
   "cell_type": "markdown",
   "metadata": {},
   "source": [
    "## Interactive CSTR demo"
   ]
  },
  {
   "cell_type": "code",
   "execution_count": null,
   "metadata": {},
   "outputs": [],
   "source": [
    "interact(cstr_plot_fn, CfA=(0,1,0.01), CfB=(0,1,0.01), tau=(0,50,0.01))"
   ]
  },
  {
   "cell_type": "markdown",
   "metadata": {},
   "source": [
    "## Brute-force CSTR solution"
   ]
  },
  {
   "cell_type": "code",
   "execution_count": null,
   "metadata": {},
   "outputs": [],
   "source": [
    "#CSTR feed point\n",
    "Cf = sp.array([1.0, 0.0])\n",
    "\n",
    "#solve for CSTR solutions\n",
    "tol = 1e-5\n",
    "found_pts = 0\n",
    "cstr_cs = sp.zeros([100,2])\n",
    "k=0\n",
    "while found_pts < 100:\n",
    "    Ci = scipy.random.rand(2)\n",
    "    \n",
    "    vi = Ci-Cf\n",
    "    ri = rate_fn(Ci,[])\n",
    "    \n",
    "    ri_n = ri/scipy.linalg.norm(ri)\n",
    "    vi_n = vi/scipy.linalg.norm(vi)\n",
    "    \n",
    "    n = sp.fabs(sp.inner(vi_n,ri_n)) - 1.0 #xTy = 1 for vector x to be colinear to vector y\n",
    "    \n",
    "    if sp.fabs(n)<=tol: \n",
    "        found_pts += 1\n",
    "        print found_pts\n",
    "        \n",
    "        cstr_cs[k,:] = Ci\n",
    "        k = k + 1\n",
    "\n",
    "        \n",
    "#plot CSTR locus\n",
    "plt.figure()\n",
    "\n",
    "plt.plot(cstr_cs[:,0],cstr_cs[:,1], 'bx')\n",
    "\n",
    "plt.axis([0,1,0,1])\n",
    "plt.show()"
   ]
  }
 ],
 "metadata": {
  "anaconda-cloud": {},
  "kernelspec": {
   "display_name": "Python 2",
   "language": "python",
   "name": "python2"
  },
  "language_info": {
   "codemirror_mode": {
    "name": "ipython",
    "version": 2
   },
   "file_extension": ".py",
   "mimetype": "text/x-python",
   "name": "python",
   "nbconvert_exporter": "python",
   "pygments_lexer": "ipython2",
   "version": "2.7.13"
  }
 },
 "nbformat": 4,
 "nbformat_minor": 1
}
