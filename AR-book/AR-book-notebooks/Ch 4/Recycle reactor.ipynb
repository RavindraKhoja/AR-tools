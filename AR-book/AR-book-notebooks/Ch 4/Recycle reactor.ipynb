{
 "cells": [
  {
   "cell_type": "markdown",
   "metadata": {},
   "source": [
    "# PFR trajectory convex hull demonstration\n",
    "## Import necessary python packages"
   ]
  },
  {
   "cell_type": "code",
   "execution_count": null,
   "metadata": {
    "collapsed": true
   },
   "outputs": [],
   "source": [
    "# artools\n",
    "import sys\n",
    "sys.path.append('../../../artools')\n",
    "import artools\n",
    "artools = reload(artools)\n",
    "\n",
    "# anaconda\n",
    "from ipywidgets import interact\n",
    "\n",
    "import scipy as sp\n",
    "from scipy.spatial import ConvexHull\n",
    "\n",
    "import matplotlib.pyplot as plt\n",
    "from matplotlib.tri import Triangulation\n",
    "%matplotlib inline\n",
    "\n",
    "plt.style.use(\"ggplot\")\n",
    "from mpl_toolkits.mplot3d import Axes3D"
   ]
  },
  {
   "cell_type": "markdown",
   "metadata": {},
   "source": [
    "## Define kinetics\n",
    "\n",
    "We use the van de vusse system to demonstrate:\n",
    "$$A \\rightarrow B \\rightarrow C$$\n",
    "$$2A \\rightarrow D$$"
   ]
  },
  {
   "cell_type": "code",
   "execution_count": null,
   "metadata": {
    "collapsed": true
   },
   "outputs": [],
   "source": [
    "# 2D van de Vusse kinetics\n",
    "# A -> B -> C\n",
    "\n",
    "def rate_fn(C,t):\n",
    "    cA = C[0]\n",
    "    cB = C[1]\n",
    "    \n",
    "    #rate constants\n",
    "    k1 = 1.0\n",
    "    k2 = 1.0\n",
    "    k3 = 10.0\n",
    "\n",
    "    #r = [rA, rB]\n",
    "    return sp.array([-k1*cA - 2*k3*cA**2,\n",
    "                    k1*cA - k2*cB])\n"
   ]
  },
  {
   "cell_type": "code",
   "execution_count": null,
   "metadata": {},
   "outputs": [],
   "source": [
    "def plot_fn(L=0.85, pfr_tend=0.21, N=25):\n",
    "    Cf = sp.array([1.0, 0.0])\n",
    "\n",
    "    pfr_cs, pfr_ts = artools.pfrTrajectory(Cf, rate_fn, 10)\n",
    "    cstr_cs, cstr_ts = artools.cstrLocus_fast(Cf, rate_fn, 1000, 200)\n",
    "\n",
    "    fig = plt.figure(figsize=(5,5))\n",
    "    ax = fig.gca()\n",
    "\n",
    "    ax.plot(cstr_cs[:, 0], cstr_cs[:, 1], \"bx\")\n",
    "    ax.plot(pfr_cs[:, 0], pfr_cs[:, 1], \"r-\")\n",
    "\n",
    "    pfr_cs, pfr_ts = artools.pfrTrajectory(Cf, rate_fn, pfr_tend)\n",
    "    ax.plot(pfr_cs[:, 0], pfr_cs[:, 1], \"k-\")\n",
    "\n",
    "    for i in range(N):\n",
    "        c_mix = L*pfr_cs[-1, :] + (1.0 - L)*Cf\n",
    "\n",
    "        pfr_cs, pfr_ts = artools.pfrTrajectory(c_mix, rate_fn, pfr_tend)\n",
    "\n",
    "        ax.plot(pfr_cs[:, 0], pfr_cs[:, 1], \"k-\")\n",
    "\n",
    "    ax.plot(pfr_cs[-1, 0], pfr_cs[-1, 1], \"ko\")\n",
    "\n",
    "    plt.show(fig)\n",
    "    \n",
    "interact(plot_fn, L=(0,1,0.01), pfr_tend=(0,10,0.1), N=(1,25,1))"
   ]
  },
  {
   "cell_type": "code",
   "execution_count": null,
   "metadata": {
    "collapsed": true
   },
   "outputs": [],
   "source": []
  }
 ],
 "metadata": {
  "anaconda-cloud": {},
  "kernelspec": {
   "display_name": "Python 2",
   "language": "python",
   "name": "python2"
  },
  "language_info": {
   "codemirror_mode": {
    "name": "ipython",
    "version": 2
   },
   "file_extension": ".py",
   "mimetype": "text/x-python",
   "name": "python",
   "nbconvert_exporter": "python",
   "pygments_lexer": "ipython2",
   "version": "2.7.13"
  }
 },
 "nbformat": 4,
 "nbformat_minor": 1
}
