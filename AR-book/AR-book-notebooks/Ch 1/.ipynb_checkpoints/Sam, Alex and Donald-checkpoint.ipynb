{
 "cells": [
  {
   "cell_type": "markdown",
   "metadata": {},
   "source": [
    "# Introduction: Sam, Alex and Donald\n",
    "\n",
    "This is a test to see if one can play around with the BTX kinetics, given in Chapter 1, and see if any insights into the behaviour of the system can be obtained just by interacting with the profiles."
   ]
  },
  {
   "cell_type": "markdown",
   "metadata": {},
   "source": [
    "## Python imports"
   ]
  },
  {
   "cell_type": "code",
   "execution_count": 1,
   "metadata": {
    "collapsed": true
   },
   "outputs": [],
   "source": [
    "import scipy as sp\n",
    "from scipy.integrate import odeint\n",
    "import scipy.linalg\n",
    "import scipy.optimize\n",
    "\n",
    "import matplotlib.pyplot as plt\n",
    "\n",
    "from ipywidgets import interact\n",
    "\n",
    "%matplotlib inline\n",
    "plt.style.use(\"ggplot\")"
   ]
  },
  {
   "cell_type": "markdown",
   "metadata": {},
   "source": [
    "## System specification\n",
    "\n",
    "Define reactions for the Benzene-Toluene-Xylene (BTX) system:\n",
    "\n",
    "$$ \\begin{align}\n",
    "\\mathrm{B} + 0.5\\mathrm{E}\t&\\rightarrow\t\\mathrm{T} \\\\\n",
    "\\mathrm{T} + 0.5\\mathrm{E}\t&\\rightarrow\t\\mathrm{X} \\\\\n",
    "2\\mathrm{B}\t&\\rightarrow\t\\mathrm{D}+\\mathrm{H}\n",
    "\\end{align}\n",
    "$$\n",
    "\n",
    "with $k_1 = 1.0$, $k_2 = 1.0$ and $k_3 = 10.0$"
   ]
  },
  {
   "cell_type": "code",
   "execution_count": 2,
   "metadata": {
    "collapsed": true
   },
   "outputs": [],
   "source": [
    "def btx_rate(C,t):\n",
    "    #rate constants\n",
    "    k1 = 1.0\n",
    "    k2 = 1.0\n",
    "    k3 = 10.0\n",
    "    \n",
    "    cB = C[0]\n",
    "    cE = C[1]\n",
    "    cT = C[2]\n",
    "    \n",
    "    r1 = k1*cB*cE**0.5\n",
    "    r2 = k2*cT*cE**0.5\n",
    "    r3 = k3*cB**2\n",
    "    \n",
    "    #species rate equations\n",
    "    rB = -r1 - 2*r3\n",
    "    rE = -0.5*r1 - 0.5*r2\n",
    "    rT = r1 - r2\n",
    "    rX = r2\n",
    "    rD = r3\n",
    "    rH = r3\n",
    "    \n",
    "    dC = sp.array([rB,rE,rT,rX,rD,rH])\n",
    "    return dC"
   ]
  },
  {
   "cell_type": "markdown",
   "metadata": {},
   "source": [
    "## Standard concentration profile\n",
    "\n",
    "Quick check to see if a standard batch concentration profile can be generated."
   ]
  },
  {
   "cell_type": "code",
   "execution_count": 3,
   "metadata": {},
   "outputs": [
    {
     "data": {
      "image/png": "[encoded data removed]",
      "text/plain": [
       "<matplotlib.figure.Figure at 0x5f2a7b8>"
      ]
     },
     "metadata": {},
     "output_type": "display_data"
    }
   ],
   "source": [
    "t_end = 10\n",
    "N_pts = 100\n",
    "\n",
    "ts = sp.logspace(-3,sp.log10(t_end),N_pts)\n",
    "Cf = sp.array([1.0, 0.5, 0.0, 0.0, 0.0, 0.0])\n",
    "\n",
    "cs = odeint(btx_rate,Cf,ts)\n",
    "\n",
    "plt.figure()\n",
    "\n",
    "plt.plot(ts, cs[:,0])\n",
    "plt.plot(ts, cs[:,1])\n",
    "plt.plot(ts, cs[:,2])\n",
    "plt.plot(ts, cs[:,3])\n",
    "plt.plot(ts, cs[:,4])\n",
    "plt.plot(ts, cs[:,5])\n",
    "\n",
    "plt.xlabel('Time (h)')\n",
    "plt.ylabel('Concentration (mol/L)')\n",
    "plt.show()"
   ]
  },
  {
   "cell_type": "markdown",
   "metadata": {},
   "source": [
    "## Part 1: Optimisation of a single batch\n",
    "\n",
    "Having only knowledge of the batch, Sam tries to optimise the reaction by locating an optimal reaction time."
   ]
  },
  {
   "cell_type": "code",
   "execution_count": 4,
   "metadata": {},
   "outputs": [
    {
     "data": {
      "application/vnd.jupyter.widget-view+json": {
       "model_id": "24855e1918114e658ccb2c844c65d226"
      }
     },
     "metadata": {},
     "output_type": "display_data"
    },
    {
     "data": {
      "text/plain": [
       "<function __main__.plot_fn1>"
      ]
     },
     "execution_count": 4,
     "metadata": {},
     "output_type": "execute_result"
    }
   ],
   "source": [
    "def plot_fn1(t_end=1.5):\n",
    "    N_pts = 50;\n",
    "    ts = sp.logspace(-4,sp.log10(t_end),N_pts)\n",
    "    Cf = sp.array([1.0, 0.5, 0.0, 0.0, 0.0, 0.0])\n",
    "\n",
    "    cs = odeint(btx_rate,Cf,ts)\n",
    "\n",
    "\n",
    "    #plt.plot(cs[:,0], cs[:,2])\n",
    "    plt.plot(ts, cs[:,2])\n",
    "    k = sp.where(cs[:,2] == max(cs[:,2]))\n",
    "    plt.plot(ts[k],cs[k,2], 'rd')\n",
    "\n",
    "    plt.xlabel('Reaction time (h)')\n",
    "    plt.ylabel('T (mol/L)')\n",
    "    plt.axis([0,5,0,0.1])\n",
    "    plt.title('cT = %.4f mol/L'%(cs[-1,2]))\n",
    "    \n",
    "    plt.show()\n",
    "    \n",
    "#Generate interactive plot\n",
    "interact(plot_fn1, t_end=(0.01,5,0.001))"
   ]
  },
  {
   "cell_type": "markdown",
   "metadata": {
    "collapsed": true
   },
   "source": [
    "## Result 1\n",
    "Optimal reaction time seems to occur near $\\mathrm{t} = 0.59\\,\\mathrm{h}$, giving a maximum Toluene concentration of $0.0619\\,\\mathrm{mol/L}$"
   ]
  },
  {
   "cell_type": "markdown",
   "metadata": {},
   "source": [
    "## Part 2: Mixing concentration gives better result\n",
    "Adam accidentally forgets to empty all the contents of the reactor and creates a new starting concentration in the process. This new concentration does better than what Sam could achieve with the previous optimised result."
   ]
  },
  {
   "cell_type": "code",
   "execution_count": 5,
   "metadata": {},
   "outputs": [
    {
     "data": {
      "application/vnd.jupyter.widget-view+json": {
       "model_id": "a8239ec629f84c4bb74e39611aeaff5c"
      }
     },
     "metadata": {},
     "output_type": "display_data"
    },
    {
     "data": {
      "text/plain": [
       "<function __main__.plot_fn2>"
      ]
     },
     "execution_count": 5,
     "metadata": {},
     "output_type": "execute_result"
    }
   ],
   "source": [
    "def plot_fn2(t_end=1.5, mix_frac=0.5):\n",
    "    \n",
    "    ts0 = sp.logspace(-4,sp.log10(t_end),50)\n",
    "    cs0 = odeint(btx_rate,Cf,ts0)\n",
    "    \n",
    "    c_mix = Cf + mix_frac*(cs0[-1,:] - Cf)\n",
    "    ts1 = sp.logspace(-4,sp.log10(10),50)\n",
    "    cs1 = odeint(btx_rate, c_mix, ts1)\n",
    "    \n",
    "    plt.figure()\n",
    "    \n",
    "    plt.plot(cs0[:,0],cs0[:,2])\n",
    "    plt.plot(cs0[-1,0],cs0[-1,2], 'gv')\n",
    "    plt.plot(c_mix[0],c_mix[2], 'ro')\n",
    "    plt.plot(cs1[:,0],cs1[:,2], 'r--')\n",
    "    \n",
    "    plt.xlabel('B (mol/L)')\n",
    "    plt.ylabel('T (mol/L)')\n",
    "    plt.axis([0,1,0,0.1])\n",
    "    plt.title('Max toluene conc = %.4f mol/L'%(max(cs1[:,2])))\n",
    "    \n",
    "    plt.show()\n",
    "    \n",
    "#Generate interactive plot\n",
    "interact(plot_fn2, t_end=(0.001,5,0.001), mix_frac=(0,1,0.01))"
   ]
  },
  {
   "cell_type": "markdown",
   "metadata": {},
   "source": [
    "## Result 2\n",
    "From the results, it appears that:\n",
    "- A reaction time of $\\mathrm{t} = 3\\,\\mathrm{h}$ and $\\lambda = 0.5$ gives worse performance.\n",
    "- A reaction time of $\\mathrm{t} = 0.55\\,\\mathrm{h}$ and $\\lambda = 0.5$ gives better performance."
   ]
  },
  {
   "cell_type": "markdown",
   "metadata": {
    "collapsed": true
   },
   "source": [
    "## Part 3: Fed-batch\n",
    "\n",
    "Donald realises that Sam and Adam are constraining themselves to the operation of standard batches only. But there are also fed-batch reactors which have not been considered that could also drive further improvement. Using this insight, he embarks on an investigation to see if he can improve the toluene concentration over the previous two attempts, using specifically a fed-batch reactor with a constant feeding profile.\n",
    "\n",
    "The equation for a fed-batch reactor with constant density is:\n",
    "\n",
    "$$\n",
    "\\frac{\\mathrm{d}\\mathbf{C}}{\\mathrm{d}\\mathrm{t}}=\\mathbf{r}\\left(\\mathbf{C}\\right)+\\frac{\\mathrm{F}}{\\mathrm{V}\\left(\\mathrm{t}\\right)}\\left[\\mathbf{C}^{0}-\\mathbf{C}\\right]\n",
    "$$\n",
    "\n",
    "where $\\mathrm{F}$ and $\\mathrm{V}$ are the fed-batch feeding rate and reactor volume in L/s and L, respectively. "
   ]
  },
  {
   "cell_type": "code",
   "execution_count": 6,
   "metadata": {},
   "outputs": [
    {
     "data": {
      "application/vnd.jupyter.widget-view+json": {
       "model_id": "91e24270b75b40fc944899895a2f3de0"
      }
     },
     "metadata": {},
     "output_type": "display_data"
    },
    {
     "data": {
      "text/plain": [
       "<function __main__.plot_fn3>"
      ]
     },
     "execution_count": 6,
     "metadata": {},
     "output_type": "execute_result"
    }
   ],
   "source": [
    "def dsr_fn(Cs,t,opts):\n",
    "    F = opts[0]\n",
    "    C0 = opts[1]\n",
    "    \n",
    "    #unpack the species concentrations and V\n",
    "    C = Cs[:-1]\n",
    "    V = Cs[-1]    #batch volume\n",
    "    alpha = F/V\n",
    "    \n",
    "    dC = btx_rate(C,t) + alpha*(C0 - C)\n",
    "    \n",
    "    #append dV/dt and return\n",
    "    dC = sp.hstack([dC,F])\n",
    "    return dC\n",
    "\n",
    "def plot_fn3(F=0.5, t_batch=5):\n",
    "    \n",
    "    #Initial conditions\n",
    "    Cf = sp.array([1.0, 0.5, 0.0, 0.0, 0.0, 0.0])\n",
    "    C0 = Cf\n",
    "    \n",
    "    V0 = 0.1\n",
    "    Cf0 = sp.hstack([Cf, V0])\n",
    "    \n",
    "    #integrate fed-batch\n",
    "    dsr_opts = (F, C0)\n",
    "\n",
    "    dsr_ts = sp.logspace(-4,sp.log10(t_batch),50)\n",
    "    dsr_cs = odeint(dsr_fn, Cf0, dsr_ts, args=(dsr_opts,))\n",
    "    \n",
    "    #integrate PFR from terminating point of fed-batch?\n",
    "    #batch_ts = sp.logspace(-4,sp.log10(10),50)\n",
    "    #batch_cs = odeint(btx_rate,dsr_cs[-1,0:-1],batch_ts)\n",
    "\n",
    "    #plot\n",
    "    plt.figure()\n",
    "    \n",
    "    h_batch, = plt.plot(cs[:,0],cs[:,5], 'r-')\n",
    "    h_fedbatch, = plt.plot(dsr_cs[:,0],dsr_cs[:,5], 'k--')\n",
    "    #plt.plot(batch_cs[:,0],batch_cs[:,2], 'b')\n",
    "\n",
    "    plt.legend([h_batch,h_fedbatch], ['Std. batch', 'Fed-batch'])\n",
    "    plt.xlabel('B (mol/L)')\n",
    "    plt.ylabel('T (mol/L)')\n",
    "    plt.axis([0,1,0,0.5])\n",
    "    #plt.title('Fed-batch toluene = %.4f mol/L'%(max(dsr_cs[:,5])))\n",
    "    plt.title('Fed-batch toluene = %.4f mol/L'%(dsr_cs[-1,5]))\n",
    "    \n",
    "    plt.show()\n",
    "    \n",
    "#Generate interactive plot\n",
    "interact(plot_fn3, F=(0,1,0.0001), t_batch=(0,100,0.01))"
   ]
  },
  {
   "cell_type": "markdown",
   "metadata": {},
   "source": [
    "## Result 3\n",
    "For a feeding rate of $\\mathrm{F} = 0.1\\,\\mathrm{L/s}$, we can optimise the fed-batch reaction time. We find that an optimal reaction time of approximately $\\mathrm{t} = 2.0\\,\\mathrm{h}$ corresponds to a toluene concentration of approximately $0.0733\\,\\mathrm{mol/L}$, which is the maximum concentration for this feeding policy.\n",
    "\n",
    "## Additional insights\n",
    "Sam, Adam and Donald think that they are close to reaching a point where no further improvements can be made. But they still don't know where the limit actaully ends. One day, Donald, forgets to switch off the reactor just after a reaction has occured. He turns off the fed-batch feeding but forgets to turn of the reactor -- the reactor continues to run with a feeding rate of zero. To Sam, Adam and Donald's surprise, they get an even better improvement to their previous best. \n",
    "\n",
    "With this, they realise that they have actaully created a batch sequence incorporating an initial fed-batch period, followed by a period of standard batch reaction. They realise that they could have also attached a batch after the fed-batch and optimise for this situation as well. Things are quickly becoming complicated!"
   ]
  },
  {
   "cell_type": "code",
   "execution_count": 7,
   "metadata": {},
   "outputs": [
    {
     "data": {
      "application/vnd.jupyter.widget-view+json": {
       "model_id": "09ede5ae878640dab9952b971f8455dc"
      }
     },
     "metadata": {},
     "output_type": "display_data"
    },
    {
     "data": {
      "text/plain": [
       "<function __main__.plot_fn4>"
      ]
     },
     "execution_count": 7,
     "metadata": {},
     "output_type": "execute_result"
    }
   ],
   "source": [
    "def plot_fn4(F=0.1, t_fedbatch=2.0, t_batch=5):\n",
    "    \n",
    "    #Initial conditions\n",
    "    Cf = sp.array([1.0, 0.5, 0.0, 0.0, 0.0, 0.0])\n",
    "    C0 = Cf\n",
    "    \n",
    "    V0 = 0.1\n",
    "    Cf0 = sp.hstack([Cf, V0])\n",
    "    \n",
    "    #integrate fed-batch\n",
    "    dsr_opts = (F, C0)\n",
    "\n",
    "    dsr_ts = sp.logspace(-4,sp.log10(t_fedbatch),50)\n",
    "    dsr_cs = odeint(dsr_fn, Cf0, dsr_ts, args=(dsr_opts,))\n",
    "    \n",
    "    #integrate PFR from terminating point of fed-batch?\n",
    "    batch_ts = sp.logspace(-4,sp.log10(t_batch),50)\n",
    "    batch_cs = odeint(btx_rate,dsr_cs[-1,0:-1],batch_ts)\n",
    "\n",
    "    #plot\n",
    "    plt.figure()\n",
    "    \n",
    "    h_batch, = plt.plot(cs[:,0],cs[:,2], 'r-')\n",
    "    h_fedbatch, = plt.plot(dsr_cs[:,0],dsr_cs[:,2], 'k--')\n",
    "    plt.plot(batch_cs[:,0],batch_cs[:,2], 'b')\n",
    "\n",
    "    plt.legend([h_batch,h_fedbatch], ['Std. batch', 'Fed-batch'])\n",
    "    plt.xlabel('B (mol/L)')\n",
    "    plt.ylabel('T (mol/L)')\n",
    "    plt.axis([0,1,0,0.1])\n",
    "    plt.title('Fed-batch toluene = %.4f mol/L'%(max(batch_cs[:,2])))\n",
    "    \n",
    "    plt.show()\n",
    "    \n",
    "#Generate interactive plot\n",
    "interact(plot_fn4, F=(0,1,0.0001), t_fedbatch=(0,10,0.01), t_batch=(0,10,0.01))"
   ]
  },
  {
   "cell_type": "markdown",
   "metadata": {
    "collapsed": true
   },
   "source": [
    "They could also mix with feed to get an intermediate concentration that, although it is not the best, is better than what they typically get with just a standard batch reaction.\n",
    "\n",
    "Also, what if we used a differernt reaction? Would we get the same results? Is there a way to know when we could so these things and when we can't do these?\n",
    "\n",
    "## Conclusion\n",
    "What if we told you that we could still be better. In fact, what if we told you that the best you could ever do was $0.0805\\,\\mathrm{mol/L}$. We are certainly close, but we are aware of this now that we know what the maximum is. How would you know how to get there? \n",
    "\n",
    "Furthermore, what if we told you that you actaully needed a feeding profile that was a constant F/V up to a certain point, followed by a standrad batch up to a reaction time of [] s. In this book, we will show you how we can find this out. We will also show the method for how to get to that point."
   ]
  },
  {
   "cell_type": "markdown",
   "metadata": {},
   "source": [
    "## Minimizing H2 production\n",
    "\n",
    "## Batch reactor"
   ]
  },
  {
   "cell_type": "code",
   "execution_count": 8,
   "metadata": {},
   "outputs": [
    {
     "data": {
      "application/vnd.jupyter.widget-view+json": {
       "model_id": "66a42c0a50de4a298cfbf5971d370b9b"
      }
     },
     "metadata": {},
     "output_type": "display_data"
    },
    {
     "data": {
      "text/plain": [
       "<function __main__.plot_fn5>"
      ]
     },
     "execution_count": 8,
     "metadata": {},
     "output_type": "execute_result"
    }
   ],
   "source": [
    "def plot_fn5(t_end):\n",
    "    plt.figure()\n",
    "    \n",
    "    ts = sp.logspace(-3,sp.log10(t_end),100)\n",
    "    cs = odeint(btx_rate,Cf,ts)\n",
    "    plt.plot(cs[:,2],cs[:,5])\n",
    "    \n",
    "    plt.xlabel('Toluene')\n",
    "    plt.ylabel('Hydrogen')\n",
    "    \n",
    "    plt.axis([0,0.1,0,0.5])\n",
    "    plt.title(\"T=%.4f, H=%.4f\"%(cs[-1,2],cs[-1,5]))\n",
    "    plt.show()\n",
    "    \n",
    "interact(plot_fn5, t_end=(0.01,5,0.01))"
   ]
  },
  {
   "cell_type": "markdown",
   "metadata": {},
   "source": [
    "## Fed-batch"
   ]
  },
  {
   "cell_type": "code",
   "execution_count": 9,
   "metadata": {},
   "outputs": [
    {
     "data": {
      "application/vnd.jupyter.widget-view+json": {
       "model_id": "c81c3bf90b014d87a480a403c511d399"
      }
     },
     "metadata": {},
     "output_type": "display_data"
    },
    {
     "data": {
      "text/plain": [
       "<function __main__.plot_fn6>"
      ]
     },
     "execution_count": 9,
     "metadata": {},
     "output_type": "execute_result"
    }
   ],
   "source": [
    "def plot_fn6(t_fedbatch=2.5, F=0.1):\n",
    "    \n",
    "    #Initial conditions\n",
    "    Cf = sp.array([1.0, 0.5, 0.0, 0.0, 0.0, 0.0])\n",
    "    C0 = Cf\n",
    "    \n",
    "    V0 = 0.1\n",
    "    Cf0 = sp.hstack([Cf, V0])\n",
    "    \n",
    "    #integrate fed-batch\n",
    "    dsr_opts = (F, C0)\n",
    "\n",
    "    dsr_ts = sp.logspace(-4,sp.log10(t_fedbatch),50)\n",
    "    dsr_cs = odeint(dsr_fn, Cf0, dsr_ts, args=(dsr_opts,))\n",
    "    \n",
    "    plt.figure()\n",
    "    \n",
    "    plt.plot(dsr_cs[:,2],dsr_cs[:,5])\n",
    "    \n",
    "    plt.xlabel('Toluene')\n",
    "    plt.ylabel('Hydrogen')\n",
    "    \n",
    "    plt.axis([0,0.1,0,0.5])\n",
    "    plt.title(\"T=%.4f, H=%.4f\"%(dsr_cs[-1,2],dsr_cs[-1,5]))\n",
    "    plt.show()\n",
    "    \n",
    "interact(plot_fn6, t_fedbatch=(1e-4,5,0.01), F=(0,1.0,0.01))"
   ]
  },
  {
   "cell_type": "markdown",
   "metadata": {},
   "source": [
    "## Batch followed by fed-batch"
   ]
  },
  {
   "cell_type": "code",
   "execution_count": 10,
   "metadata": {},
   "outputs": [
    {
     "data": {
      "application/vnd.jupyter.widget-view+json": {
       "model_id": "dcc8849f5d624818a7effbc9aa6c1e2c"
      }
     },
     "metadata": {},
     "output_type": "display_data"
    },
    {
     "data": {
      "text/plain": [
       "<function __main__.plot_fn7>"
      ]
     },
     "execution_count": 10,
     "metadata": {},
     "output_type": "execute_result"
    }
   ],
   "source": [
    "def plot_fn7(t_batch=0.55,t_fedbatch=0.7,F=0.2):\n",
    "    \n",
    "    #Initial conditions\n",
    "    Cf = sp.array([1.0, 0.5, 0.0, 0.0, 0.0, 0.0])\n",
    "    C0 = Cf\n",
    "    \n",
    "    V0 = 0.1\n",
    "    \n",
    "    #integrate batch\n",
    "    batch_ts = sp.logspace(-4,sp.log10(t_batch),50)\n",
    "    batch_cs = odeint(btx_rate, Cf, batch_ts)\n",
    "    \n",
    "    #integrate fed-batch\n",
    "    dsr_opts = (F, C0)\n",
    "    Cf0 = sp.hstack([batch_cs[-1,:].T, V0])\n",
    "\n",
    "    dsr_ts = sp.logspace(-4,sp.log10(t_fedbatch),50)\n",
    "    dsr_cs = odeint(dsr_fn, Cf0, dsr_ts, args=(dsr_opts,))\n",
    "    \n",
    "    plt.figure()\n",
    "    \n",
    "    plt.plot(batch_cs[:,2],batch_cs[:,5],'r-')\n",
    "    plt.plot(dsr_cs[:,2],dsr_cs[:,5])\n",
    "    \n",
    "    plt.xlabel('Toluene')\n",
    "    plt.ylabel('Hydrogen')\n",
    "    \n",
    "    plt.axis([0,0.1,0,0.5])\n",
    "    plt.title(\"T=%.4f, H=%.4f\"%(dsr_cs[-1,2],dsr_cs[-1,5]))\n",
    "    plt.show()\n",
    "    \n",
    "interact(plot_fn7, t_batch=(1e-4,5,0.01), t_fedbatch=(1e-4,5,0.01), F=(0,1.0,0.01))"
   ]
  },
  {
   "cell_type": "markdown",
   "metadata": {},
   "source": [
    "## Batch with 10% fresh feed mixed at the end"
   ]
  },
  {
   "cell_type": "code",
   "execution_count": 11,
   "metadata": {},
   "outputs": [
    {
     "data": {
      "application/vnd.jupyter.widget-view+json": {
       "model_id": "dad7d9be549645acb7b40adfff43e718"
      }
     },
     "metadata": {},
     "output_type": "display_data"
    },
    {
     "data": {
      "text/plain": [
       "<function __main__.plot_fn8>"
      ]
     },
     "execution_count": 11,
     "metadata": {},
     "output_type": "execute_result"
    }
   ],
   "source": [
    "def plot_fn8(t_end=0.5, L=0.15):\n",
    "    #integrate batch\n",
    "    ts = sp.logspace(-4,sp.log10(t_end),50)\n",
    "    cs = odeint(btx_rate, Cf, ts)\n",
    "    \n",
    "    #calculate mixture concentration\n",
    "    c_mix = L*Cf.T + (1-L)*cs[-1,:]\n",
    "    \n",
    "    plt.figure()\n",
    "    \n",
    "    plt.plot(cs[:,2],cs[:,5])\n",
    "    plt.plot(c_mix[2],c_mix[5], 'ro')\n",
    "    \n",
    "    plt.xlabel(\"Toluene\")\n",
    "    plt.xlabel(\"Hydrogen\")\n",
    "    \n",
    "    plt.title(\"T=%.4f, H=%.4f\"%(c_mix[2],c_mix[5]))\n",
    "    plt.axis([0,0.1,0,0.5])\n",
    "    plt.show()\n",
    "\n",
    "interact(plot_fn8, t_end=(1e-4,5,0.01), L=(0,1,0.01))"
   ]
  },
  {
   "cell_type": "code",
   "execution_count": null,
   "metadata": {
    "collapsed": true
   },
   "outputs": [],
   "source": []
  }
 ],
 "metadata": {
  "anaconda-cloud": {},
  "kernelspec": {
   "display_name": "Python 2",
   "language": "python",
   "name": "python2"
  },
  "language_info": {
   "codemirror_mode": {
    "name": "ipython",
    "version": 2
   },
   "file_extension": ".py",
   "mimetype": "text/x-python",
   "name": "python",
   "nbconvert_exporter": "python",
   "pygments_lexer": "ipython2",
   "version": "2.7.13"
  }
 },
 "nbformat": 4,
 "nbformat_minor": 1
}
