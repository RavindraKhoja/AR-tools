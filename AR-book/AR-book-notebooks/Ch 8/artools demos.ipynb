{
 "cells": [
  {
   "cell_type": "markdown",
   "metadata": {},
   "source": [
    "# Function demonstrations using the `artools.py` package\n",
    "\n",
    "## Python imports\n",
    "We need to import the `artools.py` package before we can use the functions. If `artools.py` is stored under a different directory to the default Python path, then the location must be added to the system path using `sys.path.append()`."
   ]
  },
  {
   "cell_type": "code",
   "execution_count": 1,
   "metadata": {
    "collapsed": true
   },
   "outputs": [],
   "source": [
    "# artools\n",
    "import sys\n",
    "sys.path.append('../../../artools/')\n",
    "import artools\n",
    "artools = reload(artools)"
   ]
  },
  {
   "cell_type": "markdown",
   "metadata": {},
   "source": [
    "Other imports useful for this notebook"
   ]
  },
  {
   "cell_type": "code",
   "execution_count": 2,
   "metadata": {
    "collapsed": true
   },
   "outputs": [],
   "source": [
    "import scipy as sp\n",
    "import scipy.integrate\n",
    "\n",
    "import matplotlib.pyplot as plt\n",
    "%matplotlib inline\n",
    "plt.style.use('ggplot')"
   ]
  },
  {
   "cell_type": "markdown",
   "metadata": {},
   "source": [
    "## Vertex enumeration of a set of inequality constraints (hyperlane equations) using `con2vert()`"
   ]
  },
  {
   "cell_type": "code",
   "execution_count": 3,
   "metadata": {},
   "outputs": [
    {
     "data": {
      "image/png": "[encoded data removed]",
      "text/plain": [
       "<matplotlib.figure.Figure at 0x5faab70>"
      ]
     },
     "metadata": {},
     "output_type": "display_data"
    }
   ],
   "source": [
    "A = sp.array([[-1., 0], [0, -1.], [1., 1]])\n",
    "b = sp.array([[0, 0, 1.]]).T\n",
    "\n",
    "Xs = artools.con2vert(A, b)\n",
    "\n",
    "fig = artools.plot_region2d(Xs, plot_verts=True)\n",
    "ax = fig.gca()\n",
    "\n",
    "ax.set_xlim([-0.1, 1.1])\n",
    "ax.set_ylim([-0.1, 1.1])\n",
    "ax.set_xlabel(\"cA (mol/L)\")\n",
    "ax.set_ylabel(\"cB (mol/L)\")\n",
    "\n",
    "plt.show(fig)"
   ]
  },
  {
   "cell_type": "markdown",
   "metadata": {},
   "source": [
    "## `con2vert()` and `vert2con()`: Vertex enumeration and facet enumeration\n",
    "\n",
    "First define rate kinetics to use as a test set of data."
   ]
  },
  {
   "cell_type": "code",
   "execution_count": 4,
   "metadata": {
    "collapsed": true
   },
   "outputs": [],
   "source": [
    "#2D van de Vusse kinetics\n",
    "#A -> B -> C\n",
    "#2A -> D\n",
    "\n",
    "def rate_fn(C,t):\n",
    "    cA = C[0]\n",
    "    cB = C[1]\n",
    "    \n",
    "    #rate constants\n",
    "    k1 = 1.0;\n",
    "    k2 = 1.0;\n",
    "    k3 = 10.0;\n",
    "\n",
    "    #r = [rA, rB]\n",
    "    return sp.array([-k1*cA - 2*k3*cA**2,\n",
    "                    k1*cA - k2*cB])"
   ]
  },
  {
   "cell_type": "markdown",
   "metadata": {},
   "source": [
    "Now find the region generated by a PFR trajectory from the feed"
   ]
  },
  {
   "cell_type": "code",
   "execution_count": 6,
   "metadata": {},
   "outputs": [
    {
     "data": {
      "text/plain": [
       "'\\nfig = artools.plot_region2d(Xs, color=[0.5, 0.3, 0.2], alpha=0.35)\\nax = fig.gca()\\n\\n#plot PFR trajectory for comparison\\nax.plot(pfr_cs[:, 0], pfr_cs[:, 1], \"r-\")\\n\\nax.set_xlim([-0.1, 1.1])\\nax.set_ylim([-0.01, 0.1])\\n\\nax.set_xlabel(\\'cA (mol/L)\\')\\nax.set_ylabel(\\'cB (mol/L)\\')\\n\\nplt.show(fig)\\n'"
      ]
     },
     "execution_count": 6,
     "metadata": {},
     "output_type": "execute_result"
    },
    {
     "data": {
      "image/png": "[encoded data removed]",
      "text/plain": [
       "<matplotlib.figure.Figure at 0x8ea1668>"
      ]
     },
     "metadata": {},
     "output_type": "display_data"
    }
   ],
   "source": [
    "#Feed point\n",
    "Cf = sp.array([1., 0])\n",
    "\n",
    "#integrate PFR\n",
    "pfr_ts = sp.logspace(-3, sp.log10(10), 100)\n",
    "pfr_cs = scipy.integrate.odeint(rate_fn, Cf, pfr_ts)\n",
    "\n",
    "#find hyperplane inequality equations using vert2con() (facet enumeration)\n",
    "A, b = artools.vert2con(pfr_cs)\n",
    "\n",
    "#find vertices of hyperplane constraints using con2vert() (vertex enumeration)\n",
    "Xs = artools.con2vert(A, b)\n",
    "\n",
    "#plot the region\n",
    "fig = artools.plot_region2d(Xs, color=[0.5, 0.3, 0.2], alpha=0.35)\n",
    "ax = fig.gca()\n",
    "\n",
    "#plot PFR trajectory for comparison\n",
    "ax.plot(pfr_cs[:, 0], pfr_cs[:, 1], \"r-\")\n",
    "\n",
    "ax.set_xlim([-0.1, 1.1])\n",
    "ax.set_ylim([-0.01, 0.1])\n",
    "\n",
    "ax.set_xlabel('cA (mol/L)')\n",
    "ax.set_ylabel('cB (mol/L)')\n",
    "\n",
    "plt.show(fig)"
   ]
  },
  {
   "cell_type": "markdown",
   "metadata": {},
   "source": [
    "## `inregion()` and `outregion()`: determine if points lie in/out of a region"
   ]
  },
  {
   "cell_type": "code",
   "execution_count": null,
   "metadata": {},
   "outputs": [],
   "source": [
    "#Generate a large list of random points and test to see if they lie in out the polytop defined by A*x <= b\n",
    "Cs = sp.rand(int(1e5),2)\n",
    "\n",
    "ks = []\n",
    "for i, ci in enumerate(Cs):\n",
    "    if artools.outRegion(ci, A, b):\n",
    "        ks.append(i)\n",
    "        \n",
    "#plot points\n",
    "fig = plt.figure()\n",
    "ax = fig.gca()\n",
    "ax.plot(Cs[ks, 0], Cs[ks, 1], \"rx\")\n",
    "\n",
    "ax.set_ylim([0, 0.1])\n",
    "ax.set_xlabel('cA (mol/L)')\n",
    "ax.set_ylabel('cB (mol/L)')\n",
    "\n",
    "plt.show()"
   ]
  },
  {
   "cell_type": "markdown",
   "metadata": {},
   "source": [
    "We can do the same to find points inside the region using inregion()"
   ]
  },
  {
   "cell_type": "code",
   "execution_count": null,
   "metadata": {},
   "outputs": [],
   "source": [
    "ks = []\n",
    "for i, ci in enumerate(Cs):\n",
    "    if artools.inRegion(ci, A, b):\n",
    "        ks.append(i)\n",
    "        \n",
    "#plot points\n",
    "fig = plt.figure()\n",
    "ax = fig.gca()\n",
    "ax.plot(Cs[ks, 0], Cs[ks, 1], \"bx\")\n",
    "\n",
    "ax.set_ylim([0, 0.1])\n",
    "ax.set_xlabel('cA (mol/L)')\n",
    "ax.set_ylabel('cB (mol/L)')\n",
    "\n",
    "plt.show()"
   ]
  },
  {
   "cell_type": "markdown",
   "metadata": {},
   "source": [
    "## `ptsInRegion()` and `ptsOutRegion()`: find points in/out of a polytope when working with an array of points"
   ]
  },
  {
   "cell_type": "code",
   "execution_count": null,
   "metadata": {},
   "outputs": [],
   "source": [
    "#system of inequalities\n",
    "A = sp.array([[-1., 0.],\n",
    "              [0., -1.],\n",
    "              [1., 1.],\n",
    "              [0., 1.]])\n",
    "\n",
    "b = sp.array([0., 0., 1., 0.5]).T\n",
    "\n",
    "#A set of random points\n",
    "Xs = artools.rand_pts(1e4, sp.array([-0.1, 1.1, -0.1, 1.1]))\n",
    "\n",
    "Cs_in, ks_in = artools.ptsInRegion(Xs, A,b)\n",
    "Cs_out, ks_out = artools.ptsOutRegion(Xs, A,b)\n",
    "\n",
    "#plot points in different colors\n",
    "fig = plt.figure()\n",
    "ax = fig.gca()\n",
    "\n",
    "ax.plot(Cs_in[:, 0], Cs_in[:, 1], \"bx\")\n",
    "ax.plot(Cs_out[:, 0], Cs_out[:, 1], \"rx\")\n",
    "\n",
    "ax.set_xlabel(\"x\")\n",
    "ax.set_xlabel(\"y\")\n",
    "\n",
    "plt.show(fig)"
   ]
  },
  {
   "cell_type": "markdown",
   "metadata": {},
   "source": [
    "## `allcomb()`: Cartesian product of a list of lists (useful for generating n-dimensional grids) \n",
    "\n",
    "Generate a grid of points based in separate axis spacings using `scipy.linspace()` to control the number of points along each axis."
   ]
  },
  {
   "cell_type": "code",
   "execution_count": null,
   "metadata": {},
   "outputs": [],
   "source": [
    "x_range = sp.linspace(0, 1, 5)\n",
    "y_range = sp.linspace(0, 1, 10)\n",
    "\n",
    "Xs = artools.allcomb(x_range, y_range)\n",
    "Xs"
   ]
  },
  {
   "cell_type": "markdown",
   "metadata": {},
   "source": [
    "Plot the points"
   ]
  },
  {
   "cell_type": "code",
   "execution_count": null,
   "metadata": {},
   "outputs": [],
   "source": [
    "fig = plt.figure()\n",
    "ax = fig.gca()\n",
    "\n",
    "plt.plot(Xs[:, 0], Xs[:, 1], \"bo\")\n",
    "\n",
    "ax.set_xlim([-0.1, 1.1])\n",
    "ax.set_ylim([-0.1, 1.1])\n",
    "ax.set_xlabel(\"x\")\n",
    "ax.set_ylabel(\"y\")\n",
    "\n",
    "plt.show()"
   ]
  },
  {
   "cell_type": "markdown",
   "metadata": {},
   "source": [
    "## `calc_CSTR_locus()`: CSTR locus solver using Monte Carlo geometric method \n",
    "\n",
    "This method uses a brute-force determination of the colinearity between r(C) and (C - Cf). It is not very fast, but it is robust and easy to use."
   ]
  },
  {
   "cell_type": "code",
   "execution_count": null,
   "metadata": {},
   "outputs": [],
   "source": [
    "num_pts = 300\n",
    "axis_lims = sp.array([0., 1., 0., 0.12])\n",
    "\n",
    "cstr_cs, cstr_ts = artools.calc_cstr_locus(Cf, rate_fn, num_pts, axis_lims, tol=1e-7)\n",
    "\n",
    "plt.figure()\n",
    "\n",
    "plt.plot(Cf[0], Cf[1], \"g^\")\n",
    "plt.plot(cstr_cs[:, 0], cstr_cs[:, 1], \"bx\")\n",
    "plt.plot(pfr_cs[:, 0], pfr_cs[:, 1], \"r-\")\n",
    "\n",
    "plt.axis(axis_lims)\n",
    "plt.xlabel(\"cA (mol/L)\")\n",
    "plt.ylabel(\"cB (mol/L)\")\n",
    "\n",
    "plt.show()\n",
    "\n",
    "#plot residence time\n",
    "fig = plt.figure()\n",
    "ax = fig.gca()\n",
    "\n",
    "ax.plot(cstr_ts, cstr_cs[:, 0], \"r.\")\n",
    "ax.plot(cstr_ts, cstr_cs[:, 1], \"b.\")\n",
    "\n",
    "ax.set_xlabel(\"CSTR residence time (s)\")\n",
    "ax.set_ylabel(\"Concentration (mol/L)\")\n",
    "plt.show()"
   ]
  },
  {
   "cell_type": "markdown",
   "metadata": {},
   "source": [
    "## `calc_CSTR_locus_fast()`: find the CSTR locus of a 'simple' system when it is known that multiple CSTR steady states do not exist"
   ]
  },
  {
   "cell_type": "code",
   "execution_count": null,
   "metadata": {},
   "outputs": [],
   "source": [
    "cstr_cs, cstr_ts = artools.calc_cstr_locus_fast(Cf, rate_fn, t_end=100, num_pts=100)\n",
    "    \n",
    "fig = plt.figure()\n",
    "ax = fig.gca()\n",
    "\n",
    "ax.plot(cstr_cs[:, 0], cstr_cs[:, 1], \"bx\")\n",
    "\n",
    "ax.set_xlabel(\"cA (mol/L)\")\n",
    "ax.set_ylabel(\"cB (mol/L)\")\n",
    "plt.show(fig)\n",
    "\n",
    "fig = plt.figure()\n",
    "ax = fig.gca()\n",
    "\n",
    "ax.plot(cstr_ts, cstr_cs[:, 0], \"r.\")\n",
    "ax.plot(cstr_ts, cstr_cs[:, 1], \"b.\")\n",
    "\n",
    "ax.set_xlabel(\"CSTR residence time (s)\")\n",
    "ax.set_ylabel(\"Concentration (mol/L)\")\n",
    "plt.show(fig)"
   ]
  },
  {
   "cell_type": "markdown",
   "metadata": {},
   "source": [
    "## `rand_pts()`: generate a random set of points over a specific range "
   ]
  },
  {
   "cell_type": "code",
   "execution_count": null,
   "metadata": {},
   "outputs": [],
   "source": [
    "axis_lims = sp.array([-0.5, 1.25, -0.75, 1.5])\n",
    "\n",
    "Ys = artools.rand_pts(3000, axis_lims)\n",
    "\n",
    "plt.figure()\n",
    "plt.plot(Ys[:, 0], Ys[:, 1], \"bx\")\n",
    "\n",
    "plt.axis([-2, 2, -2, 2])\n",
    "plt.xlabel(\"x\")\n",
    "plt.ylabel(\"y\")\n",
    "\n",
    "plt.show()"
   ]
  },
  {
   "cell_type": "markdown",
   "metadata": {},
   "source": [
    "## `convhull_pts()`: convex hull points only (ignores indices and facets) \n",
    "\n",
    "When only the convex hull points are required and not the corresponding indices, `convhull_pts()` may be used to neaten up the syntax slightly..."
   ]
  },
  {
   "cell_type": "code",
   "execution_count": null,
   "metadata": {},
   "outputs": [],
   "source": [
    "Xs = sp.rand(50, 3)\n",
    "\n",
    "Cs = artools.convhull_pts(Xs)\n",
    "\n",
    "fig = artools.plot_region3d(Cs, color=\"b\", alpha=0.25)\n",
    "ax = fig.gca()\n",
    "\n",
    "ax.plot(Xs[:, 0], Xs[:, 1], Xs[:, 2], \"bx\")\n",
    "ax.plot(Cs[:, 0], Cs[:, 1], Cs[:, 2], \"ro\")\n",
    "\n",
    "ax.set_xlabel(\"x\")\n",
    "ax.set_ylabel(\"y\")\n",
    "ax.set_zlabel(\"z\")\n",
    "\n",
    "plt.show()"
   ]
  },
  {
   "cell_type": "markdown",
   "metadata": {},
   "source": [
    "## `stoichSubspace()`: find the vertices of the stoichiometric subspace $\\mathbf{S}$\n",
    "\n",
    "Lets use three-dimensional Van de Vusse kinetics:\n",
    "\n",
    "$$\n",
    "\\begin{align}\n",
    "\\mathrm{A}\t&\\rightarrow\t\\mathrm{B}\\rightarrow\\mathrm{C} \\\\\n",
    "\\mathrm{2A}\t&\\rightarrow\t\\mathrm{D}\n",
    "\\end{align}\n",
    "$$\n",
    "\n",
    "with a feed point of $\\mathbf{C}_{\\mathrm{f}}=\\begin{bmatrix}\\mathrm{c_{Af}} & \\mathrm{c_{Bf}} & \\mathrm{c_{Cf}} & \\mathrm{c_{Df}}\\end{bmatrix}^{\\mathrm{T}}=\\begin{bmatrix}1 & 0 & 0.5 & 0\\end{bmatrix}^{\\mathrm{T}}\\,\\mathrm{mol/L}$ as a test case."
   ]
  },
  {
   "cell_type": "code",
   "execution_count": null,
   "metadata": {},
   "outputs": [],
   "source": [
    "#stoichiometric coefficient matrix\n",
    "#A -> B -> C\n",
    "#2A -> D\n",
    "stoich_mat = sp.array([[-1.0, 0.0, -2.0],\n",
    "                       [1.0, -1.0, 0.0],                      \n",
    "                       [0.0, 1.0, 0.0],\n",
    "                       [0.0, 0.0, 1.0]])\n",
    "\n",
    "Cf0 = sp.array([1.0, 0.0, 0.5, 0.0])\n",
    "\n",
    "#find vertices of the stoichiometric subspace in concentration (Cs) and extent (Es) space\n",
    "S = artools.stoichSubspace(Cf0, stoich_mat)\n",
    "print S\n",
    "Cs = S[\"all_Cs\"]\n",
    "\n",
    "print \"Cs = \"\n",
    "print Cs"
   ]
  },
  {
   "cell_type": "markdown",
   "metadata": {},
   "source": [
    "This region can now be plotted"
   ]
  },
  {
   "cell_type": "code",
   "execution_count": null,
   "metadata": {},
   "outputs": [],
   "source": [
    "fig = artools.plot_region3d(Cs[:, (0, 1, 3)], view=(20, 60))\n",
    "ax = fig.gca()\n",
    "\n",
    "ax.set_xlabel(\"cA (mol/L)\")\n",
    "ax.set_ylabel(\"cB (mol/L)\")\n",
    "ax.set_zlabel(\"cD (mol/L)\")\n",
    "\n",
    "plt.show()"
   ]
  },
  {
   "cell_type": "markdown",
   "metadata": {
    "collapsed": true
   },
   "source": [
    "Stoichoimetric subspace for a single reaction\n",
    "\n",
    "$$\n",
    "\\mathrm{A+2B+3C\\rightarrow4D+5E}\n",
    "$$"
   ]
  },
  {
   "cell_type": "code",
   "execution_count": null,
   "metadata": {},
   "outputs": [],
   "source": [
    "Cf0 = sp.array([1., 1, 1, 0, 0.1])\n",
    "stoich_mat = sp.array([-1., -2., -3., 4., 5.])\n",
    "\n",
    "print \"stoichiometric coefficient matrix (single rxn):\"\n",
    "print stoich_mat\n",
    "\n",
    "S = artools.stoichSubspace(Cf0, stoich_mat)\n",
    "Cs = S[\"all_Cs\"]\n",
    "\n",
    "print \"\\nCs = \"\n",
    "print Cs"
   ]
  },
  {
   "cell_type": "markdown",
   "metadata": {},
   "source": [
    "## Another example to calculate the stoichiometric subspace for $\\mathrm{CH}_{4}$ steam reforming using `stoichSubspace()`\n",
    "\n",
    "$$\n",
    "\\begin{align}\n",
    "\\mathrm{CH_{4}}+\\mathrm{H_{2}O}\t&\\rightarrow\\mathrm{CO}+\\mathrm{3H_{2}} \\\\\n",
    "\\mathrm{CO}+\\mathrm{H_{2}O}\t&\\rightarrow\\mathrm{CO_{2}}+\\mathrm{H_{2}}\n",
    "\\end{align}\n",
    "$$"
   ]
  },
  {
   "cell_type": "code",
   "execution_count": null,
   "metadata": {},
   "outputs": [],
   "source": [
    "#CH4 + H2O -> CO + 3H2\n",
    "#CO + H2O -> CO2 + H2\n",
    "stoich_mat = sp.array([[-1., -1., 1., 3., 0.],\n",
    "                       [0, -1, -1, 1, 1]]).T\n",
    "\n",
    "# [CH4, H2O, CO, H2, CO2]\n",
    "Cf0 = sp.array([[1., 0.5, 0.2, 0.45, 0.3]]).T\n",
    "\n",
    "S = artools.stoichSubspace(Cf0, stoich_mat)\n",
    "Cs = S[\"all_Cs\"]\n",
    "Es = S[\"all_Es\"]\n",
    "\n",
    "print \"Vertices for S in concentration space:\"\n",
    "print Cs\n",
    "\n",
    "print \"\\nVertices for S in extent space:\"\n",
    "print Es"
   ]
  },
  {
   "cell_type": "code",
   "execution_count": null,
   "metadata": {},
   "outputs": [],
   "source": [
    "fig = artools.plot_region2d(Cs[:,(0,1)], alpha=0.15, color=\"b\", plot_verts=True)\n",
    "ax = fig.gca()\n",
    "\n",
    "ax.plot(Cf0[0], Cf0[1], \"^\", color=\"y\", markersize=10)\n",
    "ax.text(Cf0[0], Cf0[1]+0.03, \"$\\mathbf{C_{f}}$\")\n",
    "\n",
    "ax.set_xlabel(\"$CH_4$ (mol/L)\")\n",
    "ax.set_ylabel(\"$H_{2}O$ (mol/L)\")\n",
    "plt.show()"
   ]
  },
  {
   "cell_type": "code",
   "execution_count": null,
   "metadata": {},
   "outputs": [],
   "source": [
    "fig = artools.plot_region2d(Cs[:,(0,2)], alpha=0.15, color=\"b\", plot_verts=True)\n",
    "ax = fig.gca()\n",
    "\n",
    "ax.plot(Cf0[0], Cf0[2], \"^\", color=\"y\", markersize=10)\n",
    "ax.text(Cf0[0], Cf0[2]+0.05, \"$\\mathbf{C_{f}}$\")\n",
    "\n",
    "ax.set_xlabel(\"CH4 (mol/L)\")\n",
    "ax.set_ylabel(\"CO (mol/L)\")\n",
    "plt.show()"
   ]
  },
  {
   "cell_type": "code",
   "execution_count": null,
   "metadata": {},
   "outputs": [],
   "source": [
    "fig = artools.plot_region2d(Cs[:,(3,4)], alpha=0.15, color=\"b\", plot_verts=True)\n",
    "ax = fig.gca()\n",
    "\n",
    "ax.plot(Cf0[3], Cf0[4], \"^\", color=\"y\", markersize=10)\n",
    "ax.text(Cf0[3], Cf0[4]+0.03, \"$\\mathbf{C_{f}}$\")\n",
    "\n",
    "ax.set_xlabel(\"H2 (mol/L)\")\n",
    "ax.set_ylabel(\"CO2 (mol/L)\")\n",
    "plt.show()"
   ]
  },
  {
   "cell_type": "code",
   "execution_count": null,
   "metadata": {},
   "outputs": [],
   "source": [
    "fig = artools.plot_region2d(Es, alpha=0.5, color=\"y\", plot_verts=True)\n",
    "ax = fig.gca()\n",
    "\n",
    "ax.plot(0.0, 0.0, \"^\", color=\"b\", markersize=10)\n",
    "ax.text(0.0, 0.03, \"$\\mathbf{C_{f}}$\")\n",
    "\n",
    "ax.set_xlabel(\"e1 (mol/L)\")\n",
    "ax.set_ylabel(\"e2 (mol/L)\")\n",
    "plt.show()"
   ]
  },
  {
   "cell_type": "markdown",
   "metadata": {
    "collapsed": true
   },
   "source": [
    "## `nullspace()` and `rank()`: the nullspace and rank of a matrix $\\mathbf{A}$ "
   ]
  },
  {
   "cell_type": "code",
   "execution_count": null,
   "metadata": {},
   "outputs": [],
   "source": [
    "A = sp.array([[1., 0, 0, 0, 2.],\n",
    "             [0, 0, 3, 0, 0],\n",
    "             [0, 0, 0, 0, 0],\n",
    "             [0, 4, 0, 0, 0]])\n",
    "\n",
    "print \"A = \"\n",
    "print A\n",
    "\n",
    "print \"\\nA.shape = (%i, %i)\" % A.shape\n",
    "print \"rank(A) = %i\" % artools.rank(A)\n",
    "\n",
    "print \"\\nnull(A) = \"\n",
    "print artools.nullspace(A)"
   ]
  },
  {
   "cell_type": "code",
   "execution_count": null,
   "metadata": {},
   "outputs": [],
   "source": [
    "A = sp.array([[1., 0, 0],\n",
    "             [0, 1, 0],\n",
    "             [0, 0, 1]])\n",
    "\n",
    "print \"A = \"\n",
    "print A\n",
    "\n",
    "print \"\\nA.shape = (%i, %i)\" % A.shape\n",
    "print \"rank(A) = %i\" % artools.rank(A)\n",
    "\n",
    "print \"\\nnull(A) = \"\n",
    "print artools.nullspace(A)"
   ]
  },
  {
   "cell_type": "code",
   "execution_count": null,
   "metadata": {},
   "outputs": [],
   "source": [
    "A = sp.array([[1., 0, 0],\n",
    "             [0, 1, 0],\n",
    "             [0, 1, 0]])\n",
    "\n",
    "print \"A = \"\n",
    "print A\n",
    "\n",
    "print \"\\nA.shape = (%i, %i)\" % A.shape\n",
    "print \"rank(A) = %i\" % artools.rank(A)\n",
    "\n",
    "print \"\\nnull(A) = \"\n",
    "print artools.nullspace(A)"
   ]
  },
  {
   "cell_type": "code",
   "execution_count": null,
   "metadata": {},
   "outputs": [],
   "source": [
    "A = sp.array([[1., 0, 0]])\n",
    "\n",
    "print \"A = \"\n",
    "print A\n",
    "\n",
    "print \"\\nA.shape = (%i, %i)\" % A.shape\n",
    "print \"rank(A) = %i\" % artools.rank(A)\n",
    "\n",
    "print \"\\nnull(A) = \"\n",
    "print artools.nullspace(A)"
   ]
  },
  {
   "cell_type": "code",
   "execution_count": null,
   "metadata": {},
   "outputs": [],
   "source": [
    "n = sp.array([[1., 1]]).T\n",
    "\n",
    "N = artools.nullspace(n.T)\n",
    "\n",
    "sp.dot(n.T, N)"
   ]
  },
  {
   "cell_type": "markdown",
   "metadata": {
    "collapsed": true
   },
   "source": [
    "## `calc_PFR_trajectory()`: PFR trajectory points \n",
    "\n",
    "`calc_PFR_trajectory()` is a just a convenience function that makes the calling style similar to MATLAB."
   ]
  },
  {
   "cell_type": "code",
   "execution_count": null,
   "metadata": {},
   "outputs": [],
   "source": [
    "pfr_cs,pfr_ts = artools.calc_pfr_trajectory(Cf, rate_fn, t_end=10.0, NUM_PTS=100)\n",
    "\n",
    "#plot concentration profiles wrt time\n",
    "fig = plt.figure()\n",
    "ax = fig.gca()\n",
    "\n",
    "ax.plot(pfr_ts, pfr_cs, \"o\")\n",
    "\n",
    "ax.set_xlabel(\"PFR residence time (s)\")\n",
    "ax.set_ylabel(\"Species concentration (mol/L)\")\n",
    "plt.show(fig)\n",
    "\n",
    "#plot in concentration space\n",
    "fig = plt.figure()\n",
    "ax = fig.gca()\n",
    "\n",
    "ax.plot(pfr_cs[:, 0], pfr_cs[:, 1], \"r-\")\n",
    "\n",
    "ax.set_xlabel(\"cA (mol/L)\")\n",
    "ax.set_ylabel(\"cB (mol/L)\")\n",
    "plt.show(fig)\n",
    "\n",
    "print pfr_ts.shape"
   ]
  },
  {
   "cell_type": "markdown",
   "metadata": {},
   "source": [
    "## `cullPts()`: remove points in a list so that all points are spaced a minimum distance apart"
   ]
  },
  {
   "cell_type": "code",
   "execution_count": null,
   "metadata": {},
   "outputs": [],
   "source": [
    "XX = artools.cullPts(cstr_cs, min_dist=0.02, axis_lims=[0,1., 0,0.09])\n",
    "print cstr_cs.shape, XX.shape\n",
    "\n",
    "fig = plt.figure(figsize=(6,6))\n",
    "ax = fig.gca()\n",
    "\n",
    "ax.plot(XX[:, 0], XX[:, 1], \"bx\")\n",
    "\n",
    "ax.set_xlabel(\"cA (mol/L)\")\n",
    "ax.set_ylabel(\"cB (mol/L)\")\n",
    "plt.show(fig)"
   ]
  },
  {
   "cell_type": "markdown",
   "metadata": {},
   "source": [
    "## Stoichiometric subspace with multiple feeds"
   ]
  },
  {
   "cell_type": "code",
   "execution_count": null,
   "metadata": {},
   "outputs": [],
   "source": [
    "#stoichiometric coefficient matrix\n",
    "#A -> B -> C\n",
    "#2A -> D\n",
    "stoich_mat = sp.array([[-1., 0, -2,],\n",
    "                       [1., -1, 0,],                      \n",
    "                       [0, 1, 0,],\n",
    "                       [0, 0, 1]])\n",
    "\n",
    "Cf0s = sp.array([[1., 0., 0.5, 0.],\n",
    "                [1., 0., 0.0, 0.],\n",
    "                [1., 0., 0.0, 0.1]])\n",
    "\n",
    "S = artools.stoichSubspace(Cf0s, stoich_mat)\n",
    "all_Es = S[\"all_Es\"]"
   ]
  },
  {
   "cell_type": "code",
   "execution_count": null,
   "metadata": {},
   "outputs": [],
   "source": [
    "import scipy.spatial\n",
    "\n",
    "E = sp.vstack(all_Es)\n",
    "K = scipy.spatial.ConvexHull(E)\n",
    "K.vertices\n",
    "\n",
    "E[K.vertices,:]"
   ]
  },
  {
   "cell_type": "code",
   "execution_count": null,
   "metadata": {},
   "outputs": [],
   "source": [
    "E"
   ]
  }
 ],
 "metadata": {
  "anaconda-cloud": {},
  "kernelspec": {
   "display_name": "Python 2",
   "language": "python",
   "name": "python2"
  },
  "language_info": {
   "codemirror_mode": {
    "name": "ipython",
    "version": 2
   },
   "file_extension": ".py",
   "mimetype": "text/x-python",
   "name": "python",
   "nbconvert_exporter": "python",
   "pygments_lexer": "ipython2",
   "version": "2.7.13"
  }
 },
 "nbformat": 4,
 "nbformat_minor": 1
}
