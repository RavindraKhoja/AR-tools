{
 "cells": [
  {
   "cell_type": "markdown",
   "metadata": {},
   "source": [
    "## Python imports"
   ]
  },
  {
   "cell_type": "code",
   "execution_count": 1,
   "metadata": {
    "collapsed": false
   },
   "outputs": [],
   "source": [
    "# artools\n",
    "import sys\n",
    "sys.path.append('../../artools')\n",
    "import artools\n",
    "artools = reload(artools)\n",
    "\n",
    "import scipy as sp\n",
    "import scipy.integrate\n",
    "import scipy.linalg\n",
    "\n",
    "import matplotlib.pyplot as plt\n",
    "%matplotlib inline\n",
    "plt.style.use('ggplot')\n",
    "\n",
    "import ipywidgets"
   ]
  },
  {
   "cell_type": "markdown",
   "metadata": {},
   "source": [
    "## Define rate function"
   ]
  },
  {
   "cell_type": "code",
   "execution_count": 2,
   "metadata": {
    "collapsed": false
   },
   "outputs": [
    {
     "ename": "AttributeError",
     "evalue": "'module' object has no attribute 'calc_stoich_subspace'",
     "output_type": "error",
     "traceback": [
      "\u001b[1;31m---------------------------------------------------------------------------\u001b[0m",
      "\u001b[1;31mAttributeError\u001b[0m                            Traceback (most recent call last)",
      "\u001b[1;32m<ipython-input-2-2bb96765f64f>\u001b[0m in \u001b[0;36m<module>\u001b[1;34m()\u001b[0m\n\u001b[0;32m     21\u001b[0m \u001b[1;33m\u001b[0m\u001b[0m\n\u001b[0;32m     22\u001b[0m \u001b[1;31m#Determine stoichiometric subspace S\u001b[0m\u001b[1;33m\u001b[0m\u001b[1;33m\u001b[0m\u001b[0m\n\u001b[1;32m---> 23\u001b[1;33m \u001b[0mS_cs\u001b[0m\u001b[1;33m,\u001b[0m \u001b[0mS_es\u001b[0m \u001b[1;33m=\u001b[0m \u001b[0martools\u001b[0m\u001b[1;33m.\u001b[0m\u001b[0mcalc_stoich_subspace\u001b[0m\u001b[1;33m(\u001b[0m\u001b[0mstoich_mat\u001b[0m\u001b[1;33m,\u001b[0m \u001b[0mCf0\u001b[0m\u001b[1;33m)\u001b[0m\u001b[1;33m\u001b[0m\u001b[0m\n\u001b[0m\u001b[0;32m     24\u001b[0m \u001b[1;33m\u001b[0m\u001b[0m\n\u001b[0;32m     25\u001b[0m \u001b[1;31m#PFR trajectory from the feed point as a test region\u001b[0m\u001b[1;33m\u001b[0m\u001b[1;33m\u001b[0m\u001b[0m\n",
      "\u001b[1;31mAttributeError\u001b[0m: 'module' object has no attribute 'calc_stoich_subspace'"
     ]
    }
   ],
   "source": [
    "#2D van de Vusse kinetics\n",
    "#A -> B -> C\n",
    "\n",
    "def rate_fn(C,t):\n",
    "    cA = C[0]\n",
    "    cB = C[1]\n",
    "    \n",
    "    #rate constants\n",
    "    k1 = 1.0;\n",
    "    k2 = 1.0;\n",
    "    k3 = 10.0;\n",
    "\n",
    "    #r = [rA, rB]\n",
    "    return sp.array([-k1*cA - 2*k3*cA**2,\n",
    "                    k1*cA - k2*cB])\n",
    "\n",
    "#Feed point and stoichiometry\n",
    "stoich_mat = sp.array([[-1., 1, 0],\n",
    "                      [0., -1, 1]]).T\n",
    "Cf0 = sp.array([1., 0, 0])\n",
    "\n",
    "#Determine stoichiometric subspace S\n",
    "S_cs, S_es = artools.calc_stoich_subspace(stoich_mat, Cf0)\n",
    "\n",
    "#PFR trajectory from the feed point as a test region\n",
    "Cf = sp.array([Cf0[0], Cf0[1]])\n",
    "pfr_ts = sp.logspace(-3, sp.log10(10), 100)\n",
    "pfr_cs = scipy.integrate.odeint(rate_fn, Cf, pfr_ts)"
   ]
  },
  {
   "cell_type": "markdown",
   "metadata": {},
   "source": [
    "## NOTE: Needs description of what is going on here..."
   ]
  },
  {
   "cell_type": "code",
   "execution_count": null,
   "metadata": {
    "collapsed": false
   },
   "outputs": [],
   "source": [
    "def plot_fn(xi=0.4, yi=0.1):\n",
    "    \n",
    "    ci = sp.array([xi, yi])\n",
    "    ri = rate_fn(ci, 0)\n",
    "    \n",
    "    #compute polytope constraints\n",
    "    all_cs = pfr_cs\n",
    "    A,b = artools.vert2con(all_cs)\n",
    "    P_cs = artools.con2vert(A, b)\n",
    "    \n",
    "    #plot\n",
    "    fig = artools.plot_region2d(P_cs)\n",
    "    ax = fig.gca()\n",
    "    fig.hold(True)   \n",
    "\n",
    "    #current point ci\n",
    "    ax.plot(ci[0], ci[1], \"ro\")\n",
    "    \n",
    "    #backwards cstr line from ci\n",
    "    zi = ci - 100.0*ri\n",
    "    ax.plot((ci[0], zi[0]), (ci[1], zi[1]), \"b--\")\n",
    "\n",
    "    #fig = artools.plot_Hplanes(A,b,fig)\n",
    "\n",
    "    #Determine if the backwards CSTR line intersects the current region\n",
    "    F = sp.dot(A, ci) - b\n",
    "    G = sp.dot(A, ri)\n",
    "    \n",
    "    ts = F/G    \n",
    "    for i,fi in enumerate(F):\n",
    "        gi = G[i]\n",
    "\n",
    "        if gi==0:\n",
    "            continue\n",
    "\n",
    "        ti = fi/gi\n",
    "\n",
    "        if ti > 0.0:\n",
    "            xi = ci - ti*ri\n",
    "            #print xi, artools.inregion(xi, A, b)\n",
    "            #ax.plot(xi[0], xi[1], 'g*')\n",
    "\n",
    "            if artools.outRegion(ci, A, b) and artools.inRegion(xi, A, b):\n",
    "                ax.plot(xi[0], xi[1], 'ys')\n",
    "                #ax.set_title(\"Intersection!\")\n",
    "                \n",
    "                tmp_Xs = sp.vstack([all_cs, ci])\n",
    "                artools.plot_region2d(tmp_Xs, ax=ax, alpha=0.1, color=\"b\")\n",
    "\n",
    "    #set up figure display\n",
    "    fig.set_figwidth(10)\n",
    "    fig.set_figheight(8)\n",
    "    \n",
    "    ax.set_xlim([-0.05, 1.05])\n",
    "    ax.set_ylim([-0.01, 0.15])\n",
    "\n",
    "    ax.set_xlabel(\"cA (mol/L)\")\n",
    "    ax.set_ylabel(\"cB (mol/L)\")\n",
    "    \n",
    "    plt.show(fig)\n",
    "    \n",
    "ipywidgets.interact(plot_fn, xi=(0,1,0.01), yi=(0, 0.15, 0.001))"
   ]
  },
  {
   "cell_type": "code",
   "execution_count": null,
   "metadata": {
    "collapsed": true
   },
   "outputs": [],
   "source": []
  }
 ],
 "metadata": {
  "anaconda-cloud": {},
  "kernelspec": {
   "display_name": "Python [Root]",
   "language": "python",
   "name": "Python [Root]"
  },
  "language_info": {
   "codemirror_mode": {
    "name": "ipython",
    "version": 2
   },
   "file_extension": ".py",
   "mimetype": "text/x-python",
   "name": "python",
   "nbconvert_exporter": "python",
   "pygments_lexer": "ipython2",
   "version": "2.7.11"
  }
 },
 "nbformat": 4,
 "nbformat_minor": 0
}
