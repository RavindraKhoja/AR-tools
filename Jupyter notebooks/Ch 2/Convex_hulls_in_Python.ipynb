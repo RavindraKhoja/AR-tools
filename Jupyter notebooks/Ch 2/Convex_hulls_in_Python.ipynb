{
 "cells": [
  {
   "cell_type": "markdown",
   "metadata": {},
   "source": [
    "## Python imports "
   ]
  },
  {
   "cell_type": "code",
   "execution_count": 1,
   "metadata": {
    "collapsed": true
   },
   "outputs": [],
   "source": [
    "import scipy as sp\n",
    "from scipy.spatial import ConvexHull"
   ]
  },
  {
   "cell_type": "markdown",
   "metadata": {},
   "source": [
    "## Generate a set of 20 random points\n",
    "\n",
    "Let's begin by generating 20 random points, between 0 and 1, in two-dimensional space. We can then compute the convex hull of this set and determine which points are extreme points."
   ]
  },
  {
   "cell_type": "code",
   "execution_count": 2,
   "metadata": {
    "collapsed": false
   },
   "outputs": [
    {
     "name": "stdout",
     "output_type": "stream",
     "text": [
      "[[ 0.09486268  0.90964638]\n",
      " [ 0.43597197  0.9236582 ]\n",
      " [ 0.43060244  0.78350887]\n",
      " [ 0.31208569  0.51443689]\n",
      " [ 0.94258626  0.507487  ]\n",
      " [ 0.33705073  0.41244334]\n",
      " [ 0.27574968  0.75267919]\n",
      " [ 0.70166126  0.66224761]\n",
      " [ 0.9113482   0.98298382]\n",
      " [ 0.28407783  0.78831657]\n",
      " [ 0.28800985  0.26613806]\n",
      " [ 0.13374244  0.51654119]\n",
      " [ 0.44270637  0.98542116]\n",
      " [ 0.52457607  0.87109529]\n",
      " [ 0.07992707  0.92645193]\n",
      " [ 0.34082128  0.63592298]\n",
      " [ 0.16627894  0.74944172]\n",
      " [ 0.59138397  0.5787305 ]\n",
      " [ 0.18123229  0.28106229]\n",
      " [ 0.40148235  0.24010178]]\n"
     ]
    }
   ],
   "source": [
    "N = 20\n",
    "Xs = sp.rand(N,2)\n",
    "\n",
    "print Xs"
   ]
  },
  {
   "cell_type": "markdown",
   "metadata": {},
   "source": [
    "## Calculate the convex hull\n",
    "Now we can compute the convex hull. We use the `ConvexHull()` function from the scipy.spatial sub-package."
   ]
  },
  {
   "cell_type": "code",
   "execution_count": 3,
   "metadata": {
    "collapsed": true
   },
   "outputs": [],
   "source": [
    "hull = ConvexHull(Xs)"
   ]
  },
  {
   "cell_type": "markdown",
   "metadata": {},
   "source": [
    "The `ConvexHull()` function in SciPy returns a hull object, which stores all information related to the convex hull. We wish to find the vertices of the hull. We can do this by accessing the `.vertices` information from the object."
   ]
  },
  {
   "cell_type": "code",
   "execution_count": 4,
   "metadata": {
    "collapsed": false
   },
   "outputs": [
    {
     "data": {
      "text/plain": [
       "array([19,  4,  8, 12, 14, 11, 18])"
      ]
     },
     "execution_count": 4,
     "metadata": {},
     "output_type": "execute_result"
    }
   ],
   "source": [
    "k = hull.vertices\n",
    "k"
   ]
  },
  {
   "cell_type": "markdown",
   "metadata": {},
   "source": [
    "Here, `k` is a Numpy array containing the indices in `Xs` corresponding to the convex hull."
   ]
  },
  {
   "cell_type": "code",
   "execution_count": 5,
   "metadata": {
    "collapsed": false
   },
   "outputs": [
    {
     "data": {
      "text/plain": [
       "array([[ 0.40148235,  0.24010178],\n",
       "       [ 0.94258626,  0.507487  ],\n",
       "       [ 0.9113482 ,  0.98298382],\n",
       "       [ 0.44270637,  0.98542116],\n",
       "       [ 0.07992707,  0.92645193],\n",
       "       [ 0.13374244,  0.51654119],\n",
       "       [ 0.18123229,  0.28106229]])"
      ]
     },
     "execution_count": 5,
     "metadata": {},
     "output_type": "execute_result"
    }
   ],
   "source": [
    "Xs[k]"
   ]
  },
  {
   "cell_type": "markdown",
   "metadata": {},
   "source": [
    "## Visualise results\n",
    "\n",
    "Let's plot the points using matplotlib."
   ]
  },
  {
   "cell_type": "code",
   "execution_count": 6,
   "metadata": {
    "collapsed": false
   },
   "outputs": [
    {
     "data": {
      "image/png": "[encoded data removed]",
      "text/plain": [
       "<matplotlib.figure.Figure at 0x14c78908>"
      ]
     },
     "metadata": {},
     "output_type": "display_data"
    }
   ],
   "source": [
    "import matplotlib.pyplot as plt\n",
    "%matplotlib inline\n",
    "\n",
    "fig = plt.figure(figsize=(6,6))\n",
    "fig.hold(True)\n",
    "ax = fig.gca()\n",
    "\n",
    "#plot convex hull region\n",
    "ax.fill(Xs[k,0],Xs[k,1], 'g', alpha=0.5)\n",
    "ax.plot(Xs[:,0],Xs[:,1], 'ko')\n",
    "\n",
    "#plot extreme points\n",
    "ax.plot(Xs[k,0], Xs[k,1], 'wo')\n",
    "    \n",
    "ax.set_xlabel('x1')\n",
    "ax.set_ylabel('x2')\n",
    "\n",
    "plt.show(fig)"
   ]
  }
 ],
 "metadata": {
  "kernelspec": {
   "display_name": "Python 2",
   "language": "python",
   "name": "python2"
  },
  "language_info": {
   "codemirror_mode": {
    "name": "ipython",
    "version": 2
   },
   "file_extension": ".py",
   "mimetype": "text/x-python",
   "name": "python",
   "nbconvert_exporter": "python",
   "pygments_lexer": "ipython2",
   "version": "2.7.11"
  }
 },
 "nbformat": 4,
 "nbformat_minor": 0
}
