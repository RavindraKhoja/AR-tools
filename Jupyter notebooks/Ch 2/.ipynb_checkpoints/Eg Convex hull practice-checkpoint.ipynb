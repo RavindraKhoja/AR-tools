{
 "cells": [
  {
   "cell_type": "markdown",
   "metadata": {},
   "source": [
    "## Python imports "
   ]
  },
  {
   "cell_type": "code",
   "execution_count": 2,
   "metadata": {
    "collapsed": true
   },
   "outputs": [],
   "source": [
    "import scipy as sp\n",
    "from scipy.spatial import ConvexHull"
   ]
  },
  {
   "cell_type": "markdown",
   "metadata": {},
   "source": [
    "## Generate 20 random points"
   ]
  },
  {
   "cell_type": "code",
   "execution_count": 3,
   "metadata": {
    "collapsed": false
   },
   "outputs": [
    {
     "name": "stdout",
     "output_type": "stream",
     "text": [
      "[[ 0.74844579  0.22875668]\n",
      " [ 0.99138223  0.51138688]\n",
      " [ 0.85974567  0.11009698]\n",
      " [ 0.35151487  0.61283381]\n",
      " [ 0.91655506  0.77010225]\n",
      " [ 0.38504895  0.33918644]\n",
      " [ 0.86945775  0.02089876]\n",
      " [ 0.11607738  0.27754635]\n",
      " [ 0.16276436  0.52754532]\n",
      " [ 0.04969348  0.87960001]\n",
      " [ 0.95845631  0.72685828]\n",
      " [ 0.7517992   0.80909   ]\n",
      " [ 0.05396054  0.72573828]\n",
      " [ 0.7940146   0.86349135]\n",
      " [ 0.41110436  0.3237991 ]\n",
      " [ 0.11884392  0.89302974]\n",
      " [ 0.45019063  0.95558382]\n",
      " [ 0.00125325  0.33784854]\n",
      " [ 0.66453042  0.01797989]\n",
      " [ 0.22748249  0.89342538]]\n"
     ]
    }
   ],
   "source": [
    "N = 20\n",
    "Xs = sp.rand(N,2)\n",
    "\n",
    "print Xs"
   ]
  },
  {
   "cell_type": "markdown",
   "metadata": {},
   "source": [
    "## Calculate the convex hull\n",
    "We use the `ConvexHull()` function from the scipy.spatial sub-package."
   ]
  },
  {
   "cell_type": "code",
   "execution_count": 4,
   "metadata": {
    "collapsed": true
   },
   "outputs": [],
   "source": [
    "hull = ConvexHull(Xs)\n",
    "k = hull.vertices"
   ]
  },
  {
   "cell_type": "markdown",
   "metadata": {},
   "source": [
    "## Print results"
   ]
  },
  {
   "cell_type": "code",
   "execution_count": 5,
   "metadata": {
    "collapsed": false
   },
   "outputs": [
    {
     "name": "stdout",
     "output_type": "stream",
     "text": [
      "[[ 0.86945775  0.02089876]\n",
      " [ 0.99138223  0.51138688]\n",
      " [ 0.95845631  0.72685828]\n",
      " [ 0.91655506  0.77010225]\n",
      " [ 0.7940146   0.86349135]\n",
      " [ 0.45019063  0.95558382]\n",
      " [ 0.11884392  0.89302974]\n",
      " [ 0.04969348  0.87960001]\n",
      " [ 0.00125325  0.33784854]\n",
      " [ 0.11607738  0.27754635]\n",
      " [ 0.66453042  0.01797989]]\n"
     ]
    }
   ],
   "source": [
    "print Xs[k]"
   ]
  },
  {
   "cell_type": "markdown",
   "metadata": {},
   "source": [
    "## We can also plot the results"
   ]
  },
  {
   "cell_type": "code",
   "execution_count": 8,
   "metadata": {
    "collapsed": false
   },
   "outputs": [
    {
     "data": {
      "image/png": "[encoded data removed]",
      "text/plain": [
       "<matplotlib.figure.Figure at 0x10047518>"
      ]
     },
     "metadata": {},
     "output_type": "display_data"
    }
   ],
   "source": [
    "import matplotlib.pyplot as plt\n",
    "%matplotlib inline\n",
    "\n",
    "fig = plt.figure()\n",
    "fig.hold(True)\n",
    "ax = fig.gca()\n",
    "\n",
    "#plot convex hull region\n",
    "ax.fill(Xs[k,0],Xs[k,1], 'g', alpha=0.5)\n",
    "ax.plot(Xs[:,0],Xs[:,1], 'ko')\n",
    "\n",
    "#plot extreme points\n",
    "ax.plot(Xs[k,0], Xs[k,1], 'wo')\n",
    "    \n",
    "ax.set_xlabel('Component A')\n",
    "ax.set_ylabel('Component B')\n",
    "\n",
    "plt.show(fig)"
   ]
  }
 ],
 "metadata": {
  "kernelspec": {
   "display_name": "Python 2",
   "language": "python",
   "name": "python2"
  },
  "language_info": {
   "codemirror_mode": {
    "name": "ipython",
    "version": 2
   },
   "file_extension": ".py",
   "mimetype": "text/x-python",
   "name": "python",
   "nbconvert_exporter": "python",
   "pygments_lexer": "ipython2",
   "version": "2.7.10"
  }
 },
 "nbformat": 4,
 "nbformat_minor": 0
}
