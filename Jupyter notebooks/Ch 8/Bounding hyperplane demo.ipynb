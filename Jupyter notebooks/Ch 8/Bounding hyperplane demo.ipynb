{
 "cells": [
  {
   "cell_type": "markdown",
   "metadata": {},
   "source": [
    "## Python imports"
   ]
  },
  {
   "cell_type": "code",
   "execution_count": 1,
   "metadata": {
    "collapsed": true
   },
   "outputs": [],
   "source": [
    "import sys\n",
    "sys.path.append('../')\n",
    "import artools\n",
    "\n",
    "import scipy as sp\n",
    "import scipy.integrate\n",
    "\n",
    "import matplotlib.pyplot as plt\n",
    "%matplotlib inline\n",
    "plt.style.use('ggplot')\n",
    "\n",
    "import ipywidgets\n",
    "from IPython.display import display"
   ]
  },
  {
   "cell_type": "markdown",
   "metadata": {},
   "source": [
    "## Define rate function"
   ]
  },
  {
   "cell_type": "code",
   "execution_count": 2,
   "metadata": {
    "collapsed": true
   },
   "outputs": [],
   "source": [
    "#2D van de Vusse kinetics\n",
    "#A -> B -> C\n",
    "\n",
    "def rate_fn(C,t):\n",
    "    cA = C[0]\n",
    "    cB = C[1]\n",
    "    \n",
    "    #rate constants\n",
    "    k1 = 1.0;\n",
    "    k2 = 1.0;\n",
    "    k3 = 10.0;\n",
    "\n",
    "    #r = [rA, rB]\n",
    "    return sp.array([-k1*cA - 2*k3*cA**2,\n",
    "                    k1*cA - k2*cB])\n",
    "\n",
    "#Feed point and stoichiometry\n",
    "stoich_mat = sp.array([[-1., 1, 0],\n",
    "                      [0., -1, 1]]).T\n",
    "Cf0 = sp.array([1., 0, 0])\n",
    "\n",
    "#Determine stoichiometric subspace S\n",
    "S_cs, S_es = artools.calc_stoich_subspace(stoich_mat, Cf0)"
   ]
  },
  {
   "cell_type": "markdown",
   "metadata": {},
   "source": [
    "## Interactive plot"
   ]
  },
  {
   "cell_type": "code",
   "execution_count": 3,
   "metadata": {
    "collapsed": false
   },
   "outputs": [
    {
     "data": {
      "image/png": "[encoded data removed]",
      "text/plain": [
       "<matplotlib.figure.Figure at 0x1f772438>"
      ]
     },
     "metadata": {},
     "output_type": "display_data"
    }
   ],
   "source": [
    "def plot_fn(bi=0.5):\n",
    "    \n",
    "    #define hyperplane constraints\n",
    "    A = sp.array([[-1.0, 0.0],\n",
    "                 [0.0, -1.0],\n",
    "                 [1.0, 1.0],\n",
    "                 [-0.1, 0.8]])\n",
    "    \n",
    "    b = sp.array([0., 0., 1., bi]);\n",
    "\n",
    "    #determine polytope extreme points\n",
    "    P_cs = artools.con2vert(A, b)\n",
    "    \n",
    "    #plot hyperplanes\n",
    "    fig = artools.plot_hplanes(A, b)\n",
    "    \n",
    "    #plot feasible region\n",
    "    ax = fig.gca()\n",
    "    fig = artools.plot_region2d(P_cs, ax=ax, alpha=0.3, plot_verts=True)\n",
    "\n",
    "    ax.set_xlim([-0.1, 1.1])\n",
    "    ax.set_ylim([-0.1, 1.1])\n",
    "    \n",
    "    ax.set_xlabel(\"cA (mol/L)\")\n",
    "    ax.set_ylabel(\"cB (mol/L)\")\n",
    "    plt.show(fig)\n",
    "    \n",
    "#plot interactive demo\n",
    "ipywidgets.interactive(plot_fn, bi=(0, 1, 0.02))"
   ]
  },
  {
   "cell_type": "code",
   "execution_count": null,
   "metadata": {
    "collapsed": true
   },
   "outputs": [],
   "source": []
  }
 ],
 "metadata": {
  "kernelspec": {
   "display_name": "Python 2",
   "language": "python",
   "name": "python2"
  },
  "language_info": {
   "codemirror_mode": {
    "name": "ipython",
    "version": 2
   },
   "file_extension": ".py",
   "mimetype": "text/x-python",
   "name": "python",
   "nbconvert_exporter": "python",
   "pygments_lexer": "ipython2",
   "version": "2.7.10"
  }
 },
 "nbformat": 4,
 "nbformat_minor": 0
}
