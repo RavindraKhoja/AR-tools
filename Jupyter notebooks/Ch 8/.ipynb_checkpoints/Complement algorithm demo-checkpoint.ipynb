{
 "cells": [
  {
   "cell_type": "markdown",
   "metadata": {},
   "source": [
    "## Python imports"
   ]
  },
  {
   "cell_type": "code",
   "execution_count": 4,
   "metadata": {
    "collapsed": false
   },
   "outputs": [],
   "source": [
    "import sys\n",
    "sys.path.append('../')\n",
    "import artools\n",
    "\n",
    "import scipy as sp\n",
    "import scipy.integrate\n",
    "import scipy.linalg\n",
    "\n",
    "import matplotlib.pyplot as plt\n",
    "%matplotlib inline\n",
    "plt.style.use('ggplot')\n",
    "\n",
    "import ipywidgets\n",
    "from IPython.display import display"
   ]
  },
  {
   "cell_type": "markdown",
   "metadata": {},
   "source": [
    "## Define rate function"
   ]
  },
  {
   "cell_type": "code",
   "execution_count": 5,
   "metadata": {
    "collapsed": false
   },
   "outputs": [],
   "source": [
    "#2D van de Vusse kinetics\n",
    "#A -> B -> C\n",
    "\n",
    "def rate_fn(C,t):\n",
    "    cA = C[0]\n",
    "    cB = C[1]\n",
    "    \n",
    "    #rate constants\n",
    "    k1 = 1.0;\n",
    "    k2 = 1.0;\n",
    "    k3 = 10.0;\n",
    "\n",
    "    #r = [rA, rB]\n",
    "    return sp.array([-k1*cA - 2*k3*cA**2,\n",
    "                    k1*cA - k2*cB])\n",
    "\n",
    "#Feed point and stoichiometry\n",
    "stoich_mat = sp.array([[-1., 1, 0],\n",
    "                      [0., -1, 1]]).T\n",
    "Cf0 = sp.array([1., 0, 0])\n",
    "\n",
    "#Determine stoichiometric subspace S\n",
    "S_cs, S_es = artools.calc_stoich_subspace(stoich_mat, Cf0)\n",
    "\n",
    "#PFR trajectory from the feed point as a test region\n",
    "Cf = sp.array([Cf0[0], Cf0[1]])\n",
    "pfr_ts = sp.logspace(-3, sp.log10(10), 100)\n",
    "pfr_cs = scipy.integrate.odeint(rate_fn, Cf, pfr_ts)"
   ]
  },
  {
   "cell_type": "markdown",
   "metadata": {},
   "source": [
    "## NOTE: Needs description of what is going on here..."
   ]
  },
  {
   "cell_type": "code",
   "execution_count": 6,
   "metadata": {
    "collapsed": false
   },
   "outputs": [
    {
     "data": {
      "image/png": "[encoded data removed]",
      "text/plain": [
       "<matplotlib.figure.Figure at 0x1b584518>"
      ]
     },
     "metadata": {},
     "output_type": "display_data"
    }
   ],
   "source": [
    "def plot_fn(xi=0.4, yi=0.1):\n",
    "    \n",
    "    ci = sp.array([xi, yi])\n",
    "    ri = rate_fn(ci, 0)\n",
    "    \n",
    "    #compute polytope constraints\n",
    "    all_cs = pfr_cs\n",
    "    A,b = artools.vert2con(all_cs)\n",
    "    P_cs = artools.con2vert(A, b)\n",
    "    \n",
    "    #plot\n",
    "    fig = artools.plot_region2d(P_cs)\n",
    "    ax = fig.gca()\n",
    "    fig.hold(True)   \n",
    "\n",
    "    #current point ci\n",
    "    ax.plot(ci[0], ci[1], \"ro\")\n",
    "    \n",
    "    #backwards cstr line from ci\n",
    "    zi = ci - 100.0*ri\n",
    "    ax.plot((ci[0], zi[0]), (ci[1], zi[1]), \"b--\")\n",
    "\n",
    "    #fig = artools.plot_Hplanes(A,b,fig)\n",
    "\n",
    "    #Determine if the backwards CSTR line intersects the current region\n",
    "    F = sp.dot(A, ci) - b\n",
    "    G = sp.dot(A, ri)\n",
    "    \n",
    "    ts = F/G    \n",
    "    for i,fi in enumerate(F):\n",
    "        gi = G[i]\n",
    "\n",
    "        if gi==0:\n",
    "            continue\n",
    "\n",
    "        ti = fi/gi\n",
    "\n",
    "        if ti > 0.0:\n",
    "            xi = ci - ti*ri\n",
    "            #print xi, artools.inregion(xi, A, b)\n",
    "            #ax.plot(xi[0], xi[1], 'g*')\n",
    "\n",
    "            if artools.out_region(ci, A, b) and artools.in_region(xi, A, b):\n",
    "                ax.plot(xi[0], xi[1], 'ys')\n",
    "                #ax.set_title(\"Intersection!\")\n",
    "                \n",
    "                tmp_Xs = sp.vstack([all_cs, ci])\n",
    "                artools.plot_region2d(tmp_Xs, ax=ax, alpha=0.1, color=\"b\")\n",
    "\n",
    "    #set up figure display\n",
    "    fig.set_figwidth(10)\n",
    "    fig.set_figheight(8)\n",
    "    \n",
    "    ax.set_xlim([-0.05, 1.05])\n",
    "    ax.set_ylim([-0.01, 0.15])\n",
    "\n",
    "    ax.set_xlabel(\"cA (mol/L)\")\n",
    "    ax.set_ylabel(\"cB (mol/L)\")\n",
    "    \n",
    "    plt.show(fig)\n",
    "    \n",
    "ipywidgets.interactive(plot_fn, xi=(0,1,0.01), yi=(0, 0.15, 0.001))"
   ]
  },
  {
   "cell_type": "code",
   "execution_count": null,
   "metadata": {
    "collapsed": true
   },
   "outputs": [],
   "source": []
  }
 ],
 "metadata": {
  "kernelspec": {
   "display_name": "Python 2",
   "language": "python",
   "name": "python2"
  },
  "language_info": {
   "codemirror_mode": {
    "name": "ipython",
    "version": 2
   },
   "file_extension": ".py",
   "mimetype": "text/x-python",
   "name": "python",
   "nbconvert_exporter": "python",
   "pygments_lexer": "ipython2",
   "version": "2.7.10"
  }
 },
 "nbformat": 4,
 "nbformat_minor": 0
}
