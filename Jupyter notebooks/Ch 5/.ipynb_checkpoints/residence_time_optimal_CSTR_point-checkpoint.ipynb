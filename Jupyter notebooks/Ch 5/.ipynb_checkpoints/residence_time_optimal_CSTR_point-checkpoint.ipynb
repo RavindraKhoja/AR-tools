{
 "cells": [
  {
   "cell_type": "markdown",
   "metadata": {},
   "source": [
    "##Python imports"
   ]
  },
  {
   "cell_type": "code",
   "execution_count": 1,
   "metadata": {
    "collapsed": false
   },
   "outputs": [
    {
     "name": "stderr",
     "output_type": "stream",
     "text": [
      ":0: FutureWarning: IPython widgets are experimental and may change in the future.\n"
     ]
    }
   ],
   "source": [
    "import scipy as sp\n",
    "import matplotlib.pyplot as plt\n",
    "\n",
    "from scipy.integrate import odeint\n",
    "from scipy.spatial import ConvexHull\n",
    "import scipy.optimize\n",
    "\n",
    "from IPython.html.widgets import interact, interactive, fixed, Checkbox\n",
    "from IPython.display import display\n",
    "\n",
    "%matplotlib inline"
   ]
  },
  {
   "cell_type": "code",
   "execution_count": 2,
   "metadata": {
    "collapsed": false
   },
   "outputs": [
    {
     "name": "stderr",
     "output_type": "stream",
     "text": [
      "C:\\Users\\David\\Anaconda\\lib\\site-packages\\IPython\\kernel\\__main__.py:5: RuntimeWarning: divide by zero encountered in divide\n"
     ]
    },
    {
     "data": {
      "image/png": "[encoded data removed]",
      "text/plain": [
       "<matplotlib.figure.Figure at 0x3209390>"
      ]
     },
     "metadata": {},
     "output_type": "display_data"
    }
   ],
   "source": [
    "Cf = [20.0, 1e-6];\n",
    "k = 0.002;\n",
    "\n",
    "def cstr_fn(x):\n",
    "    ti = x/(k*(1-x)*(Cf[1] + Cf[0]*x))\n",
    "    \n",
    "    return ti\n",
    "\n",
    "def rate_fn(C,t):\n",
    "    cA = C[0]\n",
    "    cB = Cf[1] + Cf[0]*(1.0 - cA/Cf[0])\n",
    "    \n",
    "    #rA = -k*cA*cB\n",
    "    rA = -k*cA*cB\n",
    "    \n",
    "    return sp.array([rA,1.0])\n",
    "\n",
    "x_range = sp.linspace(0,1,100)\n",
    "cA_range = Cf[0]*(1.0 - x_range)\n",
    "cB_range = Cf[1] + Cf[0]*x_range\n",
    "\n",
    "cstr_ts = cstr_fn(x_range)\n",
    "\n",
    "plt.figure()\n",
    "\n",
    "plt.plot(cA_range,cstr_ts, \"bx\")\n",
    "\n",
    "plt.axis([0,Cf[0],0,1000])\n",
    "plt.show()"
   ]
  },
  {
   "cell_type": "code",
   "execution_count": 41,
   "metadata": {
    "collapsed": false
   },
   "outputs": [
    {
     "name": "stdout",
     "output_type": "stream",
     "text": [
      "Illegal input detected (internal error).\n",
      "Run with full_output = 1 to get quantitative information.\n"
     ]
    },
    {
     "data": {
      "image/png": "[encoded data removed]",
      "text/plain": [
       "<matplotlib.figure.Figure at 0x16ebe160>"
      ]
     },
     "metadata": {},
     "output_type": "display_data"
    }
   ],
   "source": [
    "cstr_cs = sp.array([cA_range,cstr_ts]).T\n",
    "\n",
    "plt.figure()\n",
    "plt.hold(True)\n",
    "\n",
    "for ci in cstr_cs:\n",
    "        \n",
    "    #integrate PFR from CSTR locus and only keep concentrations lower than 1000 s residence time\n",
    "    pfr_ts = sp.logspace(-3,3,300)\n",
    "    pfr_cs = odeint(rate_fn, ci, pfr_ts)\n",
    "    \n",
    "    all_cs = sp.vstack([cstr_cs,pfr_cs, [Cf[0], 1000.0]])\n",
    "    \n",
    "    kk = sp.nonzero(all_cs[:,1]<=1000.0)[0]\n",
    "    valid_cs = all_cs[kk,:]\n",
    "\n",
    "    plt.plot(valid_cs[:,0], valid_cs[:,1], \"rx\")\n",
    "    \n",
    "plt.show()"
   ]
  },
  {
   "cell_type": "code",
   "execution_count": 53,
   "metadata": {
    "collapsed": false
   },
   "outputs": [
    {
     "ename": "AttributeError",
     "evalue": "'ConvexHull' object has no attribute 'volume'",
     "output_type": "error",
     "traceback": [
      "\u001b[1;31m---------------------------------------------------------------------------\u001b[0m",
      "\u001b[1;31mAttributeError\u001b[0m                            Traceback (most recent call last)",
      "\u001b[1;32m<ipython-input-53-e22ef65b0c86>\u001b[0m in \u001b[0;36m<module>\u001b[1;34m()\u001b[0m\n\u001b[0;32m      1\u001b[0m \u001b[0mK\u001b[0m \u001b[1;33m=\u001b[0m \u001b[0mConvexHull\u001b[0m\u001b[1;33m(\u001b[0m\u001b[0mvalid_cs\u001b[0m\u001b[1;33m,\u001b[0m \u001b[0mqhull_options\u001b[0m\u001b[1;33m=\u001b[0m\u001b[1;34m\"FA\"\u001b[0m\u001b[1;33m)\u001b[0m\u001b[1;33m\u001b[0m\u001b[0m\n\u001b[1;32m----> 2\u001b[1;33m \u001b[0mK\u001b[0m\u001b[1;33m.\u001b[0m\u001b[0mvolume\u001b[0m\u001b[1;33m\u001b[0m\u001b[0m\n\u001b[0m",
      "\u001b[1;31mAttributeError\u001b[0m: 'ConvexHull' object has no attribute 'volume'"
     ]
    }
   ],
   "source": [
    "K = ConvexHull(valid_cs, qhull_options=\"FA\")\n",
    "K.volume"
   ]
  }
 ],
 "metadata": {
  "kernelspec": {
   "display_name": "Python 2",
   "language": "python",
   "name": "python2"
  },
  "language_info": {
   "codemirror_mode": {
    "name": "ipython",
    "version": 2
   },
   "file_extension": ".py",
   "mimetype": "text/x-python",
   "name": "python",
   "nbconvert_exporter": "python",
   "pygments_lexer": "ipython2",
   "version": "2.7.9"
  }
 },
 "nbformat": 4,
 "nbformat_minor": 0
}
