{
 "cells": [
  {
   "cell_type": "code",
   "execution_count": 1,
   "metadata": {
    "collapsed": false
   },
   "outputs": [],
   "source": [
    "import sympy as sp\n",
    "sp.init_printing(use_unicode=False, wrap_line=False)\n",
    "\n",
    "cA,cB,cC,cD = sp.symbols('c_A, c_B, c_C, c_D')\n",
    "k1,k2,k3 = sp.symbols('k_1, k_2, k_3')\n",
    "\n",
    "#3D van de Vusse\n",
    "#k1=1\n",
    "#k2=2\n",
    "#k3=10\n",
    "rA = -k1*cA - 2*k3*(cA**2)\n",
    "rB = k1*cA - k2*cB\n",
    "rC = k2*cB\n",
    "rD = k3*(cA**2)\n",
    "\n",
    "r = sp.Matrix([rA, rB, rC, rD])\n",
    "dr = r.jacobian(sp.Matrix([cA,cB,cC,cD]))\n",
    "\n",
    "A = sp.Matrix([[-1, 0, -2], [1, -1, 0], [0, 1, 0], [0, 0, 1]])\n",
    "N = sp.Matrix((A.T).nullspace())\n",
    "\n",
    "E = sp.Matrix((r, dr*r, dr*dr*r, N))\n",
    "E = sp.simplify(E)\n",
    "E = sp.Matrix(4,4,E)    #what a mission\n",
    "E = E.T\n",
    "\n",
    "det_fn = sp.simplify(E.det());\n"
   ]
  },
  {
   "cell_type": "code",
   "execution_count": 2,
   "metadata": {
    "collapsed": false
   },
   "outputs": [
    {
     "data": {
      "image/png": "[encoded data removed]",
      "text/latex": [
       "$$- \\frac{7 k_{1}}{2} c_{A}^{3} k_{2} k_{3} \\left(2 c_{A} k_{3} + k_{1}\\right) \\left(2 c_{A}^{2} k_{1} k_{3} - 4 c_{A} c_{B} k_{2} k_{3} - c_{A} k_{1} k_{2} - c_{B} k_{1} k_{2} + c_{B} k_{2}^{2}\\right)$$"
      ],
      "text/plain": [
       "      3                               /     2                                                                  2\\ \n",
       "-7*c_A *k_1*k_2*k_3*(2*c_A*k_3 + k_1)*\\2*c_A *k_1*k_3 - 4*c_A*c_B*k_2*k_3 - c_A*k_1*k_2 - c_B*k_1*k_2 + c_B*k_2 / \n",
       "------------------------------------------------------------------------------------------------------------------\n",
       "                                                        2                                                         "
      ]
     },
     "execution_count": 2,
     "metadata": {},
     "output_type": "execute_result"
    }
   ],
   "source": [
    "sp.factor(det_fn)"
   ]
  },
  {
   "cell_type": "code",
   "execution_count": 3,
   "metadata": {
    "collapsed": false
   },
   "outputs": [
    {
     "data": {
      "image/png": "[encoded data removed]",
      "text/latex": [
       "$$\\frac{c_{A} k_{1} \\left(2 c_{A} k_{3} - k_{2}\\right)}{k_{2} \\left(4 c_{A} k_{3} + k_{1} - k_{2}\\right)}$$"
      ],
      "text/plain": [
       " c_A*k_1*(2*c_A*k_3 - k_2) \n",
       "---------------------------\n",
       "k_2*(4*c_A*k_3 + k_1 - k_2)"
      ]
     },
     "execution_count": 3,
     "metadata": {},
     "output_type": "execute_result"
    }
   ],
   "source": [
    "cb_fn = sp.solve(det_fn,cB)[0]\n",
    "cb_fn"
   ]
  },
  {
   "cell_type": "code",
   "execution_count": 4,
   "metadata": {
    "collapsed": false
   },
   "outputs": [
    {
     "data": {
      "image/png": "[encoded data removed]",
      "text/latex": [
       "$$\\left[\\begin{matrix}- 4 c_{A} k_{3} - k_{1} & 0 & 0 & 0\\\\k_{1} & - k_{2} & 0 & 0\\\\0 & k_{2} & 0 & 0\\\\2 c_{A} k_{3} & 0 & 0 & 0\\end{matrix}\\right]$$"
      ],
      "text/plain": [
       "[-4*c_A*k_3 - k_1   0    0  0]\n",
       "[                            ]\n",
       "[      k_1         -k_2  0  0]\n",
       "[                            ]\n",
       "[       0          k_2   0  0]\n",
       "[                            ]\n",
       "[   2*c_A*k_3       0    0  0]"
      ]
     },
     "execution_count": 4,
     "metadata": {},
     "output_type": "execute_result"
    }
   ],
   "source": [
    "dr"
   ]
  },
  {
   "cell_type": "code",
   "execution_count": 5,
   "metadata": {
    "collapsed": false
   },
   "outputs": [
    {
     "data": {
      "image/png": "[encoded data removed]",
      "text/latex": [
       "$$\\frac{c_{A}}{2} - \\frac{1}{40}$$"
      ],
      "text/plain": [
       "c_A   1 \n",
       "--- - --\n",
       " 2    40"
      ]
     },
     "execution_count": 5,
     "metadata": {},
     "output_type": "execute_result"
    }
   ],
   "source": [
    "cb_fn.subs([(k1,1),(k2,1),(k3,10)])"
   ]
  },
  {
   "cell_type": "code",
   "execution_count": 6,
   "metadata": {
    "collapsed": false
   },
   "outputs": [
    {
     "data": {
      "image/png": "[encoded data removed]",
      "text/latex": [
       "$$\\left[\\begin{matrix}\\frac{1}{2}\\\\\\frac{1}{2}\\\\\\frac{1}{2}\\\\1\\end{matrix}\\right]$$"
      ],
      "text/plain": [
       "[1/2]\n",
       "[   ]\n",
       "[1/2]\n",
       "[   ]\n",
       "[1/2]\n",
       "[   ]\n",
       "[ 1 ]"
      ]
     },
     "execution_count": 6,
     "metadata": {},
     "output_type": "execute_result"
    }
   ],
   "source": [
    "N"
   ]
  },
  {
   "cell_type": "code",
   "execution_count": 7,
   "metadata": {
    "collapsed": false
   },
   "outputs": [
    {
     "data": {
      "image/png": "[encoded data removed]",
      "text/latex": [
       "$$\\left[\\begin{matrix}- 4 c_{A} k_{3} - k_{1} & 0 & 0 & 0\\\\k_{1} & - k_{2} & 0 & 0\\\\0 & k_{2} & 0 & 0\\\\2 c_{A} k_{3} & 0 & 0 & 0\\end{matrix}\\right]$$"
      ],
      "text/plain": [
       "[-4*c_A*k_3 - k_1   0    0  0]\n",
       "[                            ]\n",
       "[      k_1         -k_2  0  0]\n",
       "[                            ]\n",
       "[       0          k_2   0  0]\n",
       "[                            ]\n",
       "[   2*c_A*k_3       0    0  0]"
      ]
     },
     "execution_count": 7,
     "metadata": {},
     "output_type": "execute_result"
    }
   ],
   "source": [
    "dr"
   ]
  },
  {
   "cell_type": "code",
   "execution_count": 8,
   "metadata": {
    "collapsed": false
   },
   "outputs": [
    {
     "data": {
      "image/png": "[encoded data removed]",
      "text/latex": [
       "$$35 c_{A}^{3} \\left(- 400 c_{A}^{3} + 800 c_{A}^{2} c_{B} + 40 c_{A} c_{B} + c_{A}\\right)$$"
      ],
      "text/plain": [
       "      3 /         3          2                       \\\n",
       "35*c_A *\\- 400*c_A  + 800*c_A *c_B + 40*c_A*c_B + c_A/"
      ]
     },
     "execution_count": 8,
     "metadata": {},
     "output_type": "execute_result"
    }
   ],
   "source": [
    "det_fn.subs([(k1,1),(k2,1),(k3,10)])"
   ]
  }
 ],
 "metadata": {
  "kernelspec": {
   "display_name": "Python 2",
   "language": "python",
   "name": "python2"
  },
  "language_info": {
   "codemirror_mode": {
    "name": "ipython",
    "version": 2
   },
   "file_extension": ".py",
   "mimetype": "text/x-python",
   "name": "python",
   "nbconvert_exporter": "python",
   "pygments_lexer": "ipython2",
   "version": "2.7.10"
  }
 },
 "nbformat": 4,
 "nbformat_minor": 0
}
