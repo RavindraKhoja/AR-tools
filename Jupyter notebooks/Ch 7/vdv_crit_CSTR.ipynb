{
 "cells": [
  {
   "cell_type": "markdown",
   "metadata": {},
   "source": [
    "#Critical CSTR for 3D Van de Vusse kinetics\n",
    "\n",
    "##Python imports\n",
    "We shall use the `Sympy` package to perform the symbolic computations."
   ]
  },
  {
   "cell_type": "code",
   "execution_count": 1,
   "metadata": {
    "collapsed": false
   },
   "outputs": [],
   "source": [
    "import sympy\n",
    "sympy.init_printing(use_unicode=False, wrap_line=False)"
   ]
  },
  {
   "cell_type": "markdown",
   "metadata": {},
   "source": [
    "##Define Sympy symbols, kinetics and DSR mixing point"
   ]
  },
  {
   "cell_type": "code",
   "execution_count": 2,
   "metadata": {
    "collapsed": false
   },
   "outputs": [
    {
     "data": {
      "image/png": "[encoded data removed]",
      "text/latex": [
       "$$\\left[\\begin{matrix}-1.0 & 0.0 & -2.0\\\\1.0 & -1.0 & 0.0\\\\0.0 & 1.0 & 0.0\\\\0.0 & 0.0 & 1.0\\end{matrix}\\right]$$"
      ],
      "text/plain": [
       "[-1.0  0.0   -2.0]\n",
       "[                ]\n",
       "[1.0   -1.0  0.0 ]\n",
       "[                ]\n",
       "[0.0   1.0   0.0 ]\n",
       "[                ]\n",
       "[0.0   0.0   1.0 ]"
      ]
     },
     "execution_count": 2,
     "metadata": {},
     "output_type": "execute_result"
    }
   ],
   "source": [
    "cA,cB,cC,cD = sympy.symbols('c_A, c_B, c_C, c_D')\n",
    "k1,k2,k3 = sympy.symbols('k1, k2, k3')\n",
    "\n",
    "##VDV kinetics\n",
    "#k1=1;\n",
    "#k2=1;\n",
    "#k3=10;\n",
    "\n",
    "rA = -k1*cA - 2.0*k3*cA**2\n",
    "rB = k1*cA - k2*cB\n",
    "rC = k2*cB\n",
    "rD = k3*cA**2\n",
    "\n",
    "r = sympy.Matrix([rA, rB, rC, rD])\n",
    "A_bar = sympy.Matrix([[-1., 1., 0., 0.], \n",
    "                      [0., -1., 1., 0.], \n",
    "                      [-2., 0., 0., 1.]]).T\n",
    "\n",
    "A_bar"
   ]
  },
  {
   "cell_type": "code",
   "execution_count": 3,
   "metadata": {
    "collapsed": false
   },
   "outputs": [
    {
     "data": {
      "image/png": "[encoded data removed]",
      "text/latex": [
       "$$\\left [ \\left[\\begin{matrix}0.5\\\\0.5\\\\0.5\\\\1\\end{matrix}\\right]\\right ]$$"
      ],
      "text/plain": [
       "[[0.5]]\n",
       " [   ] \n",
       " [0.5] \n",
       " [   ] \n",
       " [0.5] \n",
       " [   ] \n",
       " [ 1 ] "
      ]
     },
     "execution_count": 3,
     "metadata": {},
     "output_type": "execute_result"
    }
   ],
   "source": [
    "J = r.jacobian(sympy.Matrix([cA,cB,cC,cD]))\n",
    "N = (A_bar.T).nullspace()\n",
    "N"
   ]
  },
  {
   "cell_type": "code",
   "execution_count": 4,
   "metadata": {
    "collapsed": false
   },
   "outputs": [
    {
     "data": {
      "image/png": "[encoded data removed]",
      "text/latex": [
       "$$\\left[\\begin{matrix}- c_{A} \\left(2.0 c_{A} k_{3} + k_{1}\\right) & c_{A} \\left(2.0 c_{A} k_{3} + k_{1}\\right) \\left(4.0 c_{A} k_{3} + k_{1}\\right) & - c_{A} \\left(2.0 c_{A} k_{3} + k_{1}\\right) \\left(4.0 c_{A} k_{3} + k_{1}\\right)^{2} & 0.5\\\\c_{A} k_{1} - c_{B} k_{2} & - c_{A} k_{1} \\left(2.0 c_{A} k_{3} + k_{1}\\right) - k_{2} \\left(c_{A} k_{1} - c_{B} k_{2}\\right) & c_{A} k_{1} \\left(2.0 c_{A} k_{3} + k_{1}\\right) \\left(4.0 c_{A} k_{3} + k_{1} + k_{2}\\right) + k_{2}^{2} \\left(c_{A} k_{1} - c_{B} k_{2}\\right) & 0.5\\\\c_{B} k_{2} & k_{2} \\left(c_{A} k_{1} - c_{B} k_{2}\\right) & k_{2} \\left(- c_{A} k_{1} \\left(2.0 c_{A} k_{3} + k_{1}\\right) + k_{2} \\left(- c_{A} k_{1} + c_{B} k_{2}\\right)\\right) & 0.5\\\\c_{A}^{2} k_{3} & - 2 c_{A}^{2} k_{3} \\left(2.0 c_{A} k_{3} + k_{1}\\right) & 2 c_{A}^{2} k_{3} \\left(2.0 c_{A} k_{3} + k_{1}\\right) \\left(4.0 c_{A} k_{3} + k_{1}\\right) & 1\\end{matrix}\\right]$$"
      ],
      "text/plain": [
       "[                                                                                                                                 2                    ]\n",
       "[-c_A*(2.0*c_A*k3 + k1)      c_A*(2.0*c_A*k3 + k1)*(4.0*c_A*k3 + k1)                      -c_A*(2.0*c_A*k3 + k1)*(4.0*c_A*k3 + k1)                  0.5]\n",
       "[                                                                                                                                                      ]\n",
       "[                                                                                                                              2                       ]\n",
       "[   c_A*k1 - c_B*k2      -c_A*k1*(2.0*c_A*k3 + k1) - k2*(c_A*k1 - c_B*k2)  c_A*k1*(2.0*c_A*k3 + k1)*(4.0*c_A*k3 + k1 + k2) + k2 *(c_A*k1 - c_B*k2)  0.5]\n",
       "[                                                                                                                                                      ]\n",
       "[        c_B*k2                        k2*(c_A*k1 - c_B*k2)                        k2*(-c_A*k1*(2.0*c_A*k3 + k1) + k2*(-c_A*k1 + c_B*k2))           0.5]\n",
       "[                                                                                                                                                      ]\n",
       "[          2                             2                                                   2                                                         ]\n",
       "[       c_A *k3                    -2*c_A *k3*(2.0*c_A*k3 + k1)                         2*c_A *k3*(2.0*c_A*k3 + k1)*(4.0*c_A*k3 + k1)                1 ]"
      ]
     },
     "execution_count": 4,
     "metadata": {},
     "output_type": "execute_result"
    }
   ],
   "source": [
    "D = sympy.Matrix([r, J*r, J*J*r,N[0]])\n",
    "D = sympy.simplify(sympy.Matrix(4,4,D).T)\n",
    "D"
   ]
  },
  {
   "cell_type": "code",
   "execution_count": 5,
   "metadata": {
    "collapsed": false
   },
   "outputs": [
    {
     "data": {
      "image/png": "[encoded data removed]",
      "text/latex": [
       "$$7.0 c_{A}^{3} k_{1} k_{2} k_{3} \\left(1.0 c_{A} k_{3} + 0.5 k_{1}\\right) \\left(- 1.0 c_{A}^{2} k_{1} k_{3} + 2.0 c_{A} c_{B} k_{2} k_{3} + 0.5 c_{A} k_{1} k_{2} + 0.5 c_{B} k_{1} k_{2} - 0.5 c_{B} k_{2}^{2}\\right)$$"
      ],
      "text/plain": [
       "       3                                /            2                                                                          2\\\n",
       "7.0*c_A *k1*k2*k3*(1.0*c_A*k3 + 0.5*k1)*\\- - -1.0*c_A *k1*k3 + 2.0*c_A*c_B*k2*k3 + 0.5*c_A*k1*k2 + 0.5*c_B*k1*k2 - - -0.5*c_B*k2 /"
      ]
     },
     "execution_count": 5,
     "metadata": {},
     "output_type": "execute_result"
    }
   ],
   "source": [
    "#det of a 4x4 matrix\n",
    "det_fn = sympy.factor(D.det())\n",
    "det_fn"
   ]
  },
  {
   "cell_type": "code",
   "execution_count": 8,
   "metadata": {
    "collapsed": false
   },
   "outputs": [
    {
     "name": "stdout",
     "output_type": "stream",
     "text": [
      "c_A = Symbol('c_A')\n",
      "k1 = Symbol('k1')\n",
      "k2 = Symbol('k2')\n",
      "k3 = Symbol('k3')\n",
      "c_B = Symbol('c_B')\n",
      "e = 7.0*c_A**3*k1*k2*k3*(1.0*c_A*k3 + 0.5*k1)*(-1.0*c_A**2*k1*k3 + 2.0*c_A*c_B*k2*k3 + 0.5*c_A*k1*k2 + 0.5*c_B*k1*k2 - 0.5*c_B*k2**2)\n"
     ]
    }
   ],
   "source": [
    "expr_str = sympy.python(det_fn)\n",
    "#expr_str = expr_str.replace(\"**\",\"^\")\n",
    "expr_str = expr_str.replace(\"Float('\",\"\")\n",
    "expr_str = expr_str.replace(\"', prec=15)\",\"\")\n",
    "expr_str = expr_str.replace(\"Rational\",\"\")\n",
    "expr_str = expr_str.replace(\", \",\"/\")\n",
    "#expr_str = expr_str.replace(\"c_A\", \"C(1)\")\n",
    "#expr_str = expr_str.replace(\"c_B\", \"C(2)\")\n",
    "\n",
    "print expr_str"
   ]
  },
  {
   "cell_type": "markdown",
   "metadata": {},
   "source": [
    "##Convert to MATLAB expression if needed"
   ]
  },
  {
   "cell_type": "code",
   "execution_count": 7,
   "metadata": {
    "collapsed": false
   },
   "outputs": [
    {
     "name": "stdout",
     "output_type": "stream",
     "text": [
      "C(1) = Symbol('C(1)')\n",
      "k1 = Symbol('k1')\n",
      "k2 = Symbol('k2')\n",
      "k3 = Symbol('k3')\n",
      "C(2) = Symbol('C(2)')\n",
      "e = 7.0*C(1)^3*k1*k2*k3*(1.0*C(1)*k3 + 0.5*k1)*(-1.0*C(1)^2*k1*k3 + 2.0*C(1)*C(2)*k2*k3 + 0.5*C(1)*k1*k2 + 0.5*C(2)*k1*k2 - 0.5*C(2)*k2^2)\n"
     ]
    }
   ],
   "source": [
    "expr_str = sympy.python(det_fn)\n",
    "expr_str = expr_str.replace(\"**\",\"^\")\n",
    "expr_str = expr_str.replace(\"Float('\",\"\")\n",
    "expr_str = expr_str.replace(\"', prec=15)\",\"\")\n",
    "expr_str = expr_str.replace(\"Rational\",\"\")\n",
    "expr_str = expr_str.replace(\", \",\"/\")\n",
    "expr_str = expr_str.replace(\"c_A\", \"C(1)\")\n",
    "expr_str = expr_str.replace(\"c_B\", \"C(2)\")\n",
    "\n",
    "print expr_str"
   ]
  }
 ],
 "metadata": {
  "kernelspec": {
   "display_name": "Python 2",
   "language": "python",
   "name": "python2"
  },
  "language_info": {
   "codemirror_mode": {
    "name": "ipython",
    "version": 2
   },
   "file_extension": ".py",
   "mimetype": "text/x-python",
   "name": "python",
   "nbconvert_exporter": "python",
   "pygments_lexer": "ipython2",
   "version": "2.7.10"
  }
 },
 "nbformat": 4,
 "nbformat_minor": 0
}
