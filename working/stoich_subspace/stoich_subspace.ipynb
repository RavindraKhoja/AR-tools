{
 "cells": [
  {
   "cell_type": "markdown",
   "metadata": {},
   "source": [
    "### Find the vertices of the `stoich_subspace()` "
   ]
  },
  {
   "cell_type": "markdown",
   "metadata": {},
   "source": [
    "The stoichiometric subspace is a region in concentration space wherein all feasible concentrations must lie.  It forms the upper bounds in concentration space in which the true attainable region must reside. The feed point $ C_f $ always forms one bound of the set concentrations achievable in state space from which the stoichiometric subspace originates. The set of concentrations in this space must obey reaction stoichiometry. As a result, not all concentrations in the stoichiometric subspace will be \"practically achievable\". Thus, the stoichiometric subspace is typically much larger than the set of 'attainable' points. For $ n $ components participating in $ d $ reactions, the true AR must reside in a d-dimensional subspace in $ ℝ^n $. It follows that the dimension $ d $, is the number of linearly independent reactions $ {rank(A)} $ present in the system. \n",
    "\n",
    "For any specified feed vector $ C_f $ and extent of reaction $ \\varepsilon $, the set of stoichiometrically compatible concentrations must lie within a region spanned by the feed vector and stoichiometric coefficient vector $ A $ in concentration space. As a consequence of the physical meaning of achievable concentrations, mass balance and non-negativity constraints are imposed, further restricting the set of physically attainable concentrations. This implies that every point $ c_i $ within the stoichiometric subspace must reside in the positive orthant of the 'real' concentration space. Furthermore, it must be stoichiometrically compatible with the given reaction stoichiometry. \n",
    "\n",
    "The stoichiometric subspace is denoted by the letter $ S $ and it obeys the following vector equation parameterized by the extent of reaction;\n",
    "\n",
    "$ {C = C_f + A\\varepsilon} $\n",
    "\n",
    "Where;\n",
    "\n",
    "$ C_f $ : feed vector\n",
    "    \n",
    "$ A $ : stoichiometric coefficient A, with the size $ {n x d} $\n",
    "    \n",
    "$ \\varepsilon $ : extent vector corresponding to each reaction taking part in the system\n",
    "\n",
    "Computing the stoichiometric subspace for a single feed is done by identifying the bounding constraints in extent space that form the stoichiometric subspace. Vertex enumeration is employed to find the extreme vertices in extent space that constitute the feasible region. Hence, we find the vertices of the convex polytope, $ S $, in $ ℝ^n $ i.e. by computing the convex hull of the stoichiometric subspace polytope described by the following inequality constraints;\n",
    "\n",
    "$ {C_f + A\\varepsilon \\geq 0 } $\n",
    "\n",
    "The ` con2vert()` function in the `artools package` is deployed in solving the vertex enumeration problem. Since the stoichiometric subspace is a function of both the reaction stoichiometry and the feed point, the shape of the stoichiometric subspace will change if the feed point is changed. This implies that every feed point has an associated stoichiometric subspace, $ S $. Hence, it can be deduced that; the set of concentrations belonging to the overall stoichiometric subspace, $ S_{tot} $, may be found by computing convex hull of the individual stoichiometric subspaces;\n",
    "\n",
    "$ S_{tot} = conv ({S_1, S_2, S_3, ..., S_N}) $ \n",
    "\n",
    "Mixing between individual stoichiometric subspaces increases the dimension of the overall stoichiometric subspace. Hence, in systems with multiple feeds, the dimension of the AR exceeds the number of independent reactions. "
   ]
  },
  {
   "cell_type": "markdown",
   "metadata": {},
   "source": [
    "### Imports"
   ]
  },
  {
   "cell_type": "code",
   "execution_count": 1,
   "metadata": {
    "collapsed": false
   },
   "outputs": [],
   "source": [
    "import scipy as sp\n",
    "import scipy.integrate\n",
    "import matplotlib.pyplot as plt\n",
    "from scipy import linalg\n",
    "from mpl_toolkits.mplot3d import Axes3D\n",
    "from scipy.spatial import ConvexHull\n",
    "from __future__ import division\n",
    "\n",
    "%matplotlib inline"
   ]
  },
  {
   "cell_type": "code",
   "execution_count": 2,
   "metadata": {
    "collapsed": true
   },
   "outputs": [],
   "source": [
    "import sys\n",
    "sys.path.append('../artools/')\n",
    "import artools\n",
    "artools = reload(artools)"
   ]
  },
  {
   "cell_type": "markdown",
   "metadata": {},
   "source": [
    "### Define `stoich_subspace()`"
   ]
  },
  {
   "cell_type": "code",
   "execution_count": null,
   "metadata": {
    "collapsed": false
   },
   "outputs": [],
   "source": [
    "def stoich_subspace(Cf0s, stoich_mat):\n",
    "    \"\"\" Compute the bounds of the stoichiometric subspace, S, from multiple feed points\n",
    "    and a stoichoimetric coefficient matrix.\n",
    "\n",
    "    Parameters:\n",
    "        stoich_mat  (n x d) array. Each row in stoich_mat corresponds to a component\n",
    "                    and each column corresponds to a reaction.\n",
    "        Cf0s        (M x n) matrix. Each row in Cf0s corresponds to an individual \n",
    "                    feed and each column corresponds to a component.\n",
    "\n",
    "    Returns:\n",
    "        stoichSubspace_attributes   dictionary that contains the vertices stoichiometric \n",
    "                                    subspace in extent and concentration space for individual \n",
    "                                    feeds as well as overall stoichiometric subspace for multiple\n",
    "                                    feeds.                         \n",
    "        keys:\n",
    "        \n",
    "        all_Es      The vertices of individual stoichiometric subspaces in extent space.\n",
    "        \n",
    "        all_Cs      The vertices of individual stoichiometric subspaces in concentration space.\n",
    "        \n",
    "        all_Es_mat  list of vertices of the overall stoichiometric subspace in extent space.\n",
    "        \n",
    "        all_Cs_mat  list of vertices of the overall stoichiometric subspace in concentration space.\n",
    "        \n",
    "        hull_Es     extreme vertices of the overall stoichiometric subspace in the extent space.              \n",
    "        \n",
    "        hull_Cs     extreme vertices of the overall stoichiometric subspace in concentration space.\n",
    "\n",
    "    \"\"\"\n",
    "    \n",
    "    # to store stoichSubspace_attributes\n",
    "    stoichCoeff_attributes = {}\n",
    "    \n",
    "    # to store vertices for each feed and stoich_mat in extent and concentration space  \n",
    "    all_Es = []\n",
    "    all_Cs = []\n",
    "    \n",
    "    # if user input is not a list, then convert into a list \n",
    "    if not isinstance(Cf0s, list) and not Cf0s.shape[0] > 1 and not Cf0s.shape[1] > 1:\n",
    "        # put it in a list \n",
    "        Cf0s = [Cf0s]\n",
    "    \n",
    "    for Cf0 in Cf0s:\n",
    "        # loop through each feed point, Cf0, and check if it is a column vector \n",
    "        # with ndim=2, or a (L,) array with ndim=1 only\n",
    "        if Cf0.ndim == 2:\n",
    "            Cf0 = Cf0.flatten() # converts into (L,)\n",
    "                 \n",
    "        # always treat stoich_mat as a matrix for consistency, convert if not\n",
    "        if stoich_mat.ndim == 1: \n",
    "            # converts a 'single rxn' row into column vector  \n",
    "            stoich_mat = stoich_mat.reshape((len(stoich_mat), 1))\n",
    "            \n",
    "        # raise an error if the no. of components is inconsistent between the feed and stoichiometric matrix\n",
    "        if len(Cf0) != stoich_mat.shape[0]:\n",
    "            raise Exception(\"The number of components in the feed does not match the number of rows in the stoichiometric matrix.\") \n",
    "\n",
    "        # check if  a single reaction or multiple reactions are occuring  \n",
    "        if stoich_mat.shape[1] == 1: \n",
    "            # if stoich_mat is (L,) array this'stoich_mat.shape[1]' raises an error 'tuple out of range'  \n",
    "            \n",
    "            # converts into (L,)\n",
    "            stoich_mat = stoich_mat.flatten()\n",
    "\n",
    "            # calculate the limiting requirements\n",
    "            limiting = Cf0/ stoich_mat\n",
    "\n",
    "            # only choose negative coefficients as these indicate reactants\n",
    "            k = limiting < 0.0\n",
    "\n",
    "            # calc maximum extent based on limiting reactant and calc C\n",
    "            # we take max() because of the negative convention of the limiting requirements \n",
    "            e_max = sp.fabs(max(limiting[k]))\n",
    "            \n",
    "            # calc the corresponding point in concentration space \n",
    "            C = Cf0 + stoich_mat*e_max\n",
    "\n",
    "            # form Cs and Es and return\n",
    "            Cs = sp.vstack([Cf0, C])\n",
    "            Es = sp.array([[0., e_max]]).T\n",
    "\n",
    "        else:\n",
    "            # extent associated with each feed vector\n",
    "            Es = artools.con2vert(- stoich_mat, Cf0) \n",
    "            \n",
    "            # calc the corresponding point in concentration space\n",
    "            Cs = (Cf0[:, None] + sp.dot(stoich_mat, Es.T)).T \n",
    "\n",
    "        # vertices for each feed and stoich_mat in extent and concentration space\n",
    "        all_Es.append(Es) \n",
    "        all_Cs.append(Cs)\n",
    "\n",
    "        # stack vertices in one list and find the overall stoichiometric subspace(convex hull) \n",
    "        all_Es_mat = sp.vstack(all_Es)\n",
    "        all_Cs_mat = sp.vstack(all_Cs)\n",
    "    \n",
    "    # compute the convexhull of the overall stoichiometric subspace \n",
    "    # if n > d + 1, then hull_Cs is returned as the full list of vertices \n",
    "    if len(Cf0) > artools.rank(stoich_mat) + 1:\n",
    "        # convexHull vertices are returned as the whole stack of points\n",
    "        hull_Es = all_Es_mat\n",
    "        hull_Cs = all_Cs_mat\n",
    "    else:\n",
    "        # convexHull vertices for the overall stoichiometric subspace in extent space         \n",
    "        hull_all = ConvexHull(all_Es_mat)\n",
    "        ks = hull_all.vertices\n",
    "        hull_Es = all_Es_mat[ks, :]\n",
    "\n",
    "        # convexHull vertices for the overall stoichiometric subspace in concentration space\n",
    "        hull_all = ConvexHull(all_Cs_mat)\n",
    "        ks = hull_all.vertices\n",
    "        hull_Cs = all_Cs_mat[ks, :] \n",
    "\n",
    "    # create a dictionary containing all the 'attributes' of the 'stoich_subspace'\n",
    "    stoichCoeff_attributes = {\n",
    "        'all_Es' : all_Es,\n",
    "        'all_Cs' : all_Cs,\n",
    "        'all_Es_mat' : all_Es_mat,\n",
    "        'all_Cs_mat' : all_Cs_mat,\n",
    "        'hull_Es' : hull_Es,\n",
    "        'hull_Cs' : hull_Cs\n",
    "}\n",
    "        \n",
    "    return stoichCoeff_attributes"
   ]
  },
  {
   "cell_type": "markdown",
   "metadata": {},
   "source": [
    "## Check to see that dimension exception gets raised\n",
    "\n",
    "The following example should raise an exception as the number of components in the feed does not match the number of rows in the stoichiometric matrix"
   ]
  },
  {
   "cell_type": "code",
   "execution_count": null,
   "metadata": {
    "collapsed": false,
    "scrolled": true
   },
   "outputs": [],
   "source": [
    "stoich_mat = sp.array([[-1, 1, 0, 0], [0, -1, 1, 0], [-2, 0, 0, 1]]).T\n",
    "\n",
    "# feed vectors are only three components long\n",
    "Cf1 = sp.array([1, 0, 0])\n",
    "Cf2 = sp.array([1.5, 0.1, 0])\n",
    "Cf3 = sp.array([0.5, 0.5, 0.5])\n",
    "Cf0s = [Cf1, Cf2, Cf3]\n",
    "\n",
    "stoichMat_attributes = stoich_subspace(Cf0s, stoich_mat)\n",
    "stoichMat_attributes['all_Cs']"
   ]
  },
  {
   "cell_type": "markdown",
   "metadata": {},
   "source": [
    "### Supply a list of 1D numpy arrays in `Cf0s` "
   ]
  },
  {
   "cell_type": "code",
   "execution_count": 5,
   "metadata": {
    "collapsed": false
   },
   "outputs": [
    {
     "name": "stderr",
     "output_type": "stream",
     "text": [
      "C:\\Anaconda2\\lib\\site-packages\\matplotlib\\collections.py:590: FutureWarning: elementwise comparison failed; returning scalar instead, but in the future will perform elementwise comparison\n",
      "  if self._edgecolors == str('face'):\n"
     ]
    }
   ],
   "source": [
    "stoich_mat = sp.array([[-1, 1, 0, 0], [0, -1, 1, 0], [-2, 0, 0, 1]]).T\n",
    "\n",
    "Cf1 = sp.array([1., 0, 0, 0])\n",
    "Cf2 = sp.array([1.5, 0.1, 0, 0])\n",
    "Cf3 = sp.array([0.5, 0.5, 0.5, 0.5])\n",
    "Cf0s = [Cf1, Cf2, Cf3]\n",
    "\n",
    "stoichMat_attributes = stoich_subspace(Cf0s, stoich_mat)\n",
    "tmp_Cs = stoichMat_attributes['all_Cs_mat']\n",
    "tmp_hull_Cs = stoichMat_attributes['hull_Cs']\n",
    "\n",
    "%matplotlib qt\n",
    "fig4 = plt.figure(figsize=(7, 7))\n",
    "ax4 = fig4.gca(projection = '3d')\n",
    "\n",
    "# plot points\n",
    "plt.plot( tmp_Cs[:, 0], tmp_Cs[:, 1], tmp_Cs[:, 2], 'k.')\n",
    "\n",
    "#plot hull_points\n",
    "ax4.plot(tmp_hull_Cs[:, 0], tmp_hull_Cs[:, 1], tmp_hull_Cs[:, 2], 'rx')\n",
    "\n",
    "ax4.set_xlabel('cA (mol/ L)')\n",
    "ax4.set_ylabel('cB (mol/ L)')\n",
    "ax4.set_ylabel('cC (mol/ L)')\n",
    "ax4.set_title('List of 1D numpy arrays in Cf0s')\n",
    "\n",
    "plt.show(fig4)\n"
   ]
  },
  {
   "cell_type": "markdown",
   "metadata": {},
   "source": [
    "## Try when `Cf0s` is now a matrix of feeds (each row is a different feed)"
   ]
  },
  {
   "cell_type": "code",
   "execution_count": null,
   "metadata": {
    "collapsed": false,
    "scrolled": true
   },
   "outputs": [],
   "source": [
    "Cf0s = sp.vstack([Cf1, Cf2, Cf3])\n",
    "\n",
    "stoichMat_attributes = stoich_subspace(Cf0s, stoich_mat)\n",
    "stoichMat_attributes['hull_Cs']"
   ]
  },
  {
   "cell_type": "markdown",
   "metadata": {},
   "source": [
    "## Now try to do single reactions"
   ]
  },
  {
   "cell_type": "code",
   "execution_count": null,
   "metadata": {
    "collapsed": false,
    "scrolled": true
   },
   "outputs": [],
   "source": [
    "stoich_mat = sp.array([-1., -2, 3, 1])\n",
    "\n",
    "Cf1 = sp.array([1., 0, 0, 0])\n",
    "Cf2 = sp.array([1.5, 0.1, 0, 0])\n",
    "Cf3 = sp.array([0.5, 0.5, 0.5, 0.5])\n",
    "Cf0s = sp.vstack([Cf1, Cf2, Cf3])\n",
    "\n",
    "stoich_subspace(Cf0s, stoich_mat)"
   ]
  },
  {
   "cell_type": "markdown",
   "metadata": {
    "collapsed": true
   },
   "source": [
    "### Test 3 components participating in 2 reactions "
   ]
  },
  {
   "cell_type": "code",
   "execution_count": null,
   "metadata": {
    "collapsed": false
   },
   "outputs": [],
   "source": [
    "stoich_mat =sp.array([[-1, -1, 1], [-2, 0, 1]]).T\n",
    "\n",
    "Cf1 = sp.array([1., 1., 0.])\n",
    "Cf2 = sp.array([1., 1., 0.2])\n",
    "Cf3 = sp.array([0.5, 0.5, 0.])\n",
    "Cf0s = [Cf1, Cf2, Cf3]\n",
    "\n",
    "stoichMat_attributes = stoich_subspace(Cf0s, stoich_mat)\n",
    "tmp_Cs = stoichMat_attributes['all_Cs_mat']\n",
    "tmp_hull_Cs = stoichMat_attributes['hull_Cs']\n",
    "\n",
    "%matplotlib qt\n",
    "fig1 = plt.figure(figsize=(7, 7))\n",
    "ax1 = fig1.gca(projection = '3d')\n",
    "\n",
    "# plot points\n",
    "plt.plot( tmp_Cs[:, 0], tmp_Cs[:, 1], tmp_Cs[:, 2], 'k.')\n",
    "\n",
    "#plot hull_points\n",
    "ax1.plot(tmp_hull_Cs[:, 0], tmp_hull_Cs[:, 1], tmp_hull_Cs[:, 2], 'rx')\n",
    "\n",
    "ax1.set_xlabel('cA (mol/ L)')\n",
    "ax1.set_ylabel('cB (mol/ L)')\n",
    "ax1.set_ylabel('cC (mol/ L)')\n",
    "ax1.set_title('2 reaction, 3 component system')\n",
    "\n",
    "plt.show(fig1)"
   ]
  },
  {
   "cell_type": "markdown",
   "metadata": {},
   "source": [
    "### Plot 4 components participating in 3 reactions "
   ]
  },
  {
   "cell_type": "code",
   "execution_count": null,
   "metadata": {
    "collapsed": false
   },
   "outputs": [],
   "source": [
    "stoich_mat =sp.array([[-1, 1, 0, 0], [0, -1, 1, 0], [-2, 0, 0, 1]]).T\n",
    "\n",
    "Cf1 = sp.array([1., 0., 0., 0.])\n",
    "Cf2 = sp.array([1., 1., 1., 1.])\n",
    "Cf3 = sp.array([0.5, 0.5, 1., 0.])\n",
    "Cf0s = [Cf1, Cf2, Cf3]\n",
    "\n",
    "stoichMat_attributes = stoich_subspace(Cf0s, stoich_mat)\n",
    "tmp_Cs = stoichMat_attributes['all_Cs_mat']\n",
    "tmp_hull_Cs = stoichMat_attributes['hull_Cs']\n",
    "\n",
    "%matplotlib qt\n",
    "fig2 = plt.figure(figsize=(7, 7))\n",
    "ax2 = fig2.gca(projection = '3d')\n",
    "\n",
    "# plot points\n",
    "plt.plot( tmp_Cs[:, 0], tmp_Cs[:, 1], tmp_Cs[:, 2], 'k.')\n",
    "\n",
    "#plot hull_points\n",
    "ax2.plot(tmp_hull_Cs[:, 0], tmp_hull_Cs[:, 1], tmp_hull_Cs[:, 2], 'rx')\n",
    "\n",
    "ax2.set_xlabel('cA (mol/ L)')\n",
    "ax2.set_ylabel('cB (mol/ L)')\n",
    "ax2.set_ylabel('cC (mol/ L)')\n",
    "ax2.set_title('3 reaction, 4 component system')\n",
    "\n",
    "plt.show(fig2)"
   ]
  },
  {
   "cell_type": "markdown",
   "metadata": {},
   "source": [
    "### Try reaction system where n > d+1, with multiple feeds\n",
    "\n",
    "eg. Water gas shift reaction system "
   ]
  },
  {
   "cell_type": "code",
   "execution_count": null,
   "metadata": {
    "collapsed": false
   },
   "outputs": [],
   "source": [
    "stoich_mat =sp.array([[-1, -1, 1, 1, 0, 0], [0, 1, 0, -1, 1, -1]]).T\n",
    "\n",
    "Cf1 = sp.array([1., 1., 0., 1., 1., 0.])\n",
    "Cf2 = sp.array([0.5, 0.5, 1., 0.5, 0.5, 1.])\n",
    "Cf3 = sp.array([2., 2., 0.1, 1., 1., 0.1])\n",
    "Cf4 = sp.array([1.5, 2., 0., 0., 1., 1.5])\n",
    "Cf5 = sp.array([0.1, 0., 1., 0.5, 0.5, 0.01])\n",
    "Cf6 = sp.array([0.01, 0.01, 1., 0.01, 0.01, 1.])\n",
    "Cf0s = [Cf1, Cf2, Cf3, Cf4, Cf5, Cf6]\n",
    "\n",
    "stoichMat_attributes = stoich_subspace(Cf0s, stoich_mat)\n",
    "tmp_Cs = stoichMat_attributes['all_Cs_mat']\n",
    "tmp_hull_Cs = stoichMat_attributes['hull_Cs']\n",
    "\n",
    "%matplotlib qt\n",
    "fig3 = plt.figure(figsize=(7, 7))\n",
    "ax3 = fig3.gca(projection = '3d')\n",
    "\n",
    "# plot points\n",
    "plt.plot( tmp_Cs[:, 0], tmp_Cs[:, 1], tmp_Cs[:, 2], 'k.')\n",
    "\n",
    "#plot hull_points\n",
    "ax3.plot(tmp_hull_Cs[:, 0], tmp_hull_Cs[:, 1], tmp_hull_Cs[:, 2], 'rx')\n",
    "\n",
    "ax3.set_xlabel('cA (mol/ L)')\n",
    "ax3.set_ylabel('cB (mol/ L)')\n",
    "ax3.set_ylabel('cC (mol/ L)')\n",
    "ax3.set_title('n > d+1')\n",
    "\n",
    "plt.show(fig3)"
   ]
  },
  {
   "cell_type": "code",
   "execution_count": null,
   "metadata": {
    "collapsed": true
   },
   "outputs": [],
   "source": []
  },
  {
   "cell_type": "code",
   "execution_count": null,
   "metadata": {
    "collapsed": true
   },
   "outputs": [],
   "source": []
  }
 ],
 "metadata": {
  "kernelspec": {
   "display_name": "Python 2",
   "language": "python",
   "name": "python2"
  },
  "language_info": {
   "codemirror_mode": {
    "name": "ipython",
    "version": 2
   },
   "file_extension": ".py",
   "mimetype": "text/x-python",
   "name": "python",
   "nbconvert_exporter": "python",
   "pygments_lexer": "ipython2",
   "version": "2.7.10"
  }
 },
 "nbformat": 4,
 "nbformat_minor": 0
}
