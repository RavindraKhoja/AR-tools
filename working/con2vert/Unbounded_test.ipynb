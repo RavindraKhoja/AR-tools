{
 "cells": [
  {
   "cell_type": "code",
   "execution_count": 1,
   "metadata": {
    "collapsed": true
   },
   "outputs": [],
   "source": [
    "import sys\n",
    "sys.path.append('../../artools')\n",
    "import artools\n",
    "artools = reload(artools)\n",
    "\n",
    "import scipy as sp\n",
    "import scipy.integrate\n",
    "import matplotlib.pyplot as plt\n",
    "from scipy import linalg\n",
    "from mpl_toolkits.mplot3d import Axes3D\n",
    "from scipy.spatial import ConvexHull\n",
    "import scipy.optimize"
   ]
  },
  {
   "cell_type": "markdown",
   "metadata": {},
   "source": [
    "## Unbounded test\n",
    "\n",
    "Set up an constraints for an unbounded region"
   ]
  },
  {
   "cell_type": "code",
   "execution_count": 30,
   "metadata": {
    "collapsed": false
   },
   "outputs": [],
   "source": [
    "# test system 1\n",
    "#A = sp.array([[-1., 0],\n",
    "#              [0, -1]])\n",
    "#b = sp.array([0.0, 0.0])\n",
    "\n",
    "# test system 2\n",
    "#A = sp.array([[-1., 0],\n",
    "#              [0, -1],\n",
    "#              [0, 1]])\n",
    "#b = sp.array([0., 0, 0.5])\n",
    "\n",
    "# test system 3\n",
    "#A = sp.array([[-1., 0],\n",
    "#              [0, -1],\n",
    "#              [1, 0]])\n",
    "#b = sp.array([0., 0, 1])\n",
    "\n",
    "# test system 4\n",
    "A = sp.array([[-1., 0],\n",
    "              [0, -1],\n",
    "              [-1, 1],\n",
    "              [1, -1]])\n",
    "b = sp.array([0., 0, 0.5, 0.5])\n",
    "\n",
    "# test system 5 (similar to test 4, but in negative space)\n",
    "#A = sp.array([[1., 0],\n",
    "#              [0, 1],\n",
    "#              [-1, 1],\n",
    "#              [1, -1]])\n",
    "#v0 = sp.array([[-0.2, -0.2],\n",
    "#               [-0.2, -0.2],\n",
    "#               [-0.5, -0.2],\n",
    "#               [-0.2, -0.7]])\n",
    "#b = sp.sum(A*v0, axis=1)"
   ]
  },
  {
   "cell_type": "markdown",
   "metadata": {},
   "source": [
    "## Plot constraints"
   ]
  },
  {
   "cell_type": "code",
   "execution_count": 31,
   "metadata": {
    "collapsed": false
   },
   "outputs": [
    {
     "data": {
      "image/png": "[encoded data removed]",
      "text/plain": [
       "<matplotlib.figure.Figure at 0x9d80518>"
      ]
     },
     "metadata": {},
     "output_type": "display_data"
    }
   ],
   "source": [
    "%matplotlib inline\n",
    "fig = plt.figure()\n",
    "ax = fig.gca()\n",
    "\n",
    "artools.plot_hplanes(A, b, lims=(-2, 2), ax=ax)\n",
    "\n",
    "ax.set_xlim((-2, 2))\n",
    "ax.set_ylim((-2, 2))\n",
    "plt.show(fig)"
   ]
  },
  {
   "cell_type": "markdown",
   "metadata": {},
   "source": [
    "## Try and visualise what's going on"
   ]
  },
  {
   "cell_type": "code",
   "execution_count": 32,
   "metadata": {
    "collapsed": false
   },
   "outputs": [
    {
     "name": "stdout",
     "output_type": "stream",
     "text": [
      "c = \n",
      "[ 0.5   0.25]\n",
      "b_tmp = \n",
      "[ 0.5   0.25  0.75  0.25]\n",
      "D = \n",
      "[[-2.          0.        ]\n",
      " [ 0.         -4.        ]\n",
      " [-1.33333333  1.33333333]\n",
      " [ 4.         -4.        ]]\n"
     ]
    },
    {
     "data": {
      "image/png": "[encoded data removed]",
      "text/plain": [
       "<matplotlib.figure.Figure at 0x9cbcbe0>"
      ]
     },
     "metadata": {},
     "output_type": "display_data"
    }
   ],
   "source": [
    "c = scipy.linalg.lstsq(A, b)[0]\n",
    "c = sp.array([0.5, 0.25])\n",
    "print \"c = \"\n",
    "print c\n",
    "if artools.out_region(c, A, b):    \n",
    "    raise Exception(\"c is not in the region\")\n",
    "\n",
    "# calculate D matrix?\n",
    "b_tmp = b - sp.dot(A, c)  # b_tmp is like a difference vector?\n",
    "D = A/b_tmp[:, None]\n",
    "\n",
    "print \"b_tmp = \"\n",
    "print b_tmp\n",
    "print \"D = \"\n",
    "print D\n",
    "\n",
    "fig2 = plt.figure()\n",
    "ax2 = fig2.gca()\n",
    "\n",
    "ax2.plot(D[:, 0], D[:, 1], \"bo\")\n",
    "\n",
    "plt.show(fig2)"
   ]
  },
  {
   "cell_type": "markdown",
   "metadata": {},
   "source": [
    "Convex hull of D points"
   ]
  },
  {
   "cell_type": "code",
   "execution_count": 33,
   "metadata": {
    "collapsed": false
   },
   "outputs": [
    {
     "data": {
      "text/plain": [
       "array([[1, 0],\n",
       "       [1, 3],\n",
       "       [2, 0],\n",
       "       [2, 3]])"
      ]
     },
     "execution_count": 33,
     "metadata": {},
     "output_type": "execute_result"
    }
   ],
   "source": [
    "k = ConvexHull(D).simplices\n",
    "k"
   ]
  },
  {
   "cell_type": "code",
   "execution_count": 34,
   "metadata": {
    "collapsed": false
   },
   "outputs": [
    {
     "data": {
      "text/plain": [
       "array([[  0.00000000e+00,   0.00000000e+00],\n",
       "       [  5.00000000e-01,   5.55111512e-17],\n",
       "       [ -1.11022302e-16,   5.00000000e-01],\n",
       "       [  5.75000000e-01,   1.75000000e-01]])"
      ]
     },
     "execution_count": 34,
     "metadata": {},
     "output_type": "execute_result"
    }
   ],
   "source": [
    "# Generate some kind of offset list of vertices offset from c vector\n",
    "G = sp.zeros((len(k), D.shape[1]))\n",
    "for idx in range(0, len(k)):\n",
    "\n",
    "    # F is a matrix with rows beloning to the indices of k referencing\n",
    "    # rows in matrix D??\n",
    "    F = D[k[idx, :], :]\n",
    "\n",
    "    # f is simply an nx1 column vector of ones?\n",
    "    f = sp.ones((F.shape[0], 1))\n",
    "\n",
    "    # solve the least squares problem F\\f in MATLAB notation for a vector\n",
    "    # that becomes a row in matrix G?\n",
    "    G[idx, :] = scipy.linalg.lstsq(F, f)[0].T\n",
    "\n",
    "# find vertices from vi = c + Gi\n",
    "Vs = G + sp.tile(c.T, (G.shape[0], 1))\n",
    "Vs = artools.uniqueRows(Vs)[0]\n",
    "Vs"
   ]
  },
  {
   "cell_type": "markdown",
   "metadata": {},
   "source": [
    "Plot vertices now"
   ]
  },
  {
   "cell_type": "code",
   "execution_count": 35,
   "metadata": {
    "collapsed": false
   },
   "outputs": [
    {
     "data": {
      "image/png": "[encoded data removed]",
      "text/plain": [
       "<matplotlib.figure.Figure at 0x9ea9390>"
      ]
     },
     "metadata": {},
     "output_type": "display_data"
    }
   ],
   "source": [
    "fig3 = plt.figure()\n",
    "ax3 = fig3.gca()\n",
    "ax3.hold(True)\n",
    "\n",
    "artools.plot_hplanes(A, b, lims=(-2, 2), ax=ax3)\n",
    "ax3.plot(Vs[:, 0], Vs[:, 1], \"bo\")\n",
    "\n",
    "ax3.set_xlim((-2, 2))\n",
    "ax3.set_ylim((-2, 2))\n",
    "plt.show(fig3)"
   ]
  },
  {
   "cell_type": "code",
   "execution_count": null,
   "metadata": {
    "collapsed": true
   },
   "outputs": [],
   "source": [
    "def con2vert(A, b):\n",
    "    '''\n",
    "    Compute the V-representation of a convex polytope from a set of hyperplane\n",
    "    constraints. Solve the vertex enumeration problem given inequalities of the\n",
    "    form A*x <= b\n",
    "\n",
    "    Parameters:\n",
    "        A\n",
    "\n",
    "        b\n",
    "\n",
    "    Returns:\n",
    "        Vs  (L x d) array. Each row in Vs represents an extreme point\n",
    "            of the convex polytope described by A*x <= b.\n",
    "\n",
    "    Method adapted from Michael Kelder's con2vert() MATLAB function\n",
    "    http://www.mathworks.com/matlabcentral/fileexchange/7894-con2vert-constraints-to-vertices\n",
    "    '''\n",
    "\n",
    "    # check if b is a column vector with ndim=2, or (L,) array with ndim=1 only\n",
    "    if b.ndim == 2:\n",
    "        b = b.flatten()\n",
    "\n",
    "    # attempt to find an interior point in the feasible region\n",
    "    c = scipy.linalg.lstsq(A, b)[0]\n",
    "\n",
    "    # if c is out of the region or on the polytope boundary, try to find a new\n",
    "    # c\n",
    "    num_tries = 0\n",
    "    while out_region(c, A, b) or sp.any(sp.dot(A, c) - b == 0.0):\n",
    "\n",
    "        plt.plot(c[0], c[1], \"ks\")\n",
    "\n",
    "        num_tries += 1\n",
    "        if num_tries > 20:\n",
    "            raise Exception(\"con2vert() failed to find an interior point\"\n",
    "                            \"after 20 tries. Perhaps your constraints are\"\n",
    "                            \"badly formed or the region is unbounded.\")\n",
    "\n",
    "        def tmp_fn(xi):\n",
    "            # find the Chebyshev centre, xc, of the polytope (the\n",
    "            # largest inscribed ball within the polytope with centre at xc.)\n",
    "\n",
    "            d = sp.dot(A, xi) - b\n",
    "            # ensure point actually lies within region and not just on the\n",
    "            # boundary\n",
    "            tmp_ks = sp.nonzero(d >= -1e-6)\n",
    "            # print sum(d[tmp_ks])    #sum of errors\n",
    "\n",
    "            # return max(d)\n",
    "            return sum(d[tmp_ks])\n",
    "\n",
    "        # print \"c is not in the interior, need to solve for interior point!\n",
    "        # %f\" % (tmp_fn(c))\n",
    "\n",
    "        # ignore output message\n",
    "        c_guess = sp.rand(A.shape[1])\n",
    "        solver_result = scipy.optimize.fmin(tmp_fn, c_guess, disp=False)\n",
    "        c = solver_result\n",
    "\n",
    "    # calculate D matrix?\n",
    "    b_tmp = b - sp.dot(A, c)  # b_tmp is like a difference vector?\n",
    "    D = A / b_tmp[:, None]\n",
    "\n",
    "    # find indices of convex hull belonging to D?\n",
    "    k = scipy.spatial.ConvexHull(D).simplices\n",
    "\n",
    "    # Generate some kind of offset list of vertices offset from c vector\n",
    "    G = sp.zeros((len(k), D.shape[1]))\n",
    "    for idx in range(0, len(k)):\n",
    "\n",
    "        # F is a matrix with rows beloning to the indices of k referencing\n",
    "        # rows in matrix D??\n",
    "        F = D[k[idx, :], :]\n",
    "\n",
    "        # f is simply an nx1 column vector of ones?\n",
    "        f = sp.ones((F.shape[0], 1))\n",
    "\n",
    "        # solve the least squares problem F\\f in MATLAB notation for a vector\n",
    "        # that becomes a row in matrix G?\n",
    "        G[idx, :] = scipy.linalg.lstsq(F, f)[0].T\n",
    "\n",
    "    # find vertices from vi = c + Gi\n",
    "    Vs = G + sp.tile(c.T, (G.shape[0], 1))\n",
    "    Vs = uniqueRows(Vs)[0]\n",
    "\n",
    "    return Vs"
   ]
  },
  {
   "cell_type": "code",
   "execution_count": null,
   "metadata": {
    "collapsed": true
   },
   "outputs": [],
   "source": []
  }
 ],
 "metadata": {
  "kernelspec": {
   "display_name": "Python [Root]",
   "language": "python",
   "name": "Python [Root]"
  },
  "language_info": {
   "codemirror_mode": {
    "name": "ipython",
    "version": 2
   },
   "file_extension": ".py",
   "mimetype": "text/x-python",
   "name": "python",
   "nbconvert_exporter": "python",
   "pygments_lexer": "ipython2",
   "version": "2.7.12"
  }
 },
 "nbformat": 4,
 "nbformat_minor": 0
}
