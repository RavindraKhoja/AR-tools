{
 "cells": [
  {
   "cell_type": "markdown",
   "metadata": {},
   "source": [
    "## Python imports"
   ]
  },
  {
   "cell_type": "code",
   "execution_count": 1,
   "metadata": {
    "collapsed": false
   },
   "outputs": [],
   "source": [
    "import scipy as sp\n",
    "\n",
    "import matplotlib.pyplot as plt\n",
    "\n",
    "from ipywidgets import interact, interactive, fixed, Checkbox\n",
    "from IPython.display import display\n",
    "\n",
    "%matplotlib inline\n",
    "plt.style.use(\"ggplot\")"
   ]
  },
  {
   "cell_type": "markdown",
   "metadata": {},
   "source": [
    "## Define concentrations "
   ]
  },
  {
   "cell_type": "code",
   "execution_count": 2,
   "metadata": {
    "collapsed": true
   },
   "outputs": [],
   "source": [
    "C1 = sp.array([0.085, 0.178])\n",
    "C2 = sp.array([0.046, 0.594])\n",
    "C3 = sp.array([0.05, 0.25])"
   ]
  },
  {
   "cell_type": "markdown",
   "metadata": {},
   "source": [
    "## Plotting function "
   ]
  },
  {
   "cell_type": "code",
   "execution_count": 3,
   "metadata": {
    "collapsed": false
   },
   "outputs": [],
   "source": [
    "def plot_fn(c1c2_l=0.5, c2c3_l=0.5, m1m2_l=0.5):\n",
    "    fig = plt.figure(figsize=(9,6))\n",
    "    ax = fig.gca()\n",
    "    plt.hold(True)\n",
    "    \n",
    "    #calc mixture concentration\n",
    "    Cm1 = C1 + c1c2_l*(C2-C1)\n",
    "    Cm2 = C2 + c2c3_l*(C3-C2)\n",
    "    \n",
    "    Cm = Cm1 + m1m2_l*(Cm2-Cm1)\n",
    "    \n",
    "    #calc colors of markers to visually show mixture compositions\n",
    "    red_color = sp.array([1,0,0])\n",
    "    blue_color = sp.array([0,0,1])\n",
    "    yellow_color = sp.array([1,1,0])\n",
    "    \n",
    "    Cm1_color = red_color + c1c2_l*(blue_color-red_color)\n",
    "    Cm2_color = blue_color + c2c3_l*(yellow_color-blue_color)\n",
    "    Cm_color = Cm1_color + m1m2_l*(Cm2_color -Cm1_color)\n",
    "    \n",
    "    #plot beaker concentrations\n",
    "    plt.plot(C1[0],C1[1], 's', color=red_color, markersize=10)\n",
    "    plt.plot(C2[0],C2[1], 's', color=blue_color, markersize=10)\n",
    "    plt.plot(C3[0],C3[1], 's', color=yellow_color, markersize=10)\n",
    "    \n",
    "    #concentration labels\n",
    "    ax.text(C1[0]*1.02, C1[1],       'C1', fontsize=12)\n",
    "    ax.text(C2[0]*0.90, C2[1],       'C2', fontsize=12)\n",
    "    ax.text(C3[0]*0.90, C3[1]*0.80,  'C3', fontsize=12)\n",
    "    ax.text(Cm1[0],     Cm1[1]*1.08, 'B1', fontsize=10)\n",
    "    ax.text(Cm2[0],     Cm2[1]*0.90, 'B2', fontsize=10)\n",
    "    \n",
    "    #plot intermediate mixing lines\n",
    "    ax.plot(Cm1[0],Cm1[1], 'v', color=Cm1_color, markersize=10)\n",
    "    ax.plot(Cm2[0],Cm2[1], 'v', color=Cm2_color, markersize=10)\n",
    "    ax.plot([Cm1[0],Cm2[0]], [Cm1[1],Cm2[1]], 'k--')\n",
    "    \n",
    "    #plot mixture concentration\n",
    "    \n",
    "    ax.plot(Cm[0],Cm[1], 'o', color=Cm_color, markersize=10)\n",
    "    \n",
    "    ax.axis([0.03, 0.1, 0.1, 0.7])\n",
    "    ax.set_xlabel('NaCl (mol/L)')\n",
    "    ax.set_ylabel('KOH (mol/L)')\n",
    "    \n",
    "    plt.show(fig)"
   ]
  },
  {
   "cell_type": "markdown",
   "metadata": {},
   "source": [
    "## Interact "
   ]
  },
  {
   "cell_type": "code",
   "execution_count": 4,
   "metadata": {
    "collapsed": false
   },
   "outputs": [
    {
     "data": {
      "image/png": "[encoded data removed]",
      "text/plain": [
       "<matplotlib.figure.Figure at 0x91090f0>"
      ]
     },
     "metadata": {},
     "output_type": "display_data"
    }
   ],
   "source": [
    "interactive(plot_fn, c1c2_l=(0,1,0.02), c2c3_l=(0,1,0.02), m1m2_l=(0,1,0.02))"
   ]
  },
  {
   "cell_type": "code",
   "execution_count": null,
   "metadata": {
    "collapsed": true
   },
   "outputs": [],
   "source": []
  }
 ],
 "metadata": {
  "kernelspec": {
   "display_name": "Python 2",
   "language": "python",
   "name": "python2"
  },
  "language_info": {
   "codemirror_mode": {
    "name": "ipython",
    "version": 2
   },
   "file_extension": ".py",
   "mimetype": "text/x-python",
   "name": "python",
   "nbconvert_exporter": "python",
   "pygments_lexer": "ipython2",
   "version": "2.7.11"
  }
 },
 "nbformat": 4,
 "nbformat_minor": 0
}
