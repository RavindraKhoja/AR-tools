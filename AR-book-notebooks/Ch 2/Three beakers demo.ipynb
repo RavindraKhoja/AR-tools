{
 "cells": [
  {
   "cell_type": "code",
   "execution_count": 7,
   "metadata": {
    "collapsed": false
   },
   "outputs": [],
   "source": [
    "import scipy as sp\n",
    "\n",
    "import matplotlib.pyplot as plt\n",
    "\n",
    "from ipywidgets import interact, interactive, fixed\n",
    "from IPython.display import display\n",
    "from IPython.html import widgets\n",
    "\n",
    "%matplotlib inline"
   ]
  },
  {
   "cell_type": "markdown",
   "metadata": {},
   "source": [
    "In chapter 2, we demonstrate the convex nature of mixing by playing a game. You are given three beakers by your boss and you are required to achieve seven distinct concentrations from these three concentrations.\n",
    "\n",
    "We first define the three concentrations supplied by your boss by symbols b1 - b3. The desired mixture concentrations are also specified by variables x1 to x7"
   ]
  },
  {
   "cell_type": "code",
   "execution_count": 2,
   "metadata": {
    "collapsed": true
   },
   "outputs": [],
   "source": [
    "#beaker concentrations\n",
    "b1 = sp.array([9.0, 1.0])\n",
    "b2 = sp.array([1.0, 9.0])\n",
    "b3 = sp.array([2.0, 3.0])\n",
    "\n",
    "#desired concentrations\n",
    "c1 = sp.array([3.0, 5.0])\n",
    "c2 = sp.array([4.0, 2.0])\n",
    "c3 = sp.array([1.0, 6.0])\n",
    "c4 = sp.array([9.0, 9.0])\n",
    "c5 = sp.array([5.0, 5.0])\n",
    "c6 = sp.array([2.0, 7.7])\n",
    "c7 = sp.array([2.2, 8.0])"
   ]
  },
  {
   "cell_type": "markdown",
   "metadata": {},
   "source": [
    "We desire to plot the concentrations in cX-cY space and display the possible mixtures obtained by mixtures of b1, b2 and b3. \n",
    "\n",
    "For performance reasons when plotting, we combine the concentrations into a matrices Xs and Bs representing the desired concentrations and beaker concentrations, respectively."
   ]
  },
  {
   "cell_type": "code",
   "execution_count": 3,
   "metadata": {
    "collapsed": false
   },
   "outputs": [],
   "source": [
    "#combine concentrations for performance when plotting\n",
    "Xs = sp.vstack([c1,c2,c3,c4,c5,c6,c7])\n",
    "Bs = sp.vstack([b1,b2,b3])"
   ]
  },
  {
   "cell_type": "markdown",
   "metadata": {},
   "source": [
    "Next, a plotting function is created that will display all concentrations in cX-cY space. The final mixture concentration is calculated by specifying volumes for b1, b2 and b3 with their respective concentrations in a simple component molar balance. Since density is assumed constant, the total volume is given by the sum of the individual beaker volumes."
   ]
  },
  {
   "cell_type": "code",
   "execution_count": 4,
   "metadata": {
    "collapsed": false
   },
   "outputs": [],
   "source": [
    "def plot_fn(V1=50, V2=50, V3=50,\n",
    "           use_x4 = False, V4=50.,\n",
    "           use_x2 = False, V5=50.):\n",
    "    \n",
    "    Vtot = V1 + V2 + V3 + use_x4*V4 + use_x2*V5   #total volume of mixture in L\n",
    "    \n",
    "    cX_mix = (V1*b1[0] + V2*b2[0] + V3*b3[0] + use_x4*V4*c4[0] + use_x2*V5*c2[0])/Vtot\n",
    "    cY_mix = (V1*b1[1] + V2*b2[1] + V3*b3[1] + use_x4*V4*c4[1] + use_x2*V5*c2[1])/Vtot\n",
    "    \n",
    "    fig = plt.figure()\n",
    "    ax = fig.gca()\n",
    "    plt.hold(True)\n",
    "    \n",
    "    #plot beaker concentrations\n",
    "    '''plt.plot(b1[0],b1[1], 'b^')\n",
    "    plt.plot(b2[0],b2[1], 'b^')\n",
    "    plt.plot(b3[0],b3[1], 'b^')'''\n",
    "    plt.plot(Bs[:,0],Bs[:,1], 'b^')\n",
    "    ax.text(b1[0]*1.03,b1[1],'$\\mathbf{b_1}$', fontsize=13)\n",
    "    ax.text(b2[0],b2[1]*1.05,'$\\mathbf{b_2}$', fontsize=13)\n",
    "    ax.text(b3[0],b3[1]*0.75,'$\\mathbf{b_3}$', fontsize=13)\n",
    "    \n",
    "    #plot desired concentrations\n",
    "    '''plt.plot(c1[0],c1[1], 'rx')\n",
    "    plt.plot(c2[0],c2[1], 'rx')\n",
    "    plt.plot(c3[0],c3[1], 'rx')\n",
    "    plt.plot(c4[0],c4[1], 'rx')\n",
    "    plt.plot(c5[0],c5[1], 'rx')\n",
    "    plt.plot(c6[0],c6[1], 'rx')\n",
    "    plt.plot(c7[0],c7[1], 'rx')'''\n",
    "    plt.plot(Xs[:,0],Xs[:,1], 'rx')\n",
    "    \n",
    "    '''ax.text(c1[0],c1[1]*0.85, '$\\mathbf{x_1}$', fontsize=13)\n",
    "    ax.text(c2[0],c2[1]*0.70, '$\\mathbf{x_2}$', fontsize=13)\n",
    "    ax.text(c3[0]*0.75,c3[1]*1.05, '$\\mathbf{x_3}$', fontsize=13)\n",
    "    ax.text(c4[0],c4[1]*1.05, '$\\mathbf{x_4}$', fontsize=13)\n",
    "    ax.text(c5[0],c5[1]*1.05, '$\\mathbf{x_5}$', fontsize=13)\n",
    "    ax.text(c6[0]*0.85,c6[1]*0.90, '$\\mathbf{x_6}$', fontsize=13)\n",
    "    ax.text(c7[0],c7[1]*1.05, '$\\mathbf{x_7}$', fontsize=13)'''\n",
    "    \n",
    "    #plot mixture concentration\n",
    "    plt.plot(cX_mix, cY_mix, 'gv')\n",
    "    \n",
    "    plt.title('Total mixture volume = %.0f L'%Vtot)\n",
    "    plt.xlabel('Component X (mol/L)')\n",
    "    plt.ylabel('Component Y (mol/L)')\n",
    "    plt.axis([0,10, 0,10])\n",
    "    plt.show()"
   ]
  },
  {
   "cell_type": "code",
   "execution_count": 5,
   "metadata": {
    "collapsed": false
   },
   "outputs": [
    {
     "data": {
      "image/png": "[encoded data removed]",
      "text/plain": [
       "<matplotlib.figure.Figure at 0x1de8b70>"
      ]
     },
     "metadata": {},
     "output_type": "display_data"
    }
   ],
   "source": [
    "interactive(plot_fn, V1=(0.,100.,1), V2=(0.,100.,1), V3=(0.,100.,1),\n",
    "           use_x4 = widgets.Checkbox(description='Use X4'), V4=(0.,100.,1.),\n",
    "           use_x2 = widgets.Checkbox(description='Use x2'), V5=(0.,100.,1.))"
   ]
  },
  {
   "cell_type": "code",
   "execution_count": null,
   "metadata": {
    "collapsed": true
   },
   "outputs": [],
   "source": []
  }
 ],
 "metadata": {
  "kernelspec": {
   "display_name": "Python 2",
   "language": "python",
   "name": "python2"
  },
  "language_info": {
   "codemirror_mode": {
    "name": "ipython",
    "version": 2
   },
   "file_extension": ".py",
   "mimetype": "text/x-python",
   "name": "python",
   "nbconvert_exporter": "python",
   "pygments_lexer": "ipython2",
   "version": "2.7.10"
  }
 },
 "nbformat": 4,
 "nbformat_minor": 0
}
