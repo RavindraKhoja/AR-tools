{
 "cells": [
  {
   "cell_type": "markdown",
   "metadata": {},
   "source": [
    "## Python imports"
   ]
  },
  {
   "cell_type": "code",
   "execution_count": 1,
   "metadata": {
    "collapsed": false
   },
   "outputs": [],
   "source": [
    "import scipy as sp\n",
    "import matplotlib.pyplot as plt\n",
    "\n",
    "from scipy.integrate import odeint\n",
    "from scipy.spatial import ConvexHull\n",
    "import scipy.optimize\n",
    "\n",
    "from ipywidgets import interact\n",
    "\n",
    "%matplotlib inline\n",
    "plt.style.use(\"ggplot\")"
   ]
  },
  {
   "cell_type": "code",
   "execution_count": 2,
   "metadata": {
    "collapsed": false
   },
   "outputs": [
    {
     "data": {
      "image/png": "[encoded data removed]",
      "text/plain": [
       "<matplotlib.figure.Figure at 0x8031588>"
      ]
     },
     "metadata": {},
     "output_type": "display_data"
    }
   ],
   "source": [
    "def plot_fn(sale_factor=2.4, sep_factor=0.35, vol_factor=0.05, n_years=2):\n",
    "      \n",
    "    Cplant = 45.0*(1.15**n_years)\n",
    "    \n",
    "    Cf = [20.0, 1e-6]\n",
    "    Q = 1.2\n",
    "    cA_range = sp.linspace(Cf[0],0.0,100)\n",
    "    x_range = 1.0 - cA_range/Cf[0]\n",
    "    cB_range = Cf[1] + Cf[0]*x_range\n",
    "    \n",
    "    taus = []\n",
    "    for cA_i,cB_i in zip(cA_range,cB_range):\n",
    "        Vi = (1/vol_factor)*(sale_factor*cB_i - sep_factor*cA_i**2 - Cplant/n_years)\n",
    "        taus.append(Vi/Q)\n",
    "        \n",
    "    #print Vs\n",
    "    \n",
    "    plt.figure()\n",
    "    plt.hold(True)\n",
    "\n",
    "    plt.plot(cA_range,taus, \"b-\")\n",
    "\n",
    "    plt.axis([0,20,0,1000])\n",
    "    plt.xlabel('cA (mol/L)')\n",
    "    plt.ylabel('V')\n",
    "    plt.show()\n",
    "    \n",
    "interact(plot_fn, sale_factor=(0,5,0.1), sep_factor=(0.01,5,0.01), vol_factor=(0.01,0.1,0.01), n_years=(2,9,3))"
   ]
  },
  {
   "cell_type": "code",
   "execution_count": null,
   "metadata": {
    "collapsed": true
   },
   "outputs": [],
   "source": []
  }
 ],
 "metadata": {
  "kernelspec": {
   "display_name": "Python 2",
   "language": "python",
   "name": "python2"
  },
  "language_info": {
   "codemirror_mode": {
    "name": "ipython",
    "version": 2
   },
   "file_extension": ".py",
   "mimetype": "text/x-python",
   "name": "python",
   "nbconvert_exporter": "python",
   "pygments_lexer": "ipython2",
   "version": "2.7.11"
  }
 },
 "nbformat": 4,
 "nbformat_minor": 0
}
