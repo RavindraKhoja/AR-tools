{
 "cells": [
  {
   "cell_type": "markdown",
   "metadata": {},
   "source": [
    "# CSTR cubic roots example (Taken from example [])\n",
    "\n",
    "## Python imports"
   ]
  },
  {
   "cell_type": "code",
   "execution_count": 1,
   "metadata": {
    "collapsed": false
   },
   "outputs": [],
   "source": [
    "import scipy as sp\n",
    "from scipy.integrate import odeint\n",
    "import scipy.linalg\n",
    "import scipy.optimize\n",
    "\n",
    "import matplotlib.pyplot as plt\n",
    "\n",
    "from ipywidgets import interact\n",
    "\n",
    "%matplotlib inline\n",
    "plt.style.use(\"ggplot\")"
   ]
  },
  {
   "cell_type": "markdown",
   "metadata": {},
   "source": [
    "## Define kinetics\n",
    "\n",
    "We use the following autocatalytic reaction:\n",
    "\n",
    "$$ \n",
    "\\begin{align}\n",
    "\\mathrm{A + 2B} &\\rightarrow \\mathrm{3B} \\\\\n",
    "\\mathrm{B} &\\rightarrow \\mathrm{C}\n",
    "\\end{align}\n",
    "$$\n",
    "\n",
    "to demonstrate the geometric relationship between the rate field and fundamental reactor types. Rate expressions are given by:\n",
    "\n",
    "$$\n",
    "\\begin{align}\n",
    "\\mathrm{r_{A}} & = \\mathrm{-k_{1}c_{A}c_{B}^{2}} \\\\\n",
    "\\mathrm{r_{B}} & = \\mathrm{k_{1}c_{A}c_{B}^{2}-k_{2}c_{B}} \\\\\n",
    "\\mathrm{r_{C}} & = \\mathrm{k_{1}c_{B}}\n",
    "\\end{align}\n",
    "$$\n",
    "\n",
    "## CSTR equations\n",
    "The CSTR equations specific for components A and B are:\n",
    "\n",
    "$$\n",
    "\\begin{align}\n",
    "\\mathrm{c_{A}} & = \\mathrm{c_{Af}} + \\tau \\mathrm{r_A}\\left( \\mathbf{C} \\right) \\\\\n",
    "\\mathrm{c_{B}} & = \\mathrm{c_{Bf}} + \\tau \\mathrm{r_B}\\left( \\mathbf{C} \\right)\n",
    "\\end{align}\n",
    "$$\n",
    "\n",
    "Solving for $\\mathrm{c_A}$ and $\\mathrm{c_B}$ in the CSTR expression results in \n",
    "\n",
    "$$\n",
    "\\mathrm{c_{A}=\\frac{c_{Af}}{1+\\tau k_{1}c_{B}^{2}}} \\\\\n",
    "\\mathrm{c_{B}=c_{Bf}+\\tau k_{1}\\left(\\frac{c_{Af}}{1+\\tau k_{1}c_{B}^{2}}\\right)c_{B}^{2}-\\tau k_{2}c_{B}}\n",
    "$$\n",
    "\n",
    "the condition for a CSTR solution is then\n",
    "\n",
    "$$ \n",
    "\\mathrm{f(c_{B})=c_{B}^{3}τk_{1}(1+τk_{2})-c_{B}^{2}τk_{1}(c_{Af}+c_{Bf})+c_{B}(1+\\tau k_{2})-c_{Bf}=0}\n",
    "$$"
   ]
  },
  {
   "cell_type": "markdown",
   "metadata": {},
   "source": [
    "## Plotting function"
   ]
  },
  {
   "cell_type": "code",
   "execution_count": 2,
   "metadata": {
    "collapsed": false
   },
   "outputs": [
    {
     "data": {
      "image/png": "[encoded data removed]",
      "text/plain": [
       "<matplotlib.figure.Figure at 0x9735048>"
      ]
     },
     "metadata": {},
     "output_type": "display_data"
    }
   ],
   "source": [
    "def plot_fn(CfA=5.0, CfB=0.25, tau=3.0):\n",
    "    Cf = sp.array([CfA, CfB])\n",
    "    \n",
    "    def f(cB):\n",
    "        k1 = 1.0\n",
    "        k2 = 1.0\n",
    "        \n",
    "        term1 = cB**3*tau*k1*(1 + tau*k2)\n",
    "        term2 = -cB**2*tau*k1*(CfA + CfB)\n",
    "        term3 = cB*(1 + tau*k2)\n",
    "        term4 = -CfB\n",
    "        \n",
    "        f = term1 + term2 + term3 + term4\n",
    "        return f\n",
    "    \n",
    "    cb_range = sp.linspace(0.0,1.5,50)\n",
    "    \n",
    "    #generate fs\n",
    "    fs = sp.zeros(cb_range.shape[0])\n",
    "    for i,cb_i in enumerate(cb_range):\n",
    "        fs[i] = f(cb_i)\n",
    "    \n",
    "    #generate figure\n",
    "    fig = plt.figure()\n",
    "    ax = fig.gca()\n",
    "    plt.hold(True)\n",
    "    \n",
    "    #plot PFR\n",
    "    plt.plot(cb_range, fs, \"b-\")\n",
    "    \n",
    "    #zero line\n",
    "    plt.plot([0, 1.5],[0,0], \"k-\")\n",
    "    \n",
    "    plt.title('cB roots')\n",
    "    plt.xlabel('cB (mol/L)')\n",
    "    plt.ylabel('f(cB)')\n",
    "    plt.axis([0,1.5, -2.0,3.0])\n",
    "    \n",
    "    plt.show()\n",
    "    \n",
    "interact(plot_fn, CfA=(0,10,0.01), CfB=(0,1,0.01), tau=(0.001, 5.0, 0.01))"
   ]
  },
  {
   "cell_type": "markdown",
   "metadata": {},
   "source": [
    "Solving for the corresponding concentration for component A"
   ]
  },
  {
   "cell_type": "code",
   "execution_count": 3,
   "metadata": {
    "collapsed": false
   },
   "outputs": [
    {
     "data": {
      "text/plain": [
       "1.25"
      ]
     },
     "execution_count": 3,
     "metadata": {},
     "output_type": "execute_result"
    }
   ],
   "source": [
    "def cA_fn(cB):\n",
    "    k1 = 1.0\n",
    "    k2 = 1.0\n",
    "    \n",
    "    tau = 3.0\n",
    "    CfA = 5.0\n",
    "    \n",
    "    return CfA/(1.0 + tau*k1*cB**2)\n",
    "    \n",
    "cA_fn(1.0)"
   ]
  }
 ],
 "metadata": {
  "kernelspec": {
   "display_name": "Python 2",
   "language": "python",
   "name": "python2"
  },
  "language_info": {
   "codemirror_mode": {
    "name": "ipython",
    "version": 2
   },
   "file_extension": ".py",
   "mimetype": "text/x-python",
   "name": "python",
   "nbconvert_exporter": "python",
   "pygments_lexer": "ipython2",
   "version": "2.7.11"
  }
 },
 "nbformat": 4,
 "nbformat_minor": 0
}
