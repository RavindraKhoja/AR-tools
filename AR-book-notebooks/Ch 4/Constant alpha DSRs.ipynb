{
 "cells": [
  {
   "cell_type": "markdown",
   "metadata": {},
   "source": [
    "# The connection between DSRs and CSTRs\n",
    "## Python imports"
   ]
  },
  {
   "cell_type": "code",
   "execution_count": 1,
   "metadata": {
    "collapsed": false
   },
   "outputs": [],
   "source": [
    "import scipy as sp\n",
    "from scipy.integrate import odeint\n",
    "import scipy.linalg\n",
    "import scipy.optimize\n",
    "\n",
    "import matplotlib.pyplot as plt\n",
    "\n",
    "from ipywidgets import interact, interactive, fixed\n",
    "from IPython.display import display\n",
    "\n",
    "%matplotlib inline\n",
    "plt.style.use(\"ggplot\")"
   ]
  },
  {
   "cell_type": "markdown",
   "metadata": {},
   "source": [
    "## Define system kinetics (rate field)"
   ]
  },
  {
   "cell_type": "markdown",
   "metadata": {},
   "source": [
    "The 2D autocatalytic reaction:\n",
    "\n",
    "$$A + B \\rightarrow 2B$$\n",
    "$$B \\rightarrow C$$\n",
    "\n",
    "is used used here for demonstration purposes. Rate constants are given by $k_1=1.0\\,\\mathrm{L.mol^{-1}s^{-1}}$ and $k_2=1.0\\,\\mathrm{L.mol^{-1}s^{-1}}$."
   ]
  },
  {
   "cell_type": "code",
   "execution_count": 2,
   "metadata": {
    "collapsed": true
   },
   "outputs": [],
   "source": [
    "#Autocatalytic kinetics\n",
    "def rate_fn(C,t):\n",
    "    \n",
    "    #Concentration vector: C = [cA, cB]\n",
    "    cA = C[0]\n",
    "    cB = C[1]\n",
    "    \n",
    "    #rate constants\n",
    "    k1 = 1.0\n",
    "    k2 = 1.0\n",
    "    \n",
    "    rA = -k1*cA*cB\n",
    "    rB = k1*cA*cB - k2*cB**2\n",
    "    \n",
    "    dC = sp.array([rA, rB])\n",
    "    return dC"
   ]
  },
  {
   "cell_type": "markdown",
   "metadata": {},
   "source": [
    "## Define DSR function\n",
    "\n",
    "The DSR equation is:\n",
    "\n",
    "$$ \\frac{\\mathrm{d}\\mathbf{C}}{\\mathrm{d}\\tau}=\\mathbf{r}\\left(\\mathbf{C}\\right)+\\alpha\\left(\\mathbf{C}^{0}-\\mathbf{C_{f}}\\right) $$\n",
    "\n",
    "which, compared to the PFR equation, is a function of two extra parameters: $\\alpha$ and $\\mathbf{C}^{0}$. The ODE's which are numerically integrated by Scipy's `odeint()` require a specific parameter sequence to be followed when defining functions. In this case, the extra parameters $\\alpha$ and $\\mathbf{C}^{0}$ are stored in a separate Python tuple named `opts`. The first element in `opts` is the value of $\\alpha$, whereas the second elemenent is the side-stream composition $\\mathbf{C}^{0}$."
   ]
  },
  {
   "cell_type": "code",
   "execution_count": 3,
   "metadata": {
    "collapsed": true
   },
   "outputs": [],
   "source": [
    "def dsr_fn(C,t, opts):\n",
    "    alpha = opts[0]\n",
    "    C0 = opts[1]\n",
    "    \n",
    "    dC = rate_fn(C,t) + alpha*(C0 - C)\n",
    "    return dC"
   ]
  },
  {
   "cell_type": "markdown",
   "metadata": {},
   "source": [
    "## Solve CSTR locus\n",
    "Later on in the notebook, we will demonstrate how constant $\\alpha$ DSR trajectories approach a point on the CSTR locus when the side-stream composition equals of the DSR is equal to the feed composition in the CSTR.\n",
    "\n",
    "We solve for the CSTR locus in a separate cell becuase the solution is computationally intensive. If we were to perform the calculation in real-time whilst ploting, the demonstration would be highly unresponsive."
   ]
  },
  {
   "cell_type": "code",
   "execution_count": 4,
   "metadata": {
    "collapsed": false
   },
   "outputs": [
    {
     "name": "stderr",
     "output_type": "stream",
     "text": [
      "C:\\Users\\A0017697\\Anaconda2\\lib\\site-packages\\scipy\\optimize\\nonlin.py:474: RuntimeWarning: invalid value encountered in double_scalars\n",
      "  and dx_norm/self.x_rtol <= x_norm))\n"
     ]
    }
   ],
   "source": [
    "cstr_ts = sp.logspace(-3,sp.log10(5e4),100)\n",
    "\n",
    "cstr_cf = sp.array([1.0,0.1])\n",
    "c_guess = cstr_cf\n",
    "\n",
    "cstr_cs = []\n",
    "for tau in cstr_ts:\n",
    "    \n",
    "    def cstr_fn(Ci):\n",
    "        ri = rate_fn(Ci,[])\n",
    "        f = cstr_cf + tau*ri - Ci\n",
    "        \n",
    "        return f\n",
    "    \n",
    "    #solve for CSTR solution\n",
    "    Ci = scipy.optimize.newton_krylov(cstr_fn, c_guess, f_tol=1e-4)\n",
    "    \n",
    "    #update guess and add solution to cstr_cs array\n",
    "    c_guess = Ci\n",
    "    cstr_cs.append(Ci)\n",
    "    \n",
    "#convert array into a numpy array, useful for plotting later on\n",
    "cstr_cs = sp.array(cstr_cs)"
   ]
  },
  {
   "cell_type": "markdown",
   "metadata": {},
   "source": [
    "## Plot DSR trajectory"
   ]
  },
  {
   "cell_type": "code",
   "execution_count": 5,
   "metadata": {
    "collapsed": false
   },
   "outputs": [],
   "source": [
    "def plot_fn(t_end=1000.0, alpha=0.0, Cf_x=1.0, Cf_y=0.1):\n",
    "    Cf = sp.array([Cf_x, Cf_y])\n",
    "    ts = sp.logspace(-3,sp.log10(t_end),100)\n",
    "\n",
    "    #alpha = 0\n",
    "    C0 = cstr_cf\n",
    "    dsr_opts = (alpha, C0)\n",
    "\n",
    "    #integrate DSR equation\n",
    "    dsr_cs = odeint(dsr_fn, Cf, ts, args=(dsr_opts,) )\n",
    "    \n",
    "    #plot \n",
    "    plt.figure()\n",
    "    plt.hold(True)\n",
    "    \n",
    "    #Overlay CSTR locus\n",
    "    plt.plot(cstr_cs[:,0],cstr_cs[:,1], 'bx')\n",
    "\n",
    "    #plot DSR trajectory\n",
    "    plt.plot(dsr_cs[:,0],dsr_cs[:,1], 'g')\n",
    "    plt.plot(dsr_cs[-1,0], dsr_cs[-1,1], 'ro')\n",
    "    plt.plot(dsr_cs[0,0], dsr_cs[0,1], 'y^')\n",
    "\n",
    "    plt.xlabel('cA (mol/L)')\n",
    "    plt.ylabel('cB (mol/L)')\n",
    "    plt.axis([0,1,0,0.7])\n",
    "    plt.show()"
   ]
  },
  {
   "cell_type": "markdown",
   "metadata": {},
   "source": [
    "## Interact\n",
    "\n",
    "Use the sliders to interact with the plot. Change the initial condition of the DSR (it's feed concentration, given by the triangle in the plot), integration time and mixing policy and see that effect that is has on the resulting DSR solution trajectory. The DSR is integrated with a constant $\\alpha$ value (it does not change with residence time). Notice how if the DSR residence time is made sufficiently long, the terminating concentration of the DSR (circle) approaches a point on the CSTR locus (crosses)."
   ]
  },
  {
   "cell_type": "code",
   "execution_count": 6,
   "metadata": {
    "collapsed": false
   },
   "outputs": [
    {
     "data": {
      "image/png": "[encoded data removed]",
      "text/plain": [
       "<matplotlib.figure.Figure at 0xa3652e8>"
      ]
     },
     "metadata": {},
     "output_type": "display_data"
    }
   ],
   "source": [
    "interactive(plot_fn, t_end=(1,100,1), alpha=(0.0,5.0,0.005), Cf_x=(0.0,1.0,0.01), Cf_y=(0.0,1.0,0.01))"
   ]
  },
  {
   "cell_type": "code",
   "execution_count": null,
   "metadata": {
    "collapsed": true
   },
   "outputs": [],
   "source": []
  }
 ],
 "metadata": {
  "kernelspec": {
   "display_name": "Python 2",
   "language": "python",
   "name": "python2"
  },
  "language_info": {
   "codemirror_mode": {
    "name": "ipython",
    "version": 2
   },
   "file_extension": ".py",
   "mimetype": "text/x-python",
   "name": "python",
   "nbconvert_exporter": "python",
   "pygments_lexer": "ipython2",
   "version": "2.7.11"
  }
 },
 "nbformat": 4,
 "nbformat_minor": 0
}
