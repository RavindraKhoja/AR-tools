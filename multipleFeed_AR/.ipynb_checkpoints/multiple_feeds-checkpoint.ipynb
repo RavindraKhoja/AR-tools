{
 "cells": [
  {
   "cell_type": "markdown",
   "metadata": {},
   "source": [
    "## Developing a multiple feeds construction algorithm"
   ]
  },
  {
   "cell_type": "markdown",
   "metadata": {},
   "source": [
    "### Imports"
   ]
  },
  {
   "cell_type": "code",
   "execution_count": 1,
   "metadata": {
    "collapsed": false
   },
   "outputs": [],
   "source": [
    "import scipy as sp\n",
    "import scipy.integrate\n",
    "import matplotlib.pyplot as plt\n",
    "from scipy import linalg\n",
    "from mpl_toolkits.mplot3d import Axes3D\n",
    "from scipy.spatial import ConvexHull\n",
    "from __future__ import division\n",
    "\n",
    "%matplotlib inline\n",
    "plt.style.use('ggplot')"
   ]
  },
  {
   "cell_type": "markdown",
   "metadata": {},
   "source": [
    "### `artools.py`"
   ]
  },
  {
   "cell_type": "code",
   "execution_count": 2,
   "metadata": {
    "collapsed": true
   },
   "outputs": [],
   "source": [
    "import sys\n",
    "sys.path.append('../artools/')\n",
    "import artools\n",
    "artools = reload(artools)"
   ]
  },
  {
   "cell_type": "markdown",
   "metadata": {},
   "source": [
    "### Define `stoich_subspace()`"
   ]
  },
  {
   "cell_type": "code",
   "execution_count": 3,
   "metadata": {
    "collapsed": false
   },
   "outputs": [],
   "source": [
    "def stoich_subspace(Cf0s, stoich_mat):\n",
    "    \"\"\" \n",
    "    Compute the bounds of the stoichiometric subspace, S, from multiple feed points and a stoichoimetric coefficient matrix.\n",
    "\n",
    "    Parameters:\n",
    "    \n",
    "        stoich_mat    (n x d) array. Each row in stoich_mat corresponds to a component and each column corresponds to a reaction.\n",
    "        \n",
    "        Cf0s          (M x n) matrix. Each row in Cf0s corresponds to an individual feed and each column corresponds to a component.\n",
    "\n",
    "\n",
    "    Returns:\n",
    "    \n",
    "        S_attributes   dictionary that contains the vertices stoichiometric subspace in extent and concentration space for individual feeds                        as well as overall stoichiometric subspace for multiple feeds.                         \n",
    "        \n",
    "        keys:\n",
    "        \n",
    "            all_Es      vertices of the individual stoichiometric subspaces in extent space.\n",
    "\n",
    "            all_Cs      vertices of the individual stoichiometric subspaces in concentration space.\n",
    "\n",
    "            all_Es_mat  list of vertices of the overall stoichiometric subspace in extent space.\n",
    "\n",
    "            all_Cs_mat  list of vertices of the overall stoichiometric subspace in concentration space.\n",
    "\n",
    "            hull_Es     extreme vertices of the overall stoichiometric subspace in the extent space.              \n",
    "\n",
    "            hull_Cs     extreme vertices of the overall stoichiometric subspace in concentration space.\n",
    "\n",
    "            bounds      bounds of the stoichiometric subspace in concentration space.\n",
    "\n",
    "    \"\"\"\n",
    "    \n",
    "    # create an empty list of bounds/ axis_lims\n",
    "    min_lims = []\n",
    "    max_lims = []\n",
    "    \n",
    "    # to store stoichSubspace_attributes\n",
    "    S_attributes = {}\n",
    "    \n",
    "    # to store vertices for each feed and stoich_mat in extent and concentration space  \n",
    "    all_Es = []\n",
    "    all_Cs = []\n",
    "    \n",
    "    # if user input is not a list, then convert into a list \n",
    "    if not isinstance(Cf0s, list) and not Cf0s.shape[0] > 1 and not Cf0s.shape[1] > 1:\n",
    "        # put it in a list \n",
    "        Cf0s = [Cf0s]\n",
    "    \n",
    "    for Cf0 in Cf0s:\n",
    "        # loop through each feed point, Cf0, and check if it is a column vector \n",
    "        # with ndim=2, or a (L,) array with ndim=1 only\n",
    "        if Cf0.ndim == 2:\n",
    "            Cf0 = Cf0.flatten() # converts into (L,)\n",
    "            \n",
    "        # raise an error if the no. of components is inconsistent between the feed and stoichiometric matrix\n",
    "        if len(Cf0) != stoich_mat.shape[0]:\n",
    "            raise Exception(\"The number of components in the feed does not match the number of rows in the stoichiometric matrix.\")\n",
    "            \n",
    "        # always treat stoich_mat as a matrix for consistency, convert if not\n",
    "        if stoich_mat.ndim == 1: \n",
    "            # converts a 'single rxn' row into column vector  \n",
    "            stoich_mat = stoich_mat.reshape((len(stoich_mat), 1)) \n",
    "\n",
    "        # check if  a single reaction or multiple reactions are occuring  \n",
    "        if stoich_mat.shape[1] == 1 or stoich_mat.ndim == 1: \n",
    "            # if stoich_mat is (L,) array this'stoich_mat.shape[1]' raises an error 'tuple out of range'  \n",
    "            \n",
    "            # converts into (L,)\n",
    "            stoich_mat = stoich_mat.flatten()\n",
    "\n",
    "            # calculate the limiting requirements\n",
    "            limiting = Cf0/ stoich_mat\n",
    "\n",
    "            # only choose negative coefficients as these indicate reactants\n",
    "            k = limiting < 0.0\n",
    "\n",
    "            # calc maximum extent based on limiting reactant and calc C\n",
    "            # we take max() because of the negative convention of the limiting requirements \n",
    "            e_max = sp.fabs(max(limiting[k]))\n",
    "            \n",
    "            # calc the corresponding point in concentration space \n",
    "            C = Cf0 + stoich_mat*e_max\n",
    "\n",
    "            # form Cs and Es and return\n",
    "            Cs = sp.vstack([Cf0, C])\n",
    "            Es = sp.array([[0., e_max]]).T\n",
    "\n",
    "        else:\n",
    "            # extent associated with each feed vector\n",
    "            Es = artools.con2vert(- stoich_mat, Cf0) \n",
    "            \n",
    "            # calc the corresponding point in concentration space\n",
    "            Cs = (Cf0[:, None] + sp.dot(stoich_mat, Es.T)).T \n",
    "\n",
    "        # vertices for each feed and stoich_mat in extent and concentration space\n",
    "        all_Es.append(Es) \n",
    "        all_Cs.append(Cs)\n",
    "\n",
    "        # stack vertices in one list and find the overall stoichiometric subspace(convex hull) \n",
    "        all_Es_mat = sp.vstack(all_Es)\n",
    "        all_Cs_mat = sp.vstack(all_Cs)\n",
    "    \n",
    "    # compute the convexhull of the overall stoichiometric subspace \n",
    "    # if n > d + 1, then hull_Cs is returned as the full list of vertices \n",
    "    if len(Cf0) > artools.rank(stoich_mat) + 1:\n",
    "        # convexHull vertices are returned as the whole stack of points\n",
    "        hull_Es = all_Es_mat\n",
    "        hull_Cs = all_Cs_mat\n",
    "    else:\n",
    "        # convexHull vertices for the overall stoichiometric subspace in extent space         \n",
    "        hull_all = ConvexHull(all_Es_mat)\n",
    "        ks = hull_all.vertices\n",
    "        hull_Es = all_Es_mat[ks, :]\n",
    "\n",
    "        # convexHull vertices for the overall stoichiometric subspace in concentration space\n",
    "        hull_all = ConvexHull(all_Cs_mat)\n",
    "        ks = hull_all.vertices\n",
    "        hull_Cs = all_Cs_mat[ks, :] \n",
    "    \n",
    "    # no. of components\n",
    "    N = stoich_mat.shape[0]\n",
    "\n",
    "    # create a matrix of indices \n",
    "    components = sp.linspace(0, N-1, num=N)  \n",
    "    \n",
    "    for i in components:\n",
    "        # loop through each component and find the (min, max) => bounds of the axis  \n",
    "        minMatrix = min(hull_Cs[:, i])\n",
    "        maxMatrix = max(hull_Cs[:, i])\n",
    "\n",
    "        # append limits into preallocated lists (min_lims, max_lims)\n",
    "        min_lims.append(minMatrix)\n",
    "        max_lims.append(maxMatrix)\n",
    "\n",
    "        # stack them into an ndarray and flatten() into a row vector \n",
    "        bounds = sp.vstack((min_lims, max_lims)).T\n",
    "        bounds = bounds.flatten() # alternating min, max values\n",
    "\n",
    "    # create a dictionary containing all the 'attributes' of the 'stoich_subspace'\n",
    "    S_attributes = {\n",
    "        'all_Es' : all_Es,\n",
    "        'all_Cs' : all_Cs,\n",
    "        'all_Es_mat' : all_Es_mat,\n",
    "        'all_Cs_mat' : all_Cs_mat,\n",
    "        'hull_Es' : hull_Es,\n",
    "        'hull_Cs' : hull_Cs,\n",
    "        'bounds' : bounds\n",
    "}\n",
    "        \n",
    "    return S_attributes"
   ]
  },
  {
   "cell_type": "markdown",
   "metadata": {},
   "source": [
    "### Supply stoichiometric coefficient and multiple feeds test data"
   ]
  },
  {
   "cell_type": "code",
   "execution_count": 4,
   "metadata": {
    "collapsed": true
   },
   "outputs": [],
   "source": [
    "stoich_mat = sp.array([[-1, 1, 0, 0], [0, -1, 1, 0], [-2, 0, 0, 1]]).T\n",
    "\n",
    "Cf1 = sp.array([1., 0, 0, 0])\n",
    "Cf2 = sp.array([1.5, 0.1, 0, 0])\n",
    "Cf3 = sp.array([0.5, 0.5, 0.5, 0.5])\n",
    "Cf0s = sp.array(([Cf1, Cf2, Cf3]))"
   ]
  },
  {
   "cell_type": "markdown",
   "metadata": {},
   "source": [
    "### Find the stoichiometric subspace "
   ]
  },
  {
   "cell_type": "code",
   "execution_count": 5,
   "metadata": {
    "collapsed": false
   },
   "outputs": [
    {
     "name": "stderr",
     "output_type": "stream",
     "text": [
      "C:\\Anaconda2\\lib\\site-packages\\ipykernel\\__main__.py:129: DeprecationWarning: using a non-integer number instead of an integer will result in an error in the future\n",
      "C:\\Anaconda2\\lib\\site-packages\\ipykernel\\__main__.py:130: DeprecationWarning: using a non-integer number instead of an integer will result in an error in the future\n"
     ]
    }
   ],
   "source": [
    "S_attributes = stoich_subspace(Cf0s, stoich_mat)\n",
    "Cs = S_attributes['hull_Cs']"
   ]
  },
  {
   "cell_type": "markdown",
   "metadata": {},
   "source": [
    "### define test rate kinetics (van der Vusse system) "
   ]
  },
  {
   "cell_type": "code",
   "execution_count": 6,
   "metadata": {
    "collapsed": true
   },
   "outputs": [],
   "source": [
    "def rate_func(C, t):\n",
    "    \"\"\"determine rate vector from a given set of rate kinetics\"\"\"\n",
    "    \n",
    "    # declare concentration variables\n",
    "    cA = C[0];\n",
    "    cB = C[1];\n",
    "    cC = C[2];\n",
    "    cD = C[3];\n",
    "    \n",
    "    # rate constants  \n",
    "    k1 = 1.0;               \n",
    "    k2 = 1.0; \n",
    "    k3 = 10.0;\n",
    "    \n",
    "    # define rate vector\n",
    "    # rate vector = [rA, rB, rC, rD]  (mol/L.s)\n",
    "    R = sp.array([-k1*cA - 2*k3*cA**2,\n",
    "                    k1*cA - k2*cB,\n",
    "                    k2*cB,\n",
    "                    k3*cA**2]);\n",
    "    return R"
   ]
  },
  {
   "cell_type": "markdown",
   "metadata": {},
   "source": [
    "### define PFR integration time "
   ]
  },
  {
   "cell_type": "code",
   "execution_count": 7,
   "metadata": {
    "collapsed": true
   },
   "outputs": [],
   "source": [
    "pfr_ts = sp.logspace(sp.log10(1e-5), sp.log10(10), num=50)"
   ]
  },
  {
   "cell_type": "markdown",
   "metadata": {},
   "source": [
    "### loop through each feed and find PFR trajectory"
   ]
  },
  {
   "cell_type": "code",
   "execution_count": 8,
   "metadata": {
    "collapsed": false
   },
   "outputs": [],
   "source": [
    "# find individual PFR trajectories\n",
    "pfr_cs_1 = scipy.integrate.odeint(rate_func, Cf1, pfr_ts)\n",
    "pfr_cs_2 = scipy.integrate.odeint(rate_func, Cf2, pfr_ts)\n",
    "pfr_cs_3 = scipy.integrate.odeint(rate_func, Cf3, pfr_ts)\n",
    "\n",
    "# find convexHull of PFRs originating from multiple feeds\n",
    "pts = sp.vstack((pfr_cs_1, pfr_cs_2, pfr_cs_3))\n",
    "all_pts = ConvexHull(pts)\n",
    "ks = all_pts.vertices\n",
    "hull_pts = pts[ks, :]"
   ]
  },
  {
   "cell_type": "markdown",
   "metadata": {},
   "source": [
    "### Plot stoichiometric subspace from given reaction stoichiometry and multiple feed points"
   ]
  },
  {
   "cell_type": "code",
   "execution_count": 25,
   "metadata": {
    "collapsed": false
   },
   "outputs": [
    {
     "data": {
      "text/plain": [
       "<matplotlib.text.Text at 0x1f14d4e0>"
      ]
     },
     "execution_count": 25,
     "metadata": {},
     "output_type": "execute_result"
    }
   ],
   "source": [
    "# slicing Cs matrix => (n = d), to avoid dimensional error in the `plot_region3d` function \n",
    "Cs_plot = Cs[:, 0:3]\n",
    "\n",
    "% matplotlib qt\n",
    "fig1 = artools.plot_region3d(Cs_plot, color=\"b\", alpha=0.25)\n",
    "fig1.hold(True)\n",
    "ax1 = fig1.gca()\n",
    "\n",
    "# to avoid dimensional error \n",
    "hull_pts = hull_pts[:, 0:3]\n",
    "\n",
    "# create a new figure in the same axis \n",
    "fig2 = artools.plot_region3d(hull_pts, ax=ax1)\n",
    "\n",
    "# plot feed points\n",
    "ax1.plot(Cf0s[:, 0], Cf0s[:, 1], Cf0s[:, 2], 'bo')\n",
    "\n",
    "# plot PFRs from feed points\n",
    "ax1.plot(pfr_cs_1[:, 0], pfr_cs_1[:, 1], pfr_cs_1[:, 2], 'r')\n",
    "ax1.plot(pfr_cs_2[:, 0], pfr_cs_2[:, 1], pfr_cs_2[:, 2], 'r')\n",
    "ax1.plot(pfr_cs_3[:, 0], pfr_cs_3[:, 1], pfr_cs_3[:, 2], 'r')\n",
    "\n",
    "# plot points\n",
    "ax1.plot( Cs_plot[:, 0], Cs_plot[:, 1], Cs_plot[:, 2], 'k.')\n",
    "\n",
    "ax1.set_xlabel('cA (mol/ L)')\n",
    "ax1.set_ylabel('cB (mol/ L)')\n",
    "ax1.set_zlabel('cC (mol/ L)')\n",
    "ax1.set_title('Stoichiometric subspace for a multiple feed van der Vusse system')\n",
    "\n",
    "# plt.show(fig1)    "
   ]
  },
  {
   "cell_type": "markdown",
   "metadata": {},
   "source": [
    "### Search for achievable points in the complement space \n",
    "\n",
    "- find stoichiometric subspace\n",
    "- find initial candidate region composed of PFRs originating from multiple feed points\n",
    "- define complement region region\n",
    "- spit out random points in complement space and check for achievability\n",
    "    - the achievability condition is checking if the rate vector is collinear to the vector (C - C*)\n",
    "    - if the achievability condition is met, then the point is achievable and it is added onto the list of achievable points, and subsequently, the region is expanded\n",
    "    - if not, then the point is unachievable in the current iteration\n",
    "    "
   ]
  },
  {
   "cell_type": "markdown",
   "metadata": {},
   "source": [
    "### Spit out random points\n",
    "- using `rand_pts` function in ARtools"
   ]
  },
  {
   "cell_type": "code",
   "execution_count": 10,
   "metadata": {
    "collapsed": false
   },
   "outputs": [],
   "source": [
    "# define axis limits\n",
    "axis_lims = S_attributes['bounds']\n",
    "\n",
    "# define no. of points\n",
    "Npts = 10000\n",
    "\n",
    "# generate random points\n",
    "C = artools.rand_pts(Npts, axis_lims)"
   ]
  },
  {
   "cell_type": "markdown",
   "metadata": {},
   "source": [
    "### Generate random points within feasible region\n",
    "- employ facet enumeration to find inequality equations for the stoichiometric subspace\n",
    "    - create another attribute for hyperplane inequality equations"
   ]
  },
  {
   "cell_type": "code",
   "execution_count": 47,
   "metadata": {
    "collapsed": false
   },
   "outputs": [
    {
     "name": "stdout",
     "output_type": "stream",
     "text": [
      "Run complete!\n"
     ]
    },
    {
     "data": {
      "text/plain": [
       "''"
      ]
     },
     "execution_count": 47,
     "metadata": {},
     "output_type": "execute_result"
    }
   ],
   "source": [
    "# define axis limits\n",
    "axis_lims = S_attributes['bounds']\n",
    "\n",
    "# define no. of points\n",
    "Npts = 10000\n",
    "\n",
    "# to store points within the feasible region\n",
    "ks = []\n",
    "\n",
    "#find hyperplane inequality equations using vert2con() (facet enumeration)\n",
    "A, b = artools.vert2con(Cs)\n",
    "\n",
    "# Execute while the no. of points within S is less than the generated random points \n",
    "while (len(ks)<Npts):\n",
    "    # generate random points\n",
    "    C_rand = artools.rand_pts(Npts, axis_lims)\n",
    "\n",
    "    for i, ci in enumerate(C_rand):\n",
    "        if artools.in_region(ci, A, b):\n",
    "            ks.append(i)\n",
    "            \n",
    "raw_input('Run complete!')"
   ]
  },
  {
   "cell_type": "code",
   "execution_count": 42,
   "metadata": {
    "collapsed": false
   },
   "outputs": [
    {
     "data": {
      "text/plain": [
       "array([[ 1.08952965,  1.91243744,  1.34107851,  0.13533072],\n",
       "       [ 1.55686493,  1.61778989,  1.53297559,  0.72806126],\n",
       "       [ 1.91069468,  1.91067423,  1.59910336,  0.95736197],\n",
       "       ..., \n",
       "       [ 2.32306133,  1.67693839,  1.76502346,  0.22780115],\n",
       "       [ 0.87787982,  1.0429923 ,  0.40106514,  0.28935908],\n",
       "       [ 0.43265216,  0.22040023,  1.77424014,  0.40583306]])"
      ]
     },
     "execution_count": 42,
     "metadata": {},
     "output_type": "execute_result"
    }
   ],
   "source": [
    "C_rand"
   ]
  },
  {
   "cell_type": "code",
   "execution_count": 44,
   "metadata": {
    "collapsed": false
   },
   "outputs": [],
   "source": [
    "# slicing matrices => (n = d), to avoid dimensional error in the `plot_region3d` function \n",
    "Cs_plot = Cs[:, 0:3]\n",
    "hull_plot = hull_pts[:, 0:3]\n",
    "C_plot = C_rand[:, 0:3]\n",
    "\n",
    "# plot random points in the feasible region\n",
    "% matplotlib qt\n",
    "fig1 = artools.plot_region3d(Cs_plot, color=\"b\", alpha=0.25)\n",
    "fig1.hold(True)\n",
    "ax1 = fig1.gca()\n",
    "\n",
    "# plot pfr's\n",
    "ax1.plot(hull_pts[:, 0], hull_pts[:, 1], hull_pts[:, 2], 'g.')\n",
    "\n",
    "# create a new figure in the same axis \n",
    "fig2 = artools.plot_region3d(hull_pts, ax=ax1)\n",
    "\n",
    "# plot feed points\n",
    "ax1.plot(Cf0s[:, 0], Cf0s[:, 1], Cf0s[:, 2], 'bo')\n",
    "\n",
    "# plot points\n",
    "ax1.plot( Cs_plot[:, 0], Cs_plot[:, 1], Cs_plot[:, 2], 'k.')\n",
    "\n",
    "# plot random points in feasible region\n",
    "ax1.plot(C_plot[:, 0], C_plot[:, 1], C_plot[:, 2], 'r.')\n",
    "\n",
    "ax1.set_xlabel('cA (mol/ L)')\n",
    "ax1.set_ylabel('cB (mol/ L)')\n",
    "ax1.set_zlabel('cC (mol/ L)')\n",
    "ax1.set_title('random points in stoich_subspace')\n",
    "\n",
    "plt.show(fig1) "
   ]
  },
  {
   "cell_type": "code",
   "execution_count": 45,
   "metadata": {
    "collapsed": false
   },
   "outputs": [
    {
     "data": {
      "text/plain": [
       "['A',\n",
       " 'Axes3D',\n",
       " 'C',\n",
       " 'C_plot',\n",
       " 'C_rand',\n",
       " 'Cf0s',\n",
       " 'Cf1',\n",
       " 'Cf2',\n",
       " 'Cf3',\n",
       " 'ConvexHull',\n",
       " 'Cs',\n",
       " 'Cs_plot',\n",
       " 'In',\n",
       " 'Npts',\n",
       " 'Out',\n",
       " 'S_attributes',\n",
       " '_',\n",
       " '_11',\n",
       " '_18',\n",
       " '_21',\n",
       " '_23',\n",
       " '_24',\n",
       " '_25',\n",
       " '_34',\n",
       " '_35',\n",
       " '_36',\n",
       " '_37',\n",
       " '_38',\n",
       " '_39',\n",
       " '_42',\n",
       " '_9',\n",
       " '__',\n",
       " '___',\n",
       " '__builtin__',\n",
       " '__builtins__',\n",
       " '__doc__',\n",
       " '__name__',\n",
       " '__package__',\n",
       " '_dh',\n",
       " '_i',\n",
       " '_i1',\n",
       " '_i10',\n",
       " '_i11',\n",
       " '_i12',\n",
       " '_i13',\n",
       " '_i14',\n",
       " '_i15',\n",
       " '_i16',\n",
       " '_i17',\n",
       " '_i18',\n",
       " '_i19',\n",
       " '_i2',\n",
       " '_i20',\n",
       " '_i21',\n",
       " '_i22',\n",
       " '_i23',\n",
       " '_i24',\n",
       " '_i25',\n",
       " '_i26',\n",
       " '_i27',\n",
       " '_i28',\n",
       " '_i29',\n",
       " '_i3',\n",
       " '_i30',\n",
       " '_i31',\n",
       " '_i32',\n",
       " '_i33',\n",
       " '_i34',\n",
       " '_i35',\n",
       " '_i36',\n",
       " '_i37',\n",
       " '_i38',\n",
       " '_i39',\n",
       " '_i4',\n",
       " '_i40',\n",
       " '_i41',\n",
       " '_i42',\n",
       " '_i43',\n",
       " '_i44',\n",
       " '_i45',\n",
       " '_i5',\n",
       " '_i6',\n",
       " '_i7',\n",
       " '_i8',\n",
       " '_i9',\n",
       " '_ih',\n",
       " '_ii',\n",
       " '_iii',\n",
       " '_oh',\n",
       " '_sh',\n",
       " 'all_pts',\n",
       " 'artools',\n",
       " 'ax1',\n",
       " 'axis_lims',\n",
       " 'b',\n",
       " 'ci',\n",
       " 'division',\n",
       " 'exit',\n",
       " 'fig1',\n",
       " 'fig2',\n",
       " 'get_ipython',\n",
       " 'hull_plot',\n",
       " 'hull_pts',\n",
       " 'i',\n",
       " 'ks',\n",
       " 'linalg',\n",
       " 'pfr_cs_1',\n",
       " 'pfr_cs_2',\n",
       " 'pfr_cs_3',\n",
       " 'pfr_ts',\n",
       " 'plt',\n",
       " 'pts',\n",
       " 'quit',\n",
       " 'rate_func',\n",
       " 'scipy',\n",
       " 'sp',\n",
       " 'stoich_mat',\n",
       " 'stoich_subspace',\n",
       " 'sys']"
      ]
     },
     "execution_count": 45,
     "metadata": {},
     "output_type": "execute_result"
    }
   ],
   "source": [
    "dir()"
   ]
  }
 ],
 "metadata": {
  "kernelspec": {
   "display_name": "Python 2",
   "language": "python",
   "name": "python2"
  },
  "language_info": {
   "codemirror_mode": {
    "name": "ipython",
    "version": 2
   },
   "file_extension": ".py",
   "mimetype": "text/x-python",
   "name": "python",
   "nbconvert_exporter": "python",
   "pygments_lexer": "ipython2",
   "version": "2.7.10"
  }
 },
 "nbformat": 4,
 "nbformat_minor": 0
}
