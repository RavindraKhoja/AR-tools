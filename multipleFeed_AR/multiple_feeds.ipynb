{
 "cells": [
  {
   "cell_type": "markdown",
   "metadata": {},
   "source": [
    "## Developing a multiple feeds construction algorithm"
   ]
  },
  {
   "cell_type": "markdown",
   "metadata": {},
   "source": [
    "### Imports"
   ]
  },
  {
   "cell_type": "code",
   "execution_count": 1,
   "metadata": {
    "collapsed": false
   },
   "outputs": [],
   "source": [
    "import scipy as sp\n",
    "import scipy.integrate\n",
    "import matplotlib.pyplot as plt\n",
    "from scipy import linalg\n",
    "from mpl_toolkits.mplot3d import Axes3D\n",
    "from scipy.spatial import ConvexHull\n",
    "from __future__ import division\n",
    "\n",
    "%matplotlib inline\n",
    "plt.style.use('ggplot')"
   ]
  },
  {
   "cell_type": "markdown",
   "metadata": {},
   "source": [
    "### `artools.py`"
   ]
  },
  {
   "cell_type": "code",
   "execution_count": 2,
   "metadata": {
    "collapsed": true
   },
   "outputs": [],
   "source": [
    "import sys\n",
    "sys.path.append('../artools/')\n",
    "import artools\n",
    "artools = reload(artools)"
   ]
  },
  {
   "cell_type": "markdown",
   "metadata": {},
   "source": [
    "### Define `stoich_subspace()`"
   ]
  },
  {
   "cell_type": "code",
   "execution_count": 3,
   "metadata": {
    "collapsed": false
   },
   "outputs": [],
   "source": [
    "def stoich_subspace(Cf0s, stoich_mat):\n",
    "    \"\"\" \n",
    "    Compute the bounds of the stoichiometric subspace, S, from multiple feed points and a stoichoimetric coefficient matrix.\n",
    "\n",
    "    Parameters:\n",
    "    \n",
    "        stoich_mat    (n x d) array. Each row in stoich_mat corresponds to a component and each column corresponds to a reaction.\n",
    "        \n",
    "        Cf0s          (M x n) matrix. Each row in Cf0s corresponds to an individual feed and each column corresponds to a component.\n",
    "\n",
    "\n",
    "    Returns:\n",
    "    \n",
    "        S_attributes   dictionary that contains the vertices stoichiometric subspace in extent and concentration space for individual feeds                        as well as overall stoichiometric subspace for multiple feeds.                         \n",
    "        \n",
    "        keys:\n",
    "        \n",
    "            all_Es      vertices of the individual stoichiometric subspaces in extent space.\n",
    "\n",
    "            all_Cs      vertices of the individual stoichiometric subspaces in concentration space.\n",
    "\n",
    "            all_Es_mat  list of vertices of the overall stoichiometric subspace in extent space.\n",
    "\n",
    "            all_Cs_mat  list of vertices of the overall stoichiometric subspace in concentration space.\n",
    "\n",
    "            hull_Es     extreme vertices of the overall stoichiometric subspace in the extent space.              \n",
    "\n",
    "            hull_Cs     extreme vertices of the overall stoichiometric subspace in concentration space.\n",
    "\n",
    "            bounds      bounds of the stoichiometric subspace in concentration space.\n",
    "\n",
    "    \"\"\"\n",
    "    \n",
    "    # create an empty list of bounds/ axis_lims\n",
    "    min_lims = []\n",
    "    max_lims = []\n",
    "    \n",
    "    # to store stoichSubspace_attributes\n",
    "    S_attributes = {}\n",
    "    \n",
    "    # to store vertices for each feed and stoich_mat in extent and concentration space  \n",
    "    all_Es = []\n",
    "    all_Cs = []\n",
    "    \n",
    "    # if user input is not a list, then convert into a list \n",
    "    if not isinstance(Cf0s, list) and not Cf0s.shape[0] > 1 and not Cf0s.shape[1] > 1:\n",
    "        # put it in a list \n",
    "        Cf0s = [Cf0s]\n",
    "    \n",
    "    for Cf0 in Cf0s:\n",
    "        # loop through each feed point, Cf0, and check if it is a column vector \n",
    "        # with ndim=2, or a (L,) array with ndim=1 only\n",
    "        if Cf0.ndim == 2:\n",
    "            Cf0 = Cf0.flatten() # converts into (L,)\n",
    "            \n",
    "        # raise an error if the no. of components is inconsistent between the feed and stoichiometric matrix\n",
    "        if len(Cf0) != stoich_mat.shape[0]:\n",
    "            raise Exception(\"The number of components in the feed does not match the number of rows in the stoichiometric matrix.\")\n",
    "            \n",
    "        # always treat stoich_mat as a matrix for consistency, convert if not\n",
    "        if stoich_mat.ndim == 1: \n",
    "            # converts a 'single rxn' row into column vector  \n",
    "            stoich_mat = stoich_mat.reshape((len(stoich_mat), 1)) \n",
    "\n",
    "        # check if  a single reaction or multiple reactions are occuring  \n",
    "        if stoich_mat.shape[1] == 1 or stoich_mat.ndim == 1: \n",
    "            # if stoich_mat is (L,) array this'stoich_mat.shape[1]' raises an error 'tuple out of range'  \n",
    "            \n",
    "            # converts into (L,)\n",
    "            stoich_mat = stoich_mat.flatten()\n",
    "\n",
    "            # calculate the limiting requirements\n",
    "            limiting = Cf0/ stoich_mat\n",
    "\n",
    "            # only choose negative coefficients as these indicate reactants\n",
    "            k = limiting < 0.0\n",
    "\n",
    "            # calc maximum extent based on limiting reactant and calc C\n",
    "            # we take max() because of the negative convention of the limiting requirements \n",
    "            e_max = sp.fabs(max(limiting[k]))\n",
    "            \n",
    "            # calc the corresponding point in concentration space \n",
    "            C = Cf0 + stoich_mat*e_max\n",
    "\n",
    "            # form Cs and Es and return\n",
    "            Cs = sp.vstack([Cf0, C])\n",
    "            Es = sp.array([[0., e_max]]).T\n",
    "\n",
    "        else:\n",
    "            # extent associated with each feed vector\n",
    "            Es = artools.con2vert(- stoich_mat, Cf0) \n",
    "            \n",
    "            # calc the corresponding point in concentration space\n",
    "            Cs = (Cf0[:, None] + sp.dot(stoich_mat, Es.T)).T \n",
    "\n",
    "        # vertices for each feed and stoich_mat in extent and concentration space\n",
    "        all_Es.append(Es) \n",
    "        all_Cs.append(Cs)\n",
    "\n",
    "        # stack vertices in one list and find the overall stoichiometric subspace(convex hull) \n",
    "        all_Es_mat = sp.vstack(all_Es)\n",
    "        all_Cs_mat = sp.vstack(all_Cs)\n",
    "    \n",
    "    # compute the convexhull of the overall stoichiometric subspace \n",
    "    # if n > d + 1, then hull_Cs is returned as the full list of vertices \n",
    "    if len(Cf0) > artools.rank(stoich_mat) + 1:\n",
    "        # convexHull vertices are returned as the whole stack of points\n",
    "        hull_Es = all_Es_mat\n",
    "        hull_Cs = all_Cs_mat\n",
    "    else:\n",
    "        # convexHull vertices for the overall stoichiometric subspace in extent space         \n",
    "        hull_all = ConvexHull(all_Es_mat)\n",
    "        ks = hull_all.vertices\n",
    "        hull_Es = all_Es_mat[ks, :]\n",
    "\n",
    "        # convexHull vertices for the overall stoichiometric subspace in concentration space\n",
    "        hull_all = ConvexHull(all_Cs_mat)\n",
    "        ks = hull_all.vertices\n",
    "        hull_Cs = all_Cs_mat[ks, :] \n",
    "    \n",
    "    # no. of components\n",
    "    N = stoich_mat.shape[0]\n",
    "\n",
    "    # create a matrix of indices \n",
    "    components = sp.linspace(0, N-1, num=N)  \n",
    "    \n",
    "    for i in components:\n",
    "        # loop through each component and find the (min, max) => bounds of the axis  \n",
    "        minMatrix = min(hull_Cs[:, i])\n",
    "        maxMatrix = max(hull_Cs[:, i])\n",
    "\n",
    "        # append limits into preallocated lists (min_lims, max_lims)\n",
    "        min_lims.append(minMatrix)\n",
    "        max_lims.append(maxMatrix)\n",
    "\n",
    "        # stack them into an ndarray and flatten() into a row vector \n",
    "        bounds = sp.vstack((min_lims, max_lims)).T\n",
    "        bounds = bounds.flatten() # alternating min, max values\n",
    "\n",
    "    # create a dictionary containing all the 'attributes' of the 'stoich_subspace'\n",
    "    S_attributes = {\n",
    "        'all_Es' : all_Es,\n",
    "        'all_Cs' : all_Cs,\n",
    "        'all_Es_mat' : all_Es_mat,\n",
    "        'all_Cs_mat' : all_Cs_mat,\n",
    "        'hull_Es' : hull_Es,\n",
    "        'hull_Cs' : hull_Cs,\n",
    "        'bounds' : bounds\n",
    "}\n",
    "        \n",
    "    return S_attributes"
   ]
  },
  {
   "cell_type": "markdown",
   "metadata": {},
   "source": [
    "### Supply stoichiometric coefficient and multiple feeds test data"
   ]
  },
  {
   "cell_type": "code",
   "execution_count": 4,
   "metadata": {
    "collapsed": true
   },
   "outputs": [],
   "source": [
    "stoich_mat = sp.array([[-1, 1, 0, 0], [0, -1, 1, 0], [-2, 0, 0, 1]]).T\n",
    "\n",
    "Cf1 = sp.array([1., 0, 0, 0])\n",
    "Cf2 = sp.array([1.5, 0.1, 0, 0])\n",
    "Cf3 = sp.array([0.5, 0.5, 0.5, 0.5])\n",
    "Cf0s = sp.array(([Cf1, Cf2, Cf3]))"
   ]
  },
  {
   "cell_type": "markdown",
   "metadata": {},
   "source": [
    "### Find the stoichiometric subspace "
   ]
  },
  {
   "cell_type": "code",
   "execution_count": 5,
   "metadata": {
    "collapsed": false
   },
   "outputs": [
    {
     "name": "stderr",
     "output_type": "stream",
     "text": [
      "C:\\Anaconda2\\lib\\site-packages\\ipykernel\\__main__.py:129: DeprecationWarning: using a non-integer number instead of an integer will result in an error in the future\n",
      "C:\\Anaconda2\\lib\\site-packages\\ipykernel\\__main__.py:130: DeprecationWarning: using a non-integer number instead of an integer will result in an error in the future\n"
     ]
    }
   ],
   "source": [
    "S_attributes = stoich_subspace(Cf0s, stoich_mat)\n",
    "Cs = S_attributes['hull_Cs']"
   ]
  },
  {
   "cell_type": "markdown",
   "metadata": {},
   "source": [
    "### define test rate kinetics (van der Vusse system) "
   ]
  },
  {
   "cell_type": "code",
   "execution_count": 6,
   "metadata": {
    "collapsed": true
   },
   "outputs": [],
   "source": [
    "def rate_func(C, t):\n",
    "    \"\"\"determine rate vector from a given set of rate kinetics\"\"\"\n",
    "    \n",
    "    # declare concentration variables\n",
    "    cA = C[0];\n",
    "    cB = C[1];\n",
    "    cC = C[2];\n",
    "    cD = C[3];\n",
    "    \n",
    "    # rate constants  \n",
    "    k1 = 1.0;               \n",
    "    k2 = 1.0; \n",
    "    k3 = 10.0;\n",
    "    \n",
    "    # define rate vector\n",
    "    # rate vector = [rA, rB, rC, rD]  (mol/L.s)\n",
    "    R = sp.array([-k1*cA - 2*k3*cA**2,\n",
    "                    k1*cA - k2*cB,\n",
    "                    k2*cB,\n",
    "                    k3*cA**2]);\n",
    "    return R"
   ]
  },
  {
   "cell_type": "markdown",
   "metadata": {},
   "source": [
    "### define PFR integration time "
   ]
  },
  {
   "cell_type": "code",
   "execution_count": 7,
   "metadata": {
    "collapsed": true
   },
   "outputs": [],
   "source": [
    "pfr_ts = sp.logspace(sp.log10(1e-5), sp.log10(10), num=50)"
   ]
  },
  {
   "cell_type": "markdown",
   "metadata": {},
   "source": [
    "### loop through each feed and find PFR trajectory"
   ]
  },
  {
   "cell_type": "code",
   "execution_count": 8,
   "metadata": {
    "collapsed": false
   },
   "outputs": [],
   "source": [
    "# find individual PFR trajectories\n",
    "pfr_cs_1 = scipy.integrate.odeint(rate_func, Cf1, pfr_ts)\n",
    "pfr_cs_2 = scipy.integrate.odeint(rate_func, Cf2, pfr_ts)\n",
    "pfr_cs_3 = scipy.integrate.odeint(rate_func, Cf3, pfr_ts)\n",
    "\n",
    "# find convexHull of PFRs originating from multiple feeds\n",
    "pts = sp.vstack((pfr_cs_1, pfr_cs_2, pfr_cs_3))\n",
    "all_pts = ConvexHull(pts)\n",
    "ks = all_pts.vertices\n",
    "hull_pts = pts[ks, :]"
   ]
  },
  {
   "cell_type": "markdown",
   "metadata": {},
   "source": [
    "### Plot stoichiometric subspace from given reaction stoichiometry and multiple feed points"
   ]
  },
  {
   "cell_type": "code",
   "execution_count": 9,
   "metadata": {
    "collapsed": false
   },
   "outputs": [
    {
     "name": "stderr",
     "output_type": "stream",
     "text": [
      "C:\\Anaconda2\\lib\\site-packages\\matplotlib\\collections.py:590: FutureWarning: elementwise comparison failed; returning scalar instead, but in the future will perform elementwise comparison\n",
      "  if self._edgecolors == str('face'):\n"
     ]
    },
    {
     "data": {
      "text/plain": [
       "<matplotlib.text.Text at 0x1ae080b8>"
      ]
     },
     "execution_count": 9,
     "metadata": {},
     "output_type": "execute_result"
    }
   ],
   "source": [
    "# slicing Cs matrix => (n = d), to avoid dimensional error in the `plot_region3d` function \n",
    "Cs = Cs[:, 0:3]\n",
    "\n",
    "% matplotlib qt\n",
    "fig1 = artools.plot_region3d(Cs, color=\"b\", alpha=0.25)\n",
    "fig1.hold(True)\n",
    "ax1 = fig1.gca()\n",
    "\n",
    "# to avoid dimensional error \n",
    "hull_pts = hull_pts[:, 0:3]\n",
    "\n",
    "# create a new figure in the same axis \n",
    "fig2 = artools.plot_region3d(hull_pts, ax=ax1)\n",
    "\n",
    "# plot feed points\n",
    "ax1.plot(Cf0s[:, 0], Cf0s[:, 1], Cf0s[:, 2], 'bo')\n",
    "\n",
    "# plot PFRs from feed points\n",
    "ax1.plot(pfr_cs_1[:, 0], pfr_cs_1[:, 1], pfr_cs_1[:, 2], 'r')\n",
    "ax1.plot(pfr_cs_2[:, 0], pfr_cs_2[:, 1], pfr_cs_2[:, 2], 'r')\n",
    "ax1.plot(pfr_cs_3[:, 0], pfr_cs_3[:, 1], pfr_cs_3[:, 2], 'r')\n",
    "\n",
    "# plot points\n",
    "ax1.plot( Cs[:, 0], Cs[:, 1], Cs[:, 2], 'k.')\n",
    "\n",
    "ax1.set_xlabel('cA (mol/ L)')\n",
    "ax1.set_ylabel('cB (mol/ L)')\n",
    "ax1.set_zlabel('cC (mol/ L)')\n",
    "ax1.set_title('Stoichiometric subspace for a multiple feed van der Vusse system')\n",
    "\n",
    "# plt.show(fig1)    "
   ]
  },
  {
   "cell_type": "markdown",
   "metadata": {},
   "source": [
    "### Search for achievable points in the complement space \n",
    "\n",
    "- find stoichiometric subspace\n",
    "- find initial candidate region composed of PFRs originating from multiple feed points\n",
    "- define complement region region\n",
    "- spit out random points in complement space and check for achievability\n",
    "    - the achievability condition is checking if the rate vector is collinear to the vector (C - C*)\n",
    "    - if the achievability condition is met, then the point is achievable and it is added onto the list of achievable points, and subsequently, the region is expanded\n",
    "    - if not, then the point is unachievable in the current iteration\n",
    "    "
   ]
  },
  {
   "cell_type": "markdown",
   "metadata": {},
   "source": [
    "### Spit out random points\n",
    "- using `rand_pts` function in ARtools"
   ]
  },
  {
   "cell_type": "code",
   "execution_count": 10,
   "metadata": {
    "collapsed": false
   },
   "outputs": [],
   "source": [
    "# define axis limits\n",
    "axis_lims = S_attributes['bounds']\n",
    "\n",
    "# define no. of points\n",
    "Npts = 10000\n",
    "\n",
    "# generate random points\n",
    "C = artools.rand_pts(Npts, axis_lims)"
   ]
  },
  {
   "cell_type": "markdown",
   "metadata": {},
   "source": [
    "### Generate random points within feasible region\n",
    "- employ facet enumeration to find inequality equations for the stoichiometric subspace\n",
    "    - create another attribute for hyperplane inequality equations"
   ]
  },
  {
   "cell_type": "code",
   "execution_count": 11,
   "metadata": {
    "collapsed": true
   },
   "outputs": [],
   "source": [
    "#find hyperplane inequality equations using vert2con() (facet enumeration)\n",
    "A, b = artools.vert2con(Cs)"
   ]
  },
  {
   "cell_type": "markdown",
   "metadata": {},
   "source": [
    "### Use `in_region` to find points with the stoichiometric subspace"
   ]
  },
  {
   "cell_type": "code",
   "execution_count": 12,
   "metadata": {
    "collapsed": false
   },
   "outputs": [
    {
     "ename": "ValueError",
     "evalue": "shapes (4,3) and (4,) not aligned: 3 (dim 1) != 4 (dim 0)",
     "output_type": "error",
     "traceback": [
      "\u001b[1;31m---------------------------------------------------------------------------\u001b[0m",
      "\u001b[1;31mValueError\u001b[0m                                Traceback (most recent call last)",
      "\u001b[1;32m<ipython-input-12-7cfb0b4c6f45>\u001b[0m in \u001b[0;36m<module>\u001b[1;34m()\u001b[0m\n\u001b[0;32m      1\u001b[0m \u001b[0mks\u001b[0m \u001b[1;33m=\u001b[0m \u001b[1;33m[\u001b[0m\u001b[1;33m]\u001b[0m\u001b[1;33m\u001b[0m\u001b[0m\n\u001b[0;32m      2\u001b[0m \u001b[1;32mfor\u001b[0m \u001b[0mi\u001b[0m\u001b[1;33m,\u001b[0m \u001b[0mci\u001b[0m \u001b[1;32min\u001b[0m \u001b[0menumerate\u001b[0m\u001b[1;33m(\u001b[0m\u001b[0mC\u001b[0m\u001b[1;33m)\u001b[0m\u001b[1;33m:\u001b[0m\u001b[1;33m\u001b[0m\u001b[0m\n\u001b[1;32m----> 3\u001b[1;33m     \u001b[1;32mif\u001b[0m \u001b[0martools\u001b[0m\u001b[1;33m.\u001b[0m\u001b[0min_region\u001b[0m\u001b[1;33m(\u001b[0m\u001b[0mci\u001b[0m\u001b[1;33m,\u001b[0m \u001b[0mA\u001b[0m\u001b[1;33m,\u001b[0m \u001b[0mb\u001b[0m\u001b[1;33m)\u001b[0m\u001b[1;33m:\u001b[0m\u001b[1;33m\u001b[0m\u001b[0m\n\u001b[0m\u001b[0;32m      4\u001b[0m         \u001b[0mks\u001b[0m\u001b[1;33m.\u001b[0m\u001b[0mappend\u001b[0m\u001b[1;33m(\u001b[0m\u001b[0mi\u001b[0m\u001b[1;33m)\u001b[0m\u001b[1;33m\u001b[0m\u001b[0m\n",
      "\u001b[1;32mC:\\Users\\deanzimucha\\Documents\\MSc\\scripts\\artools.pyc\u001b[0m in \u001b[0;36min_region\u001b[1;34m(xi, A, b, tol)\u001b[0m\n\u001b[0;32m    335\u001b[0m         \u001b[0mb\u001b[0m \u001b[1;33m=\u001b[0m \u001b[0mb\u001b[0m\u001b[1;33m.\u001b[0m\u001b[0mflatten\u001b[0m\u001b[1;33m(\u001b[0m\u001b[1;33m)\u001b[0m\u001b[1;33m\u001b[0m\u001b[0m\n\u001b[0;32m    336\u001b[0m \u001b[1;33m\u001b[0m\u001b[0m\n\u001b[1;32m--> 337\u001b[1;33m     \u001b[1;32mif\u001b[0m \u001b[0msp\u001b[0m\u001b[1;33m.\u001b[0m\u001b[0mall\u001b[0m\u001b[1;33m(\u001b[0m\u001b[0msp\u001b[0m\u001b[1;33m.\u001b[0m\u001b[0mdot\u001b[0m\u001b[1;33m(\u001b[0m\u001b[0mA\u001b[0m\u001b[1;33m,\u001b[0m \u001b[0mxi\u001b[0m\u001b[1;33m)\u001b[0m \u001b[1;33m-\u001b[0m \u001b[0mb\u001b[0m \u001b[1;33m<=\u001b[0m \u001b[0mtol\u001b[0m\u001b[1;33m)\u001b[0m\u001b[1;33m:\u001b[0m\u001b[1;33m\u001b[0m\u001b[0m\n\u001b[0m\u001b[0;32m    338\u001b[0m         \u001b[1;32mreturn\u001b[0m \u001b[0mTrue\u001b[0m\u001b[1;33m\u001b[0m\u001b[0m\n\u001b[0;32m    339\u001b[0m     \u001b[1;32melse\u001b[0m\u001b[1;33m:\u001b[0m\u001b[1;33m\u001b[0m\u001b[0m\n",
      "\u001b[1;31mValueError\u001b[0m: shapes (4,3) and (4,) not aligned: 3 (dim 1) != 4 (dim 0)"
     ]
    }
   ],
   "source": [
    "ks = []\n",
    "for i, ci in enumerate(C):\n",
    "    if artools.in_region(ci, A, b):\n",
    "        ks.append(i)"
   ]
  },
  {
   "cell_type": "markdown",
   "metadata": {},
   "source": [
    "### Plot 'possible' points"
   ]
  },
  {
   "cell_type": "code",
   "execution_count": null,
   "metadata": {
    "collapsed": true
   },
   "outputs": [],
   "source": [
    "# plot random points in the feasible region\n",
    "% matplotlib qt\n",
    "fig1 = artools.plot_region3d(Cs, color=\"b\", alpha=0.25)\n",
    "fig1.hold(True)\n",
    "ax1 = fig1.gca()\n",
    "\n",
    "# to avoid dimensional error \n",
    "hull_pts = hull_pts[:, 0:3]\n",
    "\n",
    "# create a new figure in the same axis \n",
    "fig2 = artools.plot_region3d(hull_pts, ax=ax1)\n",
    "\n",
    "# plot feed points\n",
    "ax1.plot(Cf0s[:, 0], Cf0s[:, 1], Cf0s[:, 2], 'bo')\n",
    "\n",
    "C = C[:, 0:3]\n",
    "ax1.plot(C[ks, 0], C[ks, 1], C[ks, 2], 'r.')\n",
    "\n",
    "# plot PFRs from feed points\n",
    "ax1.plot(pfr_cs_1[:, 0], pfr_cs_1[:, 1], pfr_cs_1[:, 2], 'r')\n",
    "ax1.plot(pfr_cs_2[:, 0], pfr_cs_2[:, 1], pfr_cs_2[:, 2], 'r')\n",
    "ax1.plot(pfr_cs_3[:, 0], pfr_cs_3[:, 1], pfr_cs_3[:, 2], 'r')\n",
    "\n",
    "# plot points\n",
    "ax1.plot( Cs[:, 0], Cs[:, 1], Cs[:, 2], 'k.')\n",
    "\n",
    "ax1.set_xlabel('cA (mol/ L)')\n",
    "ax1.set_ylabel('cB (mol/ L)')\n",
    "ax1.set_zlabel('cC (mol/ L)')\n",
    "ax1.set_title('random points in stoich_subspace')\n",
    "\n",
    "plt.show(fig1) "
   ]
  },
  {
   "cell_type": "code",
   "execution_count": null,
   "metadata": {
    "collapsed": true
   },
   "outputs": [],
   "source": []
  }
 ],
 "metadata": {
  "kernelspec": {
   "display_name": "Python 2",
   "language": "python",
   "name": "python2"
  }
 },
 "nbformat": 4,
 "nbformat_minor": 0
}
